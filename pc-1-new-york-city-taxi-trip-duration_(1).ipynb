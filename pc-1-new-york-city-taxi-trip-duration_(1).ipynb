{
 "cells": [
  {
   "cell_type": "code",
   "execution_count": 8,
   "id": "1973077c",
   "metadata": {
    "_cell_guid": "b1076dfc-b9ad-4769-8c92-a6c4dae69d19",
    "_uuid": "8f2839f25d086af736a60e9eeb907d3b93b6e0e5",
    "execution": {
     "iopub.execute_input": "2023-10-10T06:28:44.512612Z",
     "iopub.status.busy": "2023-10-10T06:28:44.512004Z",
     "iopub.status.idle": "2023-10-10T06:28:48.471157Z",
     "shell.execute_reply": "2023-10-10T06:28:48.470118Z"
    },
    "papermill": {
     "duration": 3.974263,
     "end_time": "2023-10-10T06:28:48.473581",
     "exception": false,
     "start_time": "2023-10-10T06:28:44.499318",
     "status": "completed"
    },
    "tags": []
   },
   "outputs": [
    {
     "name": "stdout",
     "output_type": "stream",
     "text": [
      "no change     /Users/vrushalmantri/opt/anaconda3/condabin/conda\n",
      "no change     /Users/vrushalmantri/opt/anaconda3/bin/conda\n",
      "no change     /Users/vrushalmantri/opt/anaconda3/bin/conda-env\n",
      "no change     /Users/vrushalmantri/opt/anaconda3/bin/activate\n",
      "no change     /Users/vrushalmantri/opt/anaconda3/bin/deactivate\n",
      "no change     /Users/vrushalmantri/opt/anaconda3/etc/profile.d/conda.sh\n",
      "no change     /Users/vrushalmantri/opt/anaconda3/etc/fish/conf.d/conda.fish\n",
      "no change     /Users/vrushalmantri/opt/anaconda3/shell/condabin/Conda.psm1\n",
      "no change     /Users/vrushalmantri/opt/anaconda3/shell/condabin/conda-hook.ps1\n",
      "no change     /Users/vrushalmantri/opt/anaconda3/lib/python3.9/site-packages/xontrib/conda.xsh\n",
      "no change     /Users/vrushalmantri/opt/anaconda3/etc/profile.d/conda.csh\n",
      "no change     /Users/vrushalmantri/.zshrc\n",
      "No action taken.\n",
      "\n",
      "CommandNotFoundError: Your shell has not been properly configured to use 'conda activate'.\n",
      "To initialize your shell, run\n",
      "\n",
      "    $ conda init <SHELL_NAME>\n",
      "\n",
      "Currently supported shells are:\n",
      "  - bash\n",
      "  - fish\n",
      "  - tcsh\n",
      "  - xonsh\n",
      "  - zsh\n",
      "  - powershell\n",
      "\n",
      "See 'conda init --help' for more information and options.\n",
      "\n",
      "IMPORTANT: You may need to close and restart your shell after running 'conda init'.\n",
      "\n",
      "\n"
     ]
    },
    {
     "ename": "OSError",
     "evalue": "dlopen(/Users/vrushalmantri/opt/anaconda3/lib/python3.9/site-packages/lightgbm/lib/lib_lightgbm.so, 0x0006): Library not loaded: /usr/local/opt/libomp/lib/libomp.dylib\n  Referenced from: <3AF1EF0C-311C-31EC-BCE3-679F37ABEE16> /Users/vrushalmantri/opt/anaconda3/lib/python3.9/site-packages/lightgbm/lib/lib_lightgbm.so\n  Reason: tried: '/usr/local/opt/libomp/lib/libomp.dylib' (no such file), '/System/Volumes/Preboot/Cryptexes/OS/usr/local/opt/libomp/lib/libomp.dylib' (no such file), '/usr/local/opt/libomp/lib/libomp.dylib' (no such file), '/usr/local/lib/libomp.dylib' (no such file), '/usr/lib/libomp.dylib' (no such file, not in dyld cache)",
     "output_type": "error",
     "traceback": [
      "\u001b[0;31m---------------------------------------------------------------------------\u001b[0m",
      "\u001b[0;31mOSError\u001b[0m                                   Traceback (most recent call last)",
      "\u001b[0;32m/var/folders/cs/wy7g8nw52_bcg4mp53wnz8700000gn/T/ipykernel_60129/1756958547.py\u001b[0m in \u001b[0;36m<module>\u001b[0;34m\u001b[0m\n\u001b[1;32m     10\u001b[0m \u001b[0;31m# Models\u001b[0m\u001b[0;34m\u001b[0m\u001b[0;34m\u001b[0m\u001b[0m\n\u001b[1;32m     11\u001b[0m \u001b[0;32mfrom\u001b[0m \u001b[0msklearn\u001b[0m\u001b[0;34m.\u001b[0m\u001b[0mensemble\u001b[0m \u001b[0;32mimport\u001b[0m \u001b[0mStackingRegressor\u001b[0m\u001b[0;34m\u001b[0m\u001b[0;34m\u001b[0m\u001b[0m\n\u001b[0;32m---> 12\u001b[0;31m \u001b[0;32mfrom\u001b[0m \u001b[0mlightgbm\u001b[0m \u001b[0;32mimport\u001b[0m \u001b[0mLGBMRegressor\u001b[0m\u001b[0;34m\u001b[0m\u001b[0;34m\u001b[0m\u001b[0m\n\u001b[0m\u001b[1;32m     13\u001b[0m \u001b[0;34m\u001b[0m\u001b[0m\n\u001b[1;32m     14\u001b[0m \u001b[0;32mimport\u001b[0m \u001b[0mmatplotlib\u001b[0m\u001b[0;34m.\u001b[0m\u001b[0mpyplot\u001b[0m \u001b[0;32mas\u001b[0m \u001b[0mplt\u001b[0m\u001b[0;34m\u001b[0m\u001b[0;34m\u001b[0m\u001b[0m\n",
      "\u001b[0;32m~/opt/anaconda3/lib/python3.9/site-packages/lightgbm/__init__.py\u001b[0m in \u001b[0;36m<module>\u001b[0;34m\u001b[0m\n\u001b[1;32m      6\u001b[0m \u001b[0;32mfrom\u001b[0m \u001b[0mpathlib\u001b[0m \u001b[0;32mimport\u001b[0m \u001b[0mPath\u001b[0m\u001b[0;34m\u001b[0m\u001b[0;34m\u001b[0m\u001b[0m\n\u001b[1;32m      7\u001b[0m \u001b[0;34m\u001b[0m\u001b[0m\n\u001b[0;32m----> 8\u001b[0;31m \u001b[0;32mfrom\u001b[0m \u001b[0;34m.\u001b[0m\u001b[0mbasic\u001b[0m \u001b[0;32mimport\u001b[0m \u001b[0mBooster\u001b[0m\u001b[0;34m,\u001b[0m \u001b[0mDataset\u001b[0m\u001b[0;34m,\u001b[0m \u001b[0mSequence\u001b[0m\u001b[0;34m,\u001b[0m \u001b[0mregister_logger\u001b[0m\u001b[0;34m\u001b[0m\u001b[0;34m\u001b[0m\u001b[0m\n\u001b[0m\u001b[1;32m      9\u001b[0m \u001b[0;32mfrom\u001b[0m \u001b[0;34m.\u001b[0m\u001b[0mcallback\u001b[0m \u001b[0;32mimport\u001b[0m \u001b[0mearly_stopping\u001b[0m\u001b[0;34m,\u001b[0m \u001b[0mlog_evaluation\u001b[0m\u001b[0;34m,\u001b[0m \u001b[0mrecord_evaluation\u001b[0m\u001b[0;34m,\u001b[0m \u001b[0mreset_parameter\u001b[0m\u001b[0;34m\u001b[0m\u001b[0;34m\u001b[0m\u001b[0m\n\u001b[1;32m     10\u001b[0m \u001b[0;32mfrom\u001b[0m \u001b[0;34m.\u001b[0m\u001b[0mengine\u001b[0m \u001b[0;32mimport\u001b[0m \u001b[0mCVBooster\u001b[0m\u001b[0;34m,\u001b[0m \u001b[0mcv\u001b[0m\u001b[0;34m,\u001b[0m \u001b[0mtrain\u001b[0m\u001b[0;34m\u001b[0m\u001b[0;34m\u001b[0m\u001b[0m\n",
      "\u001b[0;32m~/opt/anaconda3/lib/python3.9/site-packages/lightgbm/basic.py\u001b[0m in \u001b[0;36m<module>\u001b[0;34m\u001b[0m\n\u001b[1;32m    224\u001b[0m     \u001b[0m_LIB\u001b[0m \u001b[0;34m=\u001b[0m \u001b[0mMock\u001b[0m\u001b[0;34m(\u001b[0m\u001b[0mctypes\u001b[0m\u001b[0;34m.\u001b[0m\u001b[0mCDLL\u001b[0m\u001b[0;34m)\u001b[0m  \u001b[0;31m# type: ignore\u001b[0m\u001b[0;34m\u001b[0m\u001b[0;34m\u001b[0m\u001b[0m\n\u001b[1;32m    225\u001b[0m \u001b[0;32melse\u001b[0m\u001b[0;34m:\u001b[0m\u001b[0;34m\u001b[0m\u001b[0;34m\u001b[0m\u001b[0m\n\u001b[0;32m--> 226\u001b[0;31m     \u001b[0m_LIB\u001b[0m \u001b[0;34m=\u001b[0m \u001b[0m_load_lib\u001b[0m\u001b[0;34m(\u001b[0m\u001b[0;34m)\u001b[0m\u001b[0;34m\u001b[0m\u001b[0;34m\u001b[0m\u001b[0m\n\u001b[0m\u001b[1;32m    227\u001b[0m \u001b[0;34m\u001b[0m\u001b[0m\n\u001b[1;32m    228\u001b[0m \u001b[0;34m\u001b[0m\u001b[0m\n",
      "\u001b[0;32m~/opt/anaconda3/lib/python3.9/site-packages/lightgbm/basic.py\u001b[0m in \u001b[0;36m_load_lib\u001b[0;34m()\u001b[0m\n\u001b[1;32m    209\u001b[0m     \u001b[0;34m\"\"\"Load LightGBM library.\"\"\"\u001b[0m\u001b[0;34m\u001b[0m\u001b[0;34m\u001b[0m\u001b[0m\n\u001b[1;32m    210\u001b[0m     \u001b[0mlib_path\u001b[0m \u001b[0;34m=\u001b[0m \u001b[0mfind_lib_path\u001b[0m\u001b[0;34m(\u001b[0m\u001b[0;34m)\u001b[0m\u001b[0;34m\u001b[0m\u001b[0;34m\u001b[0m\u001b[0m\n\u001b[0;32m--> 211\u001b[0;31m     \u001b[0mlib\u001b[0m \u001b[0;34m=\u001b[0m \u001b[0mctypes\u001b[0m\u001b[0;34m.\u001b[0m\u001b[0mcdll\u001b[0m\u001b[0;34m.\u001b[0m\u001b[0mLoadLibrary\u001b[0m\u001b[0;34m(\u001b[0m\u001b[0mlib_path\u001b[0m\u001b[0;34m[\u001b[0m\u001b[0;36m0\u001b[0m\u001b[0;34m]\u001b[0m\u001b[0;34m)\u001b[0m\u001b[0;34m\u001b[0m\u001b[0;34m\u001b[0m\u001b[0m\n\u001b[0m\u001b[1;32m    212\u001b[0m     \u001b[0mlib\u001b[0m\u001b[0;34m.\u001b[0m\u001b[0mLGBM_GetLastError\u001b[0m\u001b[0;34m.\u001b[0m\u001b[0mrestype\u001b[0m \u001b[0;34m=\u001b[0m \u001b[0mctypes\u001b[0m\u001b[0;34m.\u001b[0m\u001b[0mc_char_p\u001b[0m\u001b[0;34m\u001b[0m\u001b[0;34m\u001b[0m\u001b[0m\n\u001b[1;32m    213\u001b[0m     \u001b[0mcallback\u001b[0m \u001b[0;34m=\u001b[0m \u001b[0mctypes\u001b[0m\u001b[0;34m.\u001b[0m\u001b[0mCFUNCTYPE\u001b[0m\u001b[0;34m(\u001b[0m\u001b[0;32mNone\u001b[0m\u001b[0;34m,\u001b[0m \u001b[0mctypes\u001b[0m\u001b[0;34m.\u001b[0m\u001b[0mc_char_p\u001b[0m\u001b[0;34m)\u001b[0m\u001b[0;34m\u001b[0m\u001b[0;34m\u001b[0m\u001b[0m\n",
      "\u001b[0;32m~/opt/anaconda3/lib/python3.9/ctypes/__init__.py\u001b[0m in \u001b[0;36mLoadLibrary\u001b[0;34m(self, name)\u001b[0m\n\u001b[1;32m    458\u001b[0m \u001b[0;34m\u001b[0m\u001b[0m\n\u001b[1;32m    459\u001b[0m     \u001b[0;32mdef\u001b[0m \u001b[0mLoadLibrary\u001b[0m\u001b[0;34m(\u001b[0m\u001b[0mself\u001b[0m\u001b[0;34m,\u001b[0m \u001b[0mname\u001b[0m\u001b[0;34m)\u001b[0m\u001b[0;34m:\u001b[0m\u001b[0;34m\u001b[0m\u001b[0;34m\u001b[0m\u001b[0m\n\u001b[0;32m--> 460\u001b[0;31m         \u001b[0;32mreturn\u001b[0m \u001b[0mself\u001b[0m\u001b[0;34m.\u001b[0m\u001b[0m_dlltype\u001b[0m\u001b[0;34m(\u001b[0m\u001b[0mname\u001b[0m\u001b[0;34m)\u001b[0m\u001b[0;34m\u001b[0m\u001b[0;34m\u001b[0m\u001b[0m\n\u001b[0m\u001b[1;32m    461\u001b[0m \u001b[0;34m\u001b[0m\u001b[0m\n\u001b[1;32m    462\u001b[0m     \u001b[0m__class_getitem__\u001b[0m \u001b[0;34m=\u001b[0m \u001b[0mclassmethod\u001b[0m\u001b[0;34m(\u001b[0m\u001b[0m_types\u001b[0m\u001b[0;34m.\u001b[0m\u001b[0mGenericAlias\u001b[0m\u001b[0;34m)\u001b[0m\u001b[0;34m\u001b[0m\u001b[0;34m\u001b[0m\u001b[0m\n",
      "\u001b[0;32m~/opt/anaconda3/lib/python3.9/ctypes/__init__.py\u001b[0m in \u001b[0;36m__init__\u001b[0;34m(self, name, mode, handle, use_errno, use_last_error, winmode)\u001b[0m\n\u001b[1;32m    380\u001b[0m \u001b[0;34m\u001b[0m\u001b[0m\n\u001b[1;32m    381\u001b[0m         \u001b[0;32mif\u001b[0m \u001b[0mhandle\u001b[0m \u001b[0;32mis\u001b[0m \u001b[0;32mNone\u001b[0m\u001b[0;34m:\u001b[0m\u001b[0;34m\u001b[0m\u001b[0;34m\u001b[0m\u001b[0m\n\u001b[0;32m--> 382\u001b[0;31m             \u001b[0mself\u001b[0m\u001b[0;34m.\u001b[0m\u001b[0m_handle\u001b[0m \u001b[0;34m=\u001b[0m \u001b[0m_dlopen\u001b[0m\u001b[0;34m(\u001b[0m\u001b[0mself\u001b[0m\u001b[0;34m.\u001b[0m\u001b[0m_name\u001b[0m\u001b[0;34m,\u001b[0m \u001b[0mmode\u001b[0m\u001b[0;34m)\u001b[0m\u001b[0;34m\u001b[0m\u001b[0;34m\u001b[0m\u001b[0m\n\u001b[0m\u001b[1;32m    383\u001b[0m         \u001b[0;32melse\u001b[0m\u001b[0;34m:\u001b[0m\u001b[0;34m\u001b[0m\u001b[0;34m\u001b[0m\u001b[0m\n\u001b[1;32m    384\u001b[0m             \u001b[0mself\u001b[0m\u001b[0;34m.\u001b[0m\u001b[0m_handle\u001b[0m \u001b[0;34m=\u001b[0m \u001b[0mhandle\u001b[0m\u001b[0;34m\u001b[0m\u001b[0;34m\u001b[0m\u001b[0m\n",
      "\u001b[0;31mOSError\u001b[0m: dlopen(/Users/vrushalmantri/opt/anaconda3/lib/python3.9/site-packages/lightgbm/lib/lib_lightgbm.so, 0x0006): Library not loaded: /usr/local/opt/libomp/lib/libomp.dylib\n  Referenced from: <3AF1EF0C-311C-31EC-BCE3-679F37ABEE16> /Users/vrushalmantri/opt/anaconda3/lib/python3.9/site-packages/lightgbm/lib/lib_lightgbm.so\n  Reason: tried: '/usr/local/opt/libomp/lib/libomp.dylib' (no such file), '/System/Volumes/Preboot/Cryptexes/OS/usr/local/opt/libomp/lib/libomp.dylib' (no such file), '/usr/local/opt/libomp/lib/libomp.dylib' (no such file), '/usr/local/lib/libomp.dylib' (no such file), '/usr/lib/libomp.dylib' (no such file, not in dyld cache)"
     ]
    }
   ],
   "source": [
    "import numpy as np # linear algebra\n",
    "import pandas as pd # data processing, CSV file I/O (e.g. pd.read_csv)\n",
    "import time\n",
    "from sklearn.decomposition import PCA\n",
    "from sklearn.cluster import KMeans,MiniBatchKMeans\n",
    "from sklearn.model_selection import train_test_split,KFold,RandomizedSearchCV\n",
    " \n",
    "# Models\n",
    "from sklearn.ensemble import StackingRegressor\n",
    "from lightgbm import LGBMRegressor\n",
    "\n",
    "import matplotlib.pyplot as plt\n",
    "import seaborn as sns\n",
    "import folium\n",
    "sns.set(style='darkgrid')\n",
    "pd.set_option('display.max_columns', None)"
   ]
  },
  {
   "cell_type": "markdown",
   "id": "03351485",
   "metadata": {
    "papermill": {
     "duration": 0.010504,
     "end_time": "2023-10-10T06:28:48.495194",
     "exception": false,
     "start_time": "2023-10-10T06:28:48.484690",
     "status": "completed"
    },
    "tags": []
   },
   "source": [
    "* **id** - a unique identifier for each trip\n",
    "* **vendor_id** - a code indicating the provider associated with the trip record\n",
    "* **pickup_datetime** - date and time when the meter was engaged\n",
    "* **dropoff_datetime** - date and time when the meter was disengaged\n",
    "* **passenger_count** - the number of passengers in the vehicle (driver entered value)\n",
    "* **pickup_longitude** - the longitude where the meter was engaged\n",
    "* **pickup_latitude** - the latitude where the meter was engaged\n",
    "* **dropoff_longitude** - the longitude where the meter was disengaged\n",
    "* **dropoff_latitude** - the latitude where the meter was disengaged\n",
    "* **store_and_fwd_flag** - This flag indicates whether the trip record was held in vehicle memory before sending to the vendor because the vehicle did not have a connection to the server - Y=store and forward; N=not a store and forward trip\n",
    "* **trip_duration** - duration of the trip in seconds"
   ]
  },
  {
   "cell_type": "code",
   "execution_count": null,
   "id": "122c4739",
   "metadata": {
    "execution": {
     "iopub.execute_input": "2023-10-10T06:28:48.518742Z",
     "iopub.status.busy": "2023-10-10T06:28:48.518148Z",
     "iopub.status.idle": "2023-10-10T06:28:57.406142Z",
     "shell.execute_reply": "2023-10-10T06:28:57.404525Z"
    },
    "papermill": {
     "duration": 8.902875,
     "end_time": "2023-10-10T06:28:57.408853",
     "exception": false,
     "start_time": "2023-10-10T06:28:48.505978",
     "status": "completed"
    },
    "tags": []
   },
   "outputs": [],
   "source": [
    "train = pd.read_csv('/Users/vrushalmantri/Downloads/train (1).zip')\n",
    "test = pd.read_csv('/Users/vrushalmantri/Downloads/test (1).zip')\n",
    "print(f'Total train rows: {train.shape[0]}')\n",
    "print(f'Total test rows: {test.shape[0]}')"
   ]
  },
  {
   "cell_type": "code",
   "execution_count": null,
   "id": "0beb82c6",
   "metadata": {
    "execution": {
     "iopub.execute_input": "2023-10-10T06:28:57.433192Z",
     "iopub.status.busy": "2023-10-10T06:28:57.432809Z",
     "iopub.status.idle": "2023-10-10T06:28:57.459547Z",
     "shell.execute_reply": "2023-10-10T06:28:57.458421Z"
    },
    "papermill": {
     "duration": 0.041381,
     "end_time": "2023-10-10T06:28:57.461726",
     "exception": false,
     "start_time": "2023-10-10T06:28:57.420345",
     "status": "completed"
    },
    "tags": []
   },
   "outputs": [],
   "source": [
    "train.head()"
   ]
  },
  {
   "cell_type": "code",
   "execution_count": null,
   "id": "14c9a132",
   "metadata": {
    "execution": {
     "iopub.execute_input": "2023-10-10T06:28:57.487456Z",
     "iopub.status.busy": "2023-10-10T06:28:57.486838Z",
     "iopub.status.idle": "2023-10-10T06:28:57.813145Z",
     "shell.execute_reply": "2023-10-10T06:28:57.812098Z"
    },
    "papermill": {
     "duration": 0.342484,
     "end_time": "2023-10-10T06:28:57.815680",
     "exception": false,
     "start_time": "2023-10-10T06:28:57.473196",
     "status": "completed"
    },
    "tags": []
   },
   "outputs": [],
   "source": [
    "train.info()"
   ]
  },
  {
   "cell_type": "code",
   "execution_count": null,
   "id": "2e1a8194",
   "metadata": {
    "execution": {
     "iopub.execute_input": "2023-10-10T06:28:57.841989Z",
     "iopub.status.busy": "2023-10-10T06:28:57.840762Z",
     "iopub.status.idle": "2023-10-10T06:29:03.105438Z",
     "shell.execute_reply": "2023-10-10T06:29:03.104371Z"
    },
    "papermill": {
     "duration": 5.280595,
     "end_time": "2023-10-10T06:29:03.107680",
     "exception": false,
     "start_time": "2023-10-10T06:28:57.827085",
     "status": "completed"
    },
    "tags": []
   },
   "outputs": [],
   "source": [
    "train.describe(include = 'all')"
   ]
  },
  {
   "cell_type": "markdown",
   "id": "48741c9a",
   "metadata": {
    "papermill": {
     "duration": 0.011148,
     "end_time": "2023-10-10T06:29:03.130737",
     "exception": false,
     "start_time": "2023-10-10T06:29:03.119589",
     "status": "completed"
    },
    "tags": []
   },
   "source": [
    "* id column has all unique values for both train and test sets\n",
    "* vendor_id has only 2 unique values (1 or 2) with a median of 2\n",
    "* passenger_count has 9 unique values (0,1,2,3,4,5,6,7,8 or 9) with a median of 1\n",
    "* store_and_fwd_flag has 2 unique values (Y or N)"
   ]
  },
  {
   "cell_type": "code",
   "execution_count": null,
   "id": "6a712309",
   "metadata": {
    "execution": {
     "iopub.execute_input": "2023-10-10T06:29:03.155434Z",
     "iopub.status.busy": "2023-10-10T06:29:03.155026Z",
     "iopub.status.idle": "2023-10-10T06:29:03.533439Z",
     "shell.execute_reply": "2023-10-10T06:29:03.532328Z"
    },
    "papermill": {
     "duration": 0.39381,
     "end_time": "2023-10-10T06:29:03.535778",
     "exception": false,
     "start_time": "2023-10-10T06:29:03.141968",
     "status": "completed"
    },
    "tags": []
   },
   "outputs": [],
   "source": [
    "# check for missing values -> No missing values found\n",
    "print('Checking for missing data in train:')\n",
    "print('Missing values found:',train.isna().sum().sum())\n",
    "print('-'*30)\n",
    "print('Checking for missing data in test:')\n",
    "print('Missing values found:',test.isna().sum().sum())"
   ]
  },
  {
   "cell_type": "code",
   "execution_count": null,
   "id": "ad079107",
   "metadata": {
    "execution": {
     "iopub.execute_input": "2023-10-10T06:29:03.560048Z",
     "iopub.status.busy": "2023-10-10T06:29:03.559686Z",
     "iopub.status.idle": "2023-10-10T06:29:08.213447Z",
     "shell.execute_reply": "2023-10-10T06:29:08.212635Z"
    },
    "papermill": {
     "duration": 4.668504,
     "end_time": "2023-10-10T06:29:08.215722",
     "exception": false,
     "start_time": "2023-10-10T06:29:03.547218",
     "status": "completed"
    },
    "tags": []
   },
   "outputs": [],
   "source": [
    "# parsing dates and checking for consistent trip_duration values\n",
    "# train\n",
    "train['pickup_datetime'] = pd.to_datetime(train['pickup_datetime'])\n",
    "train['pickup_date'] = pd.to_datetime(train['pickup_datetime'].dt.date)\n",
    "train['weekday'] = train['pickup_datetime'].dt.weekday\n",
    "train['pickup_hour'] = train['pickup_datetime'].dt.hour\n",
    "train['pickup_month'] = train['pickup_datetime'].dt.month\n",
    "train['day_of_year'] = train['pickup_datetime'].dt.dayofyear\n",
    "train['date'] = pd.to_datetime(train['pickup_datetime'].dt.date)\n",
    "train['dropoff_datetime'] = pd.to_datetime(train['dropoff_datetime'])\n",
    "train['dropoff_date'] = pd.to_datetime(train['dropoff_datetime'].dt.date)\n",
    "\n",
    "#total duration in seconds\n",
    "train['calculated_duration'] = (train['dropoff_datetime'] - train['pickup_datetime']).dt.total_seconds() \n",
    "inconsistent_trips_indices = train[(np.abs(train['calculated_duration'] - train['trip_duration'])) > 1].index\n",
    "\n",
    "# test\n",
    "test['pickup_datetime'] = pd.to_datetime(test['pickup_datetime'])\n",
    "test['pickup_date'] = pd.to_datetime(test['pickup_datetime'].dt.date)\n",
    "test['weekday'] = test['pickup_datetime'].dt.weekday\n",
    "test['pickup_hour'] = test['pickup_datetime'].dt.hour\n",
    "test['pickup_month'] = test['pickup_datetime'].dt.month\n",
    "test['day_of_year'] = test['pickup_datetime'].dt.dayofyear\n",
    "test['date'] = pd.to_datetime(test['pickup_datetime'].dt.date)\n",
    "\n",
    "\n",
    "print(f'Inconsistent trip durations found at indices: {inconsistent_trips_indices}') if (len(inconsistent_trips_indices) > 0) else print('All Trip durations are OK!!')\n",
    "train.drop(['calculated_duration'],axis=1,inplace=True)"
   ]
  },
  {
   "cell_type": "code",
   "execution_count": null,
   "id": "9f4748c4",
   "metadata": {
    "execution": {
     "iopub.execute_input": "2023-10-10T06:29:08.241242Z",
     "iopub.status.busy": "2023-10-10T06:29:08.240530Z",
     "iopub.status.idle": "2023-10-10T06:29:10.043887Z",
     "shell.execute_reply": "2023-10-10T06:29:10.042761Z"
    },
    "papermill": {
     "duration": 1.818494,
     "end_time": "2023-10-10T06:29:10.046253",
     "exception": false,
     "start_time": "2023-10-10T06:29:08.227759",
     "status": "completed"
    },
    "tags": []
   },
   "outputs": [],
   "source": [
    "# check train and test overlap - to make sure that we are really training on features that are relevant to our test data set \n",
    "train['pickup_date'] = pd.to_datetime(pd.to_datetime(train['pickup_datetime']).dt.date)\n",
    "test['pickup_date'] = pd.to_datetime(pd.to_datetime(test['pickup_datetime']).dt.date)\n",
    "\n",
    "fig,ax1 = plt.subplots(1,1,figsize=(15,7))\n",
    "plt.plot(train.groupby('pickup_date').count()[['vendor_id']], 'o-', label='train')\n",
    "plt.plot(test.groupby('pickup_date').count()[['vendor_id']], 'o-', label='test')\n",
    "ax1.set_title('Train and Test Trips over Time.')\n",
    "ax1.legend(loc=0)\n",
    "ax1.set_ylabel('Trips')"
   ]
  },
  {
   "cell_type": "code",
   "execution_count": null,
   "id": "3f7f64b8",
   "metadata": {
    "execution": {
     "iopub.execute_input": "2023-10-10T06:29:10.075341Z",
     "iopub.status.busy": "2023-10-10T06:29:10.074968Z",
     "iopub.status.idle": "2023-10-10T06:29:11.205040Z",
     "shell.execute_reply": "2023-10-10T06:29:11.203849Z"
    },
    "papermill": {
     "duration": 1.148382,
     "end_time": "2023-10-10T06:29:11.208210",
     "exception": false,
     "start_time": "2023-10-10T06:29:10.059828",
     "status": "completed"
    },
    "tags": []
   },
   "outputs": [],
   "source": [
    "city_long_border = (-74.03, -73.75)\n",
    "city_lat_border = (40.63, 40.85)\n",
    "fig, ax = plt.subplots(ncols=2, sharex=True, sharey=True,figsize=(15,7))\n",
    "ax[0].scatter(train['pickup_longitude'].values[:50000], train['pickup_latitude'].values[:50000],\n",
    "              color='purple', s=1, label='train', alpha=0.1)\n",
    "\n",
    "ax[1].scatter(test['pickup_longitude'].values[:50000], test['pickup_latitude'].values[:50000],\n",
    "              color='red', s=1, label='test', alpha=0.1)\n",
    "\n",
    "\n",
    "fig.suptitle('Train and test area complete overlap.')\n",
    "ax[0].legend(loc=0)\n",
    "ax[0].set_ylabel('latitude')\n",
    "ax[0].set_xlabel('longitude')\n",
    "ax[1].set_xlabel('longitude')\n",
    "ax[1].legend(loc=0)\n",
    "plt.ylim(city_lat_border)\n",
    "plt.xlim(city_long_border)\n",
    "plt.show()"
   ]
  },
  {
   "cell_type": "markdown",
   "id": "9ebb459f",
   "metadata": {
    "papermill": {
     "duration": 0.016136,
     "end_time": "2023-10-10T06:29:11.303370",
     "exception": false,
     "start_time": "2023-10-10T06:29:11.287234",
     "status": "completed"
    },
    "tags": []
   },
   "source": [
    "We find that our train and test data sets do indeed cover the same time range and geographical area."
   ]
  },
  {
   "cell_type": "code",
   "execution_count": null,
   "id": "0c8c42b5",
   "metadata": {
    "execution": {
     "iopub.execute_input": "2023-10-10T06:29:11.341781Z",
     "iopub.status.busy": "2023-10-10T06:29:11.340396Z",
     "iopub.status.idle": "2023-10-10T06:29:19.008217Z",
     "shell.execute_reply": "2023-10-10T06:29:19.006537Z"
    },
    "papermill": {
     "duration": 7.69089,
     "end_time": "2023-10-10T06:29:19.010705",
     "exception": false,
     "start_time": "2023-10-10T06:29:11.319815",
     "status": "completed"
    },
    "tags": []
   },
   "outputs": [],
   "source": [
    "fig,ax = plt.subplots(1,1,figsize=(15,4))\n",
    "\n",
    "hist1 = sns.histplot(data = train, x=np.log(1+train['trip_duration']),ax=ax,kde=True)\n",
    "hist1.set(title='Distribution of trip_duration')\n",
    "fig.show()"
   ]
  },
  {
   "cell_type": "code",
   "execution_count": null,
   "id": "2912f305",
   "metadata": {
    "execution": {
     "iopub.execute_input": "2023-10-10T06:29:19.047280Z",
     "iopub.status.busy": "2023-10-10T06:29:19.046912Z",
     "iopub.status.idle": "2023-10-10T06:29:19.080592Z",
     "shell.execute_reply": "2023-10-10T06:29:19.079518Z"
    },
    "papermill": {
     "duration": 0.054893,
     "end_time": "2023-10-10T06:29:19.082945",
     "exception": false,
     "start_time": "2023-10-10T06:29:19.028052",
     "status": "completed"
    },
    "tags": []
   },
   "outputs": [],
   "source": [
    "# converting trip duration into log-space\n",
    "train.loc[:,'trip_duration'] = np.log(1+train.loc[:,'trip_duration'])\n",
    "print('Converted trip_duration into log space:')"
   ]
  },
  {
   "cell_type": "code",
   "execution_count": 2,
   "id": "06d6a3a9",
   "metadata": {
    "execution": {
     "iopub.execute_input": "2023-10-10T06:29:19.118938Z",
     "iopub.status.busy": "2023-10-10T06:29:19.118560Z",
     "iopub.status.idle": "2023-10-10T06:29:25.025674Z",
     "shell.execute_reply": "2023-10-10T06:29:25.024908Z"
    },
    "papermill": {
     "duration": 5.92832,
     "end_time": "2023-10-10T06:29:25.028466",
     "exception": false,
     "start_time": "2023-10-10T06:29:19.100146",
     "status": "completed"
    },
    "tags": []
   },
   "outputs": [
    {
     "ename": "NameError",
     "evalue": "name 'plt' is not defined",
     "output_type": "error",
     "traceback": [
      "\u001b[0;31m---------------------------------------------------------------------------\u001b[0m",
      "\u001b[0;31mNameError\u001b[0m                                 Traceback (most recent call last)",
      "\u001b[0;32m/var/folders/cs/wy7g8nw52_bcg4mp53wnz8700000gn/T/ipykernel_52599/316930980.py\u001b[0m in \u001b[0;36m<module>\u001b[0;34m\u001b[0m\n\u001b[0;32m----> 1\u001b[0;31m \u001b[0mfig\u001b[0m \u001b[0;34m=\u001b[0m \u001b[0mplt\u001b[0m\u001b[0;34m.\u001b[0m\u001b[0mfigure\u001b[0m\u001b[0;34m(\u001b[0m\u001b[0mfigsize\u001b[0m\u001b[0;34m=\u001b[0m\u001b[0;34m(\u001b[0m\u001b[0;36m15\u001b[0m\u001b[0;34m,\u001b[0m\u001b[0;36m10\u001b[0m\u001b[0;34m)\u001b[0m\u001b[0;34m)\u001b[0m\u001b[0;34m\u001b[0m\u001b[0;34m\u001b[0m\u001b[0m\n\u001b[0m\u001b[1;32m      2\u001b[0m \u001b[0;32mfor\u001b[0m \u001b[0midx\u001b[0m\u001b[0;34m,\u001b[0m\u001b[0mcol\u001b[0m \u001b[0;32min\u001b[0m \u001b[0menumerate\u001b[0m\u001b[0;34m(\u001b[0m\u001b[0;34m[\u001b[0m\u001b[0;34m'vendor_id'\u001b[0m\u001b[0;34m,\u001b[0m\u001b[0;34m'passenger_count'\u001b[0m\u001b[0;34m,\u001b[0m\u001b[0;34m'store_and_fwd_flag'\u001b[0m\u001b[0;34m,\u001b[0m\u001b[0;34m'pickup_hour'\u001b[0m\u001b[0;34m,\u001b[0m\u001b[0;34m'day_of_year'\u001b[0m\u001b[0;34m,\u001b[0m\u001b[0;34m'pickup_month'\u001b[0m\u001b[0;34m]\u001b[0m\u001b[0;34m)\u001b[0m\u001b[0;34m:\u001b[0m\u001b[0;34m\u001b[0m\u001b[0;34m\u001b[0m\u001b[0m\n\u001b[1;32m      3\u001b[0m     \u001b[0mfig\u001b[0m\u001b[0;34m.\u001b[0m\u001b[0madd_subplot\u001b[0m\u001b[0;34m(\u001b[0m\u001b[0;36m3\u001b[0m\u001b[0;34m,\u001b[0m\u001b[0;36m2\u001b[0m\u001b[0;34m,\u001b[0m\u001b[0midx\u001b[0m\u001b[0;34m+\u001b[0m\u001b[0;36m1\u001b[0m\u001b[0;34m)\u001b[0m\u001b[0;34m\u001b[0m\u001b[0;34m\u001b[0m\u001b[0m\n\u001b[1;32m      4\u001b[0m     \u001b[0mcountplot\u001b[0m \u001b[0;34m=\u001b[0m \u001b[0msns\u001b[0m\u001b[0;34m.\u001b[0m\u001b[0mcountplot\u001b[0m\u001b[0;34m(\u001b[0m\u001b[0mdata\u001b[0m\u001b[0;34m=\u001b[0m\u001b[0mtrain\u001b[0m\u001b[0;34m,\u001b[0m\u001b[0mx\u001b[0m\u001b[0;34m=\u001b[0m\u001b[0mcol\u001b[0m\u001b[0;34m)\u001b[0m\u001b[0;34m\u001b[0m\u001b[0;34m\u001b[0m\u001b[0m\n\u001b[1;32m      5\u001b[0m     \u001b[0mcountplot\u001b[0m\u001b[0;34m.\u001b[0m\u001b[0mset\u001b[0m\u001b[0;34m(\u001b[0m\u001b[0mtitle\u001b[0m\u001b[0;34m=\u001b[0m\u001b[0;34mf'{col} distribuution'\u001b[0m\u001b[0;34m)\u001b[0m\u001b[0;34m\u001b[0m\u001b[0;34m\u001b[0m\u001b[0m\n",
      "\u001b[0;31mNameError\u001b[0m: name 'plt' is not defined"
     ]
    }
   ],
   "source": [
    "fig = plt.figure(figsize=(15,10))\n",
    "for idx,col in enumerate(['vendor_id','passenger_count','store_and_fwd_flag','pickup_hour','day_of_year','pickup_month']):\n",
    "    fig.add_subplot(3,2,idx+1)\n",
    "    countplot = sns.countplot(data=train,x=col)\n",
    "    countplot.set(title=f'{col} distribuution')\n",
    "    \n",
    "fig.suptitle('Categorical and discreate variables distributions')\n",
    "fig.tight_layout()\n",
    "fig.show()"
   ]
  },
  {
   "cell_type": "markdown",
   "id": "be837979",
   "metadata": {
    "papermill": {
     "duration": 0.02058,
     "end_time": "2023-10-10T06:29:25.069936",
     "exception": false,
     "start_time": "2023-10-10T06:29:25.049356",
     "status": "completed"
    },
    "tags": []
   },
   "source": [
    "1. Vendor 2 made more trips than vendor 1\n",
    "2. Most trips were made with 1 passenger\n",
    "3. There were mostly N=not a store and forward trip\n",
    "4. After 12pm there was a dip in the number of rides till 5am . After that there was gradual increase till 4pm evening then again a gradual increase.\n",
    "5. In day_of_year feature , we can see a sudden dip in trips around January. This can be due to weather condition.For this we'll include another dataset of weather."
   ]
  },
  {
   "cell_type": "code",
   "execution_count": 3,
   "id": "ac82ce8e",
   "metadata": {
    "execution": {
     "iopub.execute_input": "2023-10-10T06:29:25.110538Z",
     "iopub.status.busy": "2023-10-10T06:29:25.109890Z",
     "iopub.status.idle": "2023-10-10T06:29:48.837095Z",
     "shell.execute_reply": "2023-10-10T06:29:48.835893Z"
    },
    "papermill": {
     "duration": 23.750695,
     "end_time": "2023-10-10T06:29:48.839741",
     "exception": false,
     "start_time": "2023-10-10T06:29:25.089046",
     "status": "completed"
    },
    "tags": []
   },
   "outputs": [
    {
     "ename": "NameError",
     "evalue": "name 'plt' is not defined",
     "output_type": "error",
     "traceback": [
      "\u001b[0;31m---------------------------------------------------------------------------\u001b[0m",
      "\u001b[0;31mNameError\u001b[0m                                 Traceback (most recent call last)",
      "\u001b[0;32m/var/folders/cs/wy7g8nw52_bcg4mp53wnz8700000gn/T/ipykernel_52599/4111860222.py\u001b[0m in \u001b[0;36m<module>\u001b[0;34m\u001b[0m\n\u001b[1;32m      1\u001b[0m \u001b[0;31m# restrincting the range of lat and long because very few cases are there when the trip is outside NYC and most trips were in Manhatten\u001b[0m\u001b[0;34m\u001b[0m\u001b[0;34m\u001b[0m\u001b[0m\n\u001b[0;32m----> 2\u001b[0;31m \u001b[0mfig\u001b[0m\u001b[0;34m,\u001b[0m\u001b[0max\u001b[0m \u001b[0;34m=\u001b[0m \u001b[0mplt\u001b[0m\u001b[0;34m.\u001b[0m\u001b[0msubplots\u001b[0m\u001b[0;34m(\u001b[0m\u001b[0;36m2\u001b[0m\u001b[0;34m,\u001b[0m\u001b[0;36m2\u001b[0m\u001b[0;34m,\u001b[0m\u001b[0mfigsize\u001b[0m\u001b[0;34m=\u001b[0m\u001b[0;34m(\u001b[0m\u001b[0;36m15\u001b[0m\u001b[0;34m,\u001b[0m\u001b[0;36m8\u001b[0m\u001b[0;34m)\u001b[0m\u001b[0;34m)\u001b[0m\u001b[0;34m\u001b[0m\u001b[0;34m\u001b[0m\u001b[0m\n\u001b[0m\u001b[1;32m      3\u001b[0m \u001b[0;34m\u001b[0m\u001b[0m\n\u001b[1;32m      4\u001b[0m \u001b[0mkde1\u001b[0m \u001b[0;34m=\u001b[0m \u001b[0msns\u001b[0m\u001b[0;34m.\u001b[0m\u001b[0mkdeplot\u001b[0m\u001b[0;34m(\u001b[0m\u001b[0mdata\u001b[0m\u001b[0;34m=\u001b[0m\u001b[0mtrain\u001b[0m\u001b[0;34m,\u001b[0m\u001b[0mx\u001b[0m\u001b[0;34m=\u001b[0m\u001b[0;34m'pickup_longitude'\u001b[0m\u001b[0;34m,\u001b[0m\u001b[0mfill\u001b[0m\u001b[0;34m=\u001b[0m\u001b[0;32mTrue\u001b[0m\u001b[0;34m,\u001b[0m\u001b[0mcolor\u001b[0m\u001b[0;34m=\u001b[0m\u001b[0;34m'green'\u001b[0m\u001b[0;34m,\u001b[0m\u001b[0max\u001b[0m\u001b[0;34m=\u001b[0m\u001b[0max\u001b[0m\u001b[0;34m[\u001b[0m\u001b[0;36m0\u001b[0m\u001b[0;34m,\u001b[0m\u001b[0;36m0\u001b[0m\u001b[0;34m]\u001b[0m\u001b[0;34m)\u001b[0m\u001b[0;34m\u001b[0m\u001b[0;34m\u001b[0m\u001b[0m\n\u001b[1;32m      5\u001b[0m \u001b[0mkde2\u001b[0m \u001b[0;34m=\u001b[0m \u001b[0msns\u001b[0m\u001b[0;34m.\u001b[0m\u001b[0mkdeplot\u001b[0m\u001b[0;34m(\u001b[0m\u001b[0mdata\u001b[0m\u001b[0;34m=\u001b[0m\u001b[0mtrain\u001b[0m\u001b[0;34m,\u001b[0m\u001b[0mx\u001b[0m\u001b[0;34m=\u001b[0m\u001b[0;34m'dropoff_longitude'\u001b[0m\u001b[0;34m,\u001b[0m\u001b[0mfill\u001b[0m\u001b[0;34m=\u001b[0m\u001b[0;32mTrue\u001b[0m\u001b[0;34m,\u001b[0m\u001b[0mcolor\u001b[0m\u001b[0;34m=\u001b[0m\u001b[0;34m'green'\u001b[0m\u001b[0;34m,\u001b[0m\u001b[0max\u001b[0m\u001b[0;34m=\u001b[0m\u001b[0max\u001b[0m\u001b[0;34m[\u001b[0m\u001b[0;36m0\u001b[0m\u001b[0;34m,\u001b[0m\u001b[0;36m1\u001b[0m\u001b[0;34m]\u001b[0m\u001b[0;34m)\u001b[0m\u001b[0;34m\u001b[0m\u001b[0;34m\u001b[0m\u001b[0m\n",
      "\u001b[0;31mNameError\u001b[0m: name 'plt' is not defined"
     ]
    }
   ],
   "source": [
    "# restrincting the range of lat and long because very few cases are there when the trip is outside NYC and most trips were in Manhatten\n",
    "fig,ax = plt.subplots(2,2,figsize=(15,8))\n",
    "\n",
    "kde1 = sns.kdeplot(data=train,x='pickup_longitude',fill=True,color='green',ax=ax[0,0])\n",
    "kde2 = sns.kdeplot(data=train,x='dropoff_longitude',fill=True,color='green',ax=ax[0,1])\n",
    "ax[0,0].set_xlim([-76,-70])\n",
    "ax[0,1].set_xlim([-76,-70])\n",
    "\n",
    "kde3 = sns.kdeplot(data=train,x='pickup_latitude',fill=True,color='red',ax=ax[1,0])\n",
    "kde4 = sns.kdeplot(data=train,x='dropoff_latitude',fill=True,color='red',ax=ax[1,1])\n",
    "ax[1,0].set_xlim([40.6,41])\n",
    "ax[1,1].set_xlim([40.6,41])\n",
    "\n",
    "fig.suptitle('Latitude and Longitude distributions')\n",
    "fig.tight_layout()\n",
    "fig.show()"
   ]
  },
  {
   "cell_type": "code",
   "execution_count": 4,
   "id": "1bb80764",
   "metadata": {
    "execution": {
     "iopub.execute_input": "2023-10-10T06:29:48.882740Z",
     "iopub.status.busy": "2023-10-10T06:29:48.881709Z",
     "iopub.status.idle": "2023-10-10T06:29:54.114083Z",
     "shell.execute_reply": "2023-10-10T06:29:54.113019Z"
    },
    "papermill": {
     "duration": 5.257658,
     "end_time": "2023-10-10T06:29:54.117691",
     "exception": false,
     "start_time": "2023-10-10T06:29:48.860033",
     "status": "completed"
    },
    "tags": []
   },
   "outputs": [
    {
     "ename": "NameError",
     "evalue": "name 'train' is not defined",
     "output_type": "error",
     "traceback": [
      "\u001b[0;31m---------------------------------------------------------------------------\u001b[0m",
      "\u001b[0;31mNameError\u001b[0m                                 Traceback (most recent call last)",
      "\u001b[0;32m/var/folders/cs/wy7g8nw52_bcg4mp53wnz8700000gn/T/ipykernel_52599/380596710.py\u001b[0m in \u001b[0;36m<module>\u001b[0;34m\u001b[0m\n\u001b[1;32m      1\u001b[0m \u001b[0;31m# train\u001b[0m\u001b[0;34m\u001b[0m\u001b[0;34m\u001b[0m\u001b[0m\n\u001b[0;32m----> 2\u001b[0;31m \u001b[0mtrain\u001b[0m \u001b[0;34m=\u001b[0m \u001b[0mtrain\u001b[0m\u001b[0;34m[\u001b[0m\u001b[0;34m(\u001b[0m\u001b[0mtrain\u001b[0m\u001b[0;34m[\u001b[0m\u001b[0;34m'pickup_longitude'\u001b[0m\u001b[0;34m]\u001b[0m \u001b[0;34m>\u001b[0m \u001b[0;34m-\u001b[0m\u001b[0;36m74.1\u001b[0m\u001b[0;34m)\u001b[0m \u001b[0;34m&\u001b[0m \u001b[0;34m(\u001b[0m\u001b[0mtrain\u001b[0m\u001b[0;34m[\u001b[0m\u001b[0;34m'pickup_longitude'\u001b[0m\u001b[0;34m]\u001b[0m \u001b[0;34m<\u001b[0m \u001b[0;34m-\u001b[0m\u001b[0;36m73.7\u001b[0m\u001b[0;34m)\u001b[0m\u001b[0;34m]\u001b[0m\u001b[0;34m\u001b[0m\u001b[0;34m\u001b[0m\u001b[0m\n\u001b[0m\u001b[1;32m      3\u001b[0m \u001b[0mtrain\u001b[0m \u001b[0;34m=\u001b[0m \u001b[0mtrain\u001b[0m\u001b[0;34m[\u001b[0m\u001b[0;34m(\u001b[0m\u001b[0mtrain\u001b[0m\u001b[0;34m[\u001b[0m\u001b[0;34m'pickup_latitude'\u001b[0m\u001b[0;34m]\u001b[0m \u001b[0;34m>\u001b[0m \u001b[0;36m40.6\u001b[0m\u001b[0;34m)\u001b[0m \u001b[0;34m&\u001b[0m \u001b[0;34m(\u001b[0m\u001b[0mtrain\u001b[0m\u001b[0;34m[\u001b[0m\u001b[0;34m'pickup_latitude'\u001b[0m\u001b[0;34m]\u001b[0m\u001b[0;34m<\u001b[0m \u001b[0;36m40.8\u001b[0m\u001b[0;34m)\u001b[0m\u001b[0;34m]\u001b[0m\u001b[0;34m\u001b[0m\u001b[0;34m\u001b[0m\u001b[0m\n\u001b[1;32m      4\u001b[0m \u001b[0mtrain\u001b[0m \u001b[0;34m=\u001b[0m \u001b[0mtrain\u001b[0m\u001b[0;34m[\u001b[0m\u001b[0;34m(\u001b[0m\u001b[0mtrain\u001b[0m\u001b[0;34m[\u001b[0m\u001b[0;34m'dropoff_longitude'\u001b[0m\u001b[0;34m]\u001b[0m \u001b[0;34m>\u001b[0m \u001b[0;34m-\u001b[0m\u001b[0;36m74.1\u001b[0m\u001b[0;34m)\u001b[0m \u001b[0;34m&\u001b[0m \u001b[0;34m(\u001b[0m\u001b[0mtrain\u001b[0m\u001b[0;34m[\u001b[0m\u001b[0;34m'dropoff_longitude'\u001b[0m\u001b[0;34m]\u001b[0m \u001b[0;34m<\u001b[0m \u001b[0;34m-\u001b[0m\u001b[0;36m73.7\u001b[0m\u001b[0;34m)\u001b[0m\u001b[0;34m]\u001b[0m\u001b[0;34m\u001b[0m\u001b[0;34m\u001b[0m\u001b[0m\n\u001b[1;32m      5\u001b[0m \u001b[0mtrain\u001b[0m \u001b[0;34m=\u001b[0m \u001b[0mtrain\u001b[0m\u001b[0;34m[\u001b[0m\u001b[0;34m(\u001b[0m\u001b[0mtrain\u001b[0m\u001b[0;34m[\u001b[0m\u001b[0;34m'dropoff_latitude'\u001b[0m\u001b[0;34m]\u001b[0m \u001b[0;34m>\u001b[0m \u001b[0;36m40.6\u001b[0m\u001b[0;34m)\u001b[0m \u001b[0;34m&\u001b[0m \u001b[0;34m(\u001b[0m\u001b[0mtrain\u001b[0m\u001b[0;34m[\u001b[0m\u001b[0;34m'dropoff_latitude'\u001b[0m\u001b[0;34m]\u001b[0m\u001b[0;34m<\u001b[0m \u001b[0;36m40.8\u001b[0m\u001b[0;34m)\u001b[0m\u001b[0;34m]\u001b[0m\u001b[0;34m\u001b[0m\u001b[0;34m\u001b[0m\u001b[0m\n",
      "\u001b[0;31mNameError\u001b[0m: name 'train' is not defined"
     ]
    }
   ],
   "source": [
    "# train\n",
    "train = train[(train['pickup_longitude'] > -74.1) & (train['pickup_longitude'] < -73.7)]\n",
    "train = train[(train['pickup_latitude'] > 40.6) & (train['pickup_latitude']< 40.8)]\n",
    "train = train[(train['dropoff_longitude'] > -74.1) & (train['dropoff_longitude'] < -73.7)]\n",
    "train = train[(train['dropoff_latitude'] > 40.6) & (train['dropoff_latitude']< 40.8)]\n",
    "\n",
    "# test\n",
    "test = test[(test['pickup_longitude'] > -74.1) & (test['pickup_longitude'] < -73.7)]\n",
    "test = test[(test['pickup_latitude'] > 40.6) & (test['pickup_latitude']< 40.8)]\n",
    "test = test[(test['dropoff_longitude'] > -74.1) & (test['dropoff_longitude'] < -73.7)]\n",
    "test = test[(test['dropoff_latitude'] > 40.6) & (test['dropoff_latitude']< 40.8)]\n",
    "\n",
    "f, (ax1, ax2) = plt.subplots(1, 2,sharey=True,figsize=(15,6))\n",
    "train.plot(kind='scatter', x='pickup_longitude', y='pickup_latitude',\n",
    "                color='yellow', \n",
    "                s=.02, alpha=.6, subplots=True, ax=ax1)\n",
    "ax1.set_title(\"Pickups\")\n",
    "ax1.set_facecolor('black')\n",
    "ax1.grid(False)\n",
    "\n",
    "train.plot(kind='scatter', x='dropoff_longitude', y='dropoff_latitude',\n",
    "                color='yellow',\n",
    "                s=.02, alpha=.6, subplots=True, ax=ax2)\n",
    "ax2.set_title(\"Dropoffs\")\n",
    "ax2.set_facecolor('black')\n",
    "ax2.grid(False)"
   ]
  },
  {
   "cell_type": "code",
   "execution_count": 5,
   "id": "d68fa087",
   "metadata": {
    "execution": {
     "iopub.execute_input": "2023-10-10T06:29:54.170896Z",
     "iopub.status.busy": "2023-10-10T06:29:54.169753Z",
     "iopub.status.idle": "2023-10-10T06:29:54.647005Z",
     "shell.execute_reply": "2023-10-10T06:29:54.645497Z"
    },
    "papermill": {
     "duration": 0.507803,
     "end_time": "2023-10-10T06:29:54.651024",
     "exception": false,
     "start_time": "2023-10-10T06:29:54.143221",
     "status": "completed"
    },
    "tags": []
   },
   "outputs": [
    {
     "ename": "NameError",
     "evalue": "name 'train' is not defined",
     "output_type": "error",
     "traceback": [
      "\u001b[0;31m---------------------------------------------------------------------------\u001b[0m",
      "\u001b[0;31mNameError\u001b[0m                                 Traceback (most recent call last)",
      "\u001b[0;32m/var/folders/cs/wy7g8nw52_bcg4mp53wnz8700000gn/T/ipykernel_52599/3617599064.py\u001b[0m in \u001b[0;36m<module>\u001b[0;34m\u001b[0m\n\u001b[1;32m      1\u001b[0m \u001b[0;31m# We use PCA to transform longitude and latitude coordinates. The rotation could help for decision tree splits.\u001b[0m\u001b[0;34m\u001b[0m\u001b[0;34m\u001b[0m\u001b[0m\n\u001b[0;32m----> 2\u001b[0;31m coords = np.vstack((train[['pickup_latitude', 'pickup_longitude']].values,\n\u001b[0m\u001b[1;32m      3\u001b[0m                     \u001b[0mtrain\u001b[0m\u001b[0;34m[\u001b[0m\u001b[0;34m[\u001b[0m\u001b[0;34m'dropoff_latitude'\u001b[0m\u001b[0;34m,\u001b[0m \u001b[0;34m'dropoff_longitude'\u001b[0m\u001b[0;34m]\u001b[0m\u001b[0;34m]\u001b[0m\u001b[0;34m.\u001b[0m\u001b[0mvalues\u001b[0m\u001b[0;34m,\u001b[0m\u001b[0;34m\u001b[0m\u001b[0;34m\u001b[0m\u001b[0m\n\u001b[1;32m      4\u001b[0m                     \u001b[0mtest\u001b[0m\u001b[0;34m[\u001b[0m\u001b[0;34m[\u001b[0m\u001b[0;34m'pickup_latitude'\u001b[0m\u001b[0;34m,\u001b[0m \u001b[0;34m'pickup_longitude'\u001b[0m\u001b[0;34m]\u001b[0m\u001b[0;34m]\u001b[0m\u001b[0;34m.\u001b[0m\u001b[0mvalues\u001b[0m\u001b[0;34m,\u001b[0m\u001b[0;34m\u001b[0m\u001b[0;34m\u001b[0m\u001b[0m\n\u001b[1;32m      5\u001b[0m                     test[['dropoff_latitude', 'dropoff_longitude']].values))\n",
      "\u001b[0;31mNameError\u001b[0m: name 'train' is not defined"
     ]
    }
   ],
   "source": [
    "# We use PCA to transform longitude and latitude coordinates. The rotation could help for decision tree splits.\n",
    "coords = np.vstack((train[['pickup_latitude', 'pickup_longitude']].values,\n",
    "                    train[['dropoff_latitude', 'dropoff_longitude']].values,\n",
    "                    test[['pickup_latitude', 'pickup_longitude']].values,\n",
    "                    test[['dropoff_latitude', 'dropoff_longitude']].values))\n",
    "\n",
    "pca = PCA().fit(coords)\n",
    "train['pickup_pca0'] = pca.transform(train[['pickup_latitude', 'pickup_longitude']])[:, 0]\n",
    "train['pickup_pca1'] = pca.transform(train[['pickup_latitude', 'pickup_longitude']])[:, 1]\n",
    "train['dropoff_pca0'] = pca.transform(train[['dropoff_latitude', 'dropoff_longitude']])[:, 0]\n",
    "train['dropoff_pca1'] = pca.transform(train[['dropoff_latitude', 'dropoff_longitude']])[:, 1]\n",
    "test['pickup_pca0'] = pca.transform(test[['pickup_latitude', 'pickup_longitude']])[:, 0]\n",
    "test['pickup_pca1'] = pca.transform(test[['pickup_latitude', 'pickup_longitude']])[:, 1]\n",
    "test['dropoff_pca0'] = pca.transform(test[['dropoff_latitude', 'dropoff_longitude']])[:, 0]\n",
    "test['dropoff_pca1'] = pca.transform(test[['dropoff_latitude', 'dropoff_longitude']])[:, 1]"
   ]
  },
  {
   "cell_type": "markdown",
   "id": "2a9f458a",
   "metadata": {
    "papermill": {
     "duration": 0.05465,
     "end_time": "2023-10-10T06:29:54.768125",
     "exception": false,
     "start_time": "2023-10-10T06:29:54.713475",
     "status": "completed"
    },
    "tags": []
   },
   "source": [
    "### Feature relations - How features are related to each other and with target feature i.e. trip_duration"
   ]
  },
  {
   "cell_type": "markdown",
   "id": "ed952530",
   "metadata": {
    "papermill": {
     "duration": 0.024802,
     "end_time": "2023-10-10T06:29:54.817879",
     "exception": false,
     "start_time": "2023-10-10T06:29:54.793077",
     "status": "completed"
    },
    "tags": []
   },
   "source": [
    "#### vendor_id and pickup_date/dropoff_date VS trip_duration"
   ]
  },
  {
   "cell_type": "code",
   "execution_count": 6,
   "id": "75a76293",
   "metadata": {
    "execution": {
     "iopub.execute_input": "2023-10-10T06:29:54.870275Z",
     "iopub.status.busy": "2023-10-10T06:29:54.869918Z",
     "iopub.status.idle": "2023-10-10T06:30:42.637876Z",
     "shell.execute_reply": "2023-10-10T06:30:42.636976Z"
    },
    "papermill": {
     "duration": 47.829233,
     "end_time": "2023-10-10T06:30:42.672297",
     "exception": false,
     "start_time": "2023-10-10T06:29:54.843064",
     "status": "completed"
    },
    "tags": []
   },
   "outputs": [
    {
     "ename": "NameError",
     "evalue": "name 'plt' is not defined",
     "output_type": "error",
     "traceback": [
      "\u001b[0;31m---------------------------------------------------------------------------\u001b[0m",
      "\u001b[0;31mNameError\u001b[0m                                 Traceback (most recent call last)",
      "\u001b[0;32m/var/folders/cs/wy7g8nw52_bcg4mp53wnz8700000gn/T/ipykernel_52599/4025641562.py\u001b[0m in \u001b[0;36m<module>\u001b[0;34m\u001b[0m\n\u001b[1;32m      1\u001b[0m \u001b[0;31m#pickup and dropoff trips made by each vendors on each date\u001b[0m\u001b[0;34m\u001b[0m\u001b[0;34m\u001b[0m\u001b[0m\n\u001b[0;32m----> 2\u001b[0;31m \u001b[0mfig\u001b[0m\u001b[0;34m,\u001b[0m\u001b[0;34m(\u001b[0m\u001b[0max1\u001b[0m\u001b[0;34m,\u001b[0m\u001b[0max2\u001b[0m\u001b[0;34m)\u001b[0m \u001b[0;34m=\u001b[0m \u001b[0mplt\u001b[0m\u001b[0;34m.\u001b[0m\u001b[0msubplots\u001b[0m\u001b[0;34m(\u001b[0m\u001b[0;36m2\u001b[0m\u001b[0;34m,\u001b[0m\u001b[0;36m1\u001b[0m\u001b[0;34m,\u001b[0m\u001b[0mfigsize\u001b[0m\u001b[0;34m=\u001b[0m\u001b[0;34m(\u001b[0m\u001b[0;36m15\u001b[0m\u001b[0;34m,\u001b[0m\u001b[0;36m6\u001b[0m\u001b[0;34m)\u001b[0m\u001b[0;34m)\u001b[0m\u001b[0;34m\u001b[0m\u001b[0;34m\u001b[0m\u001b[0m\n\u001b[0m\u001b[1;32m      3\u001b[0m \u001b[0;34m\u001b[0m\u001b[0m\n\u001b[1;32m      4\u001b[0m \u001b[0msns\u001b[0m\u001b[0;34m.\u001b[0m\u001b[0mlineplot\u001b[0m\u001b[0;34m(\u001b[0m\u001b[0mdata\u001b[0m\u001b[0;34m=\u001b[0m\u001b[0mtrain\u001b[0m\u001b[0;34m,\u001b[0m\u001b[0mx\u001b[0m\u001b[0;34m=\u001b[0m\u001b[0;34m'pickup_date'\u001b[0m\u001b[0;34m,\u001b[0m\u001b[0my\u001b[0m\u001b[0;34m=\u001b[0m\u001b[0;34m'trip_duration'\u001b[0m\u001b[0;34m,\u001b[0m\u001b[0mhue\u001b[0m\u001b[0;34m=\u001b[0m\u001b[0;34m'vendor_id'\u001b[0m\u001b[0;34m,\u001b[0m\u001b[0max\u001b[0m\u001b[0;34m=\u001b[0m\u001b[0max1\u001b[0m\u001b[0;34m)\u001b[0m\u001b[0;34m\u001b[0m\u001b[0;34m\u001b[0m\u001b[0m\n\u001b[1;32m      5\u001b[0m \u001b[0msns\u001b[0m\u001b[0;34m.\u001b[0m\u001b[0mlineplot\u001b[0m\u001b[0;34m(\u001b[0m\u001b[0mdata\u001b[0m\u001b[0;34m=\u001b[0m\u001b[0mtrain\u001b[0m\u001b[0;34m,\u001b[0m\u001b[0mx\u001b[0m\u001b[0;34m=\u001b[0m\u001b[0;34m'dropoff_date'\u001b[0m\u001b[0;34m,\u001b[0m\u001b[0my\u001b[0m\u001b[0;34m=\u001b[0m\u001b[0;34m'trip_duration'\u001b[0m\u001b[0;34m,\u001b[0m\u001b[0mhue\u001b[0m\u001b[0;34m=\u001b[0m\u001b[0;34m'vendor_id'\u001b[0m\u001b[0;34m,\u001b[0m\u001b[0max\u001b[0m\u001b[0;34m=\u001b[0m\u001b[0max2\u001b[0m\u001b[0;34m)\u001b[0m\u001b[0;34m\u001b[0m\u001b[0;34m\u001b[0m\u001b[0m\n",
      "\u001b[0;31mNameError\u001b[0m: name 'plt' is not defined"
     ]
    }
   ],
   "source": [
    "#pickup and dropoff trips made by each vendors on each date\n",
    "fig,(ax1,ax2) = plt.subplots(2,1,figsize=(15,6))\n",
    "\n",
    "sns.lineplot(data=train,x='pickup_date',y='trip_duration',hue='vendor_id',ax=ax1)\n",
    "sns.lineplot(data=train,x='dropoff_date',y='trip_duration',hue='vendor_id',ax=ax2)\n",
    "fig.tight_layout()\n",
    "fig.show()"
   ]
  },
  {
   "cell_type": "markdown",
   "id": "fe1fa30a",
   "metadata": {
    "papermill": {
     "duration": 0.02768,
     "end_time": "2023-10-10T06:30:42.728779",
     "exception": false,
     "start_time": "2023-10-10T06:30:42.701099",
     "status": "completed"
    },
    "tags": []
   },
   "source": [
    "#### vendor_id and weekday/pickup_hour VS trip_duration"
   ]
  },
  {
   "cell_type": "code",
   "execution_count": 7,
   "id": "3fac7687",
   "metadata": {
    "execution": {
     "iopub.execute_input": "2023-10-10T06:30:42.787143Z",
     "iopub.status.busy": "2023-10-10T06:30:42.786729Z",
     "iopub.status.idle": "2023-10-10T06:31:16.672098Z",
     "shell.execute_reply": "2023-10-10T06:31:16.671240Z"
    },
    "papermill": {
     "duration": 33.949162,
     "end_time": "2023-10-10T06:31:16.705867",
     "exception": false,
     "start_time": "2023-10-10T06:30:42.756705",
     "status": "completed"
    },
    "tags": []
   },
   "outputs": [
    {
     "ename": "NameError",
     "evalue": "name 'plt' is not defined",
     "output_type": "error",
     "traceback": [
      "\u001b[0;31m---------------------------------------------------------------------------\u001b[0m",
      "\u001b[0;31mNameError\u001b[0m                                 Traceback (most recent call last)",
      "\u001b[0;32m/var/folders/cs/wy7g8nw52_bcg4mp53wnz8700000gn/T/ipykernel_52599/3333922132.py\u001b[0m in \u001b[0;36m<module>\u001b[0;34m\u001b[0m\n\u001b[0;32m----> 1\u001b[0;31m \u001b[0mfig\u001b[0m\u001b[0;34m,\u001b[0m\u001b[0max\u001b[0m \u001b[0;34m=\u001b[0m \u001b[0mplt\u001b[0m\u001b[0;34m.\u001b[0m\u001b[0msubplots\u001b[0m\u001b[0;34m(\u001b[0m\u001b[0;36m2\u001b[0m\u001b[0;34m,\u001b[0m\u001b[0;36m1\u001b[0m\u001b[0;34m,\u001b[0m\u001b[0mfigsize\u001b[0m\u001b[0;34m=\u001b[0m\u001b[0;34m(\u001b[0m\u001b[0;36m15\u001b[0m\u001b[0;34m,\u001b[0m\u001b[0;36m7\u001b[0m\u001b[0;34m)\u001b[0m\u001b[0;34m)\u001b[0m\u001b[0;34m\u001b[0m\u001b[0;34m\u001b[0m\u001b[0m\n\u001b[0m\u001b[1;32m      2\u001b[0m \u001b[0;34m\u001b[0m\u001b[0m\n\u001b[1;32m      3\u001b[0m \u001b[0msns\u001b[0m\u001b[0;34m.\u001b[0m\u001b[0mlineplot\u001b[0m\u001b[0;34m(\u001b[0m\u001b[0mdata\u001b[0m\u001b[0;34m=\u001b[0m\u001b[0mtrain\u001b[0m\u001b[0;34m,\u001b[0m \u001b[0mx\u001b[0m\u001b[0;34m=\u001b[0m\u001b[0;34m'weekday'\u001b[0m\u001b[0;34m,\u001b[0m\u001b[0my\u001b[0m\u001b[0;34m=\u001b[0m\u001b[0;34m'trip_duration'\u001b[0m\u001b[0;34m,\u001b[0m\u001b[0mhue\u001b[0m\u001b[0;34m=\u001b[0m\u001b[0;34m'vendor_id'\u001b[0m\u001b[0;34m,\u001b[0m\u001b[0max\u001b[0m\u001b[0;34m=\u001b[0m\u001b[0max\u001b[0m\u001b[0;34m[\u001b[0m\u001b[0;36m0\u001b[0m\u001b[0;34m]\u001b[0m\u001b[0;34m)\u001b[0m\u001b[0;34m\u001b[0m\u001b[0;34m\u001b[0m\u001b[0m\n\u001b[1;32m      4\u001b[0m \u001b[0msns\u001b[0m\u001b[0;34m.\u001b[0m\u001b[0mlineplot\u001b[0m\u001b[0;34m(\u001b[0m\u001b[0mdata\u001b[0m\u001b[0;34m=\u001b[0m\u001b[0mtrain\u001b[0m\u001b[0;34m,\u001b[0m \u001b[0mx\u001b[0m\u001b[0;34m=\u001b[0m\u001b[0;34m'pickup_hour'\u001b[0m\u001b[0;34m,\u001b[0m\u001b[0my\u001b[0m\u001b[0;34m=\u001b[0m\u001b[0;34m'trip_duration'\u001b[0m\u001b[0;34m,\u001b[0m\u001b[0mhue\u001b[0m\u001b[0;34m=\u001b[0m\u001b[0;34m'vendor_id'\u001b[0m\u001b[0;34m,\u001b[0m\u001b[0max\u001b[0m\u001b[0;34m=\u001b[0m\u001b[0max\u001b[0m\u001b[0;34m[\u001b[0m\u001b[0;36m1\u001b[0m\u001b[0;34m]\u001b[0m\u001b[0;34m)\u001b[0m\u001b[0;34m\u001b[0m\u001b[0;34m\u001b[0m\u001b[0m\n\u001b[1;32m      5\u001b[0m \u001b[0mplt\u001b[0m\u001b[0;34m.\u001b[0m\u001b[0mtitle\u001b[0m\u001b[0;34m(\u001b[0m\u001b[0;34m'Mean trip durations by each vendor'\u001b[0m\u001b[0;34m)\u001b[0m\u001b[0;34m\u001b[0m\u001b[0;34m\u001b[0m\u001b[0m\n",
      "\u001b[0;31mNameError\u001b[0m: name 'plt' is not defined"
     ]
    }
   ],
   "source": [
    "fig,ax = plt.subplots(2,1,figsize=(15,7))\n",
    "\n",
    "sns.lineplot(data=train, x='weekday',y='trip_duration',hue='vendor_id',ax=ax[0])\n",
    "sns.lineplot(data=train, x='pickup_hour',y='trip_duration',hue='vendor_id',ax=ax[1])\n",
    "plt.title('Mean trip durations by each vendor')\n",
    "fig.tight_layout()\n",
    "fig.show()"
   ]
  },
  {
   "cell_type": "markdown",
   "id": "477abf04",
   "metadata": {
    "papermill": {
     "duration": 0.030483,
     "end_time": "2023-10-10T06:31:16.766225",
     "exception": false,
     "start_time": "2023-10-10T06:31:16.735742",
     "status": "completed"
    },
    "tags": []
   },
   "source": [
    "1. Vendor 2 has more average trips than vendor 1 on all weekdays. The trend is same for months. Vendor id seems to be a important feature to include in the model.\n",
    "2. As seen earlier, there is a sudden dip at early morning around 5am and a gradual decrease around 8pm.\n",
    "3. On Sunday, the average trip duration was around 16min. for vendor 2 and 14min. for vendor 1\n",
    "4. We decide to include weekday and pickup_hour in our model."
   ]
  },
  {
   "cell_type": "markdown",
   "id": "0f9b81e0",
   "metadata": {
    "papermill": {
     "duration": 0.030357,
     "end_time": "2023-10-10T06:31:16.827642",
     "exception": false,
     "start_time": "2023-10-10T06:31:16.797285",
     "status": "completed"
    },
    "tags": []
   },
   "source": [
    "#### passenger_count and vendor_id VS trip_duration"
   ]
  },
  {
   "cell_type": "code",
   "execution_count": 8,
   "id": "a4937da1",
   "metadata": {
    "execution": {
     "iopub.execute_input": "2023-10-10T06:31:16.889350Z",
     "iopub.status.busy": "2023-10-10T06:31:16.888952Z",
     "iopub.status.idle": "2023-10-10T06:31:18.693286Z",
     "shell.execute_reply": "2023-10-10T06:31:18.692006Z"
    },
    "papermill": {
     "duration": 1.838317,
     "end_time": "2023-10-10T06:31:18.695543",
     "exception": false,
     "start_time": "2023-10-10T06:31:16.857226",
     "status": "completed"
    },
    "tags": []
   },
   "outputs": [
    {
     "ename": "NameError",
     "evalue": "name 'plt' is not defined",
     "output_type": "error",
     "traceback": [
      "\u001b[0;31m---------------------------------------------------------------------------\u001b[0m",
      "\u001b[0;31mNameError\u001b[0m                                 Traceback (most recent call last)",
      "\u001b[0;32m/var/folders/cs/wy7g8nw52_bcg4mp53wnz8700000gn/T/ipykernel_52599/379503712.py\u001b[0m in \u001b[0;36m<module>\u001b[0;34m\u001b[0m\n\u001b[0;32m----> 1\u001b[0;31m \u001b[0mfig\u001b[0m \u001b[0;34m,\u001b[0m\u001b[0max\u001b[0m \u001b[0;34m=\u001b[0m \u001b[0mplt\u001b[0m\u001b[0;34m.\u001b[0m\u001b[0msubplots\u001b[0m\u001b[0;34m(\u001b[0m\u001b[0;36m1\u001b[0m\u001b[0;34m,\u001b[0m\u001b[0;36m2\u001b[0m\u001b[0;34m,\u001b[0m\u001b[0mfigsize\u001b[0m\u001b[0;34m=\u001b[0m\u001b[0;34m(\u001b[0m\u001b[0;36m15\u001b[0m\u001b[0;34m,\u001b[0m\u001b[0;36m7\u001b[0m\u001b[0;34m)\u001b[0m\u001b[0;34m)\u001b[0m\u001b[0;34m\u001b[0m\u001b[0;34m\u001b[0m\u001b[0m\n\u001b[0m\u001b[1;32m      2\u001b[0m \u001b[0;34m\u001b[0m\u001b[0m\n\u001b[1;32m      3\u001b[0m \u001b[0mbox1\u001b[0m \u001b[0;34m=\u001b[0m \u001b[0msns\u001b[0m\u001b[0;34m.\u001b[0m\u001b[0mboxplot\u001b[0m\u001b[0;34m(\u001b[0m\u001b[0mdata\u001b[0m\u001b[0;34m=\u001b[0m\u001b[0mtrain\u001b[0m\u001b[0;34m[\u001b[0m\u001b[0mtrain\u001b[0m\u001b[0;34m[\u001b[0m\u001b[0;34m'vendor_id'\u001b[0m\u001b[0;34m]\u001b[0m\u001b[0;34m==\u001b[0m\u001b[0;36m1\u001b[0m\u001b[0;34m]\u001b[0m\u001b[0;34m.\u001b[0m\u001b[0mreset_index\u001b[0m\u001b[0;34m(\u001b[0m\u001b[0;34m)\u001b[0m\u001b[0;34m,\u001b[0m \u001b[0mx\u001b[0m\u001b[0;34m=\u001b[0m\u001b[0;34m'passenger_count'\u001b[0m\u001b[0;34m,\u001b[0m \u001b[0my\u001b[0m\u001b[0;34m=\u001b[0m\u001b[0;34m'trip_duration'\u001b[0m\u001b[0;34m,\u001b[0m\u001b[0max\u001b[0m\u001b[0;34m=\u001b[0m\u001b[0max\u001b[0m\u001b[0;34m[\u001b[0m\u001b[0;36m0\u001b[0m\u001b[0;34m]\u001b[0m\u001b[0;34m)\u001b[0m\u001b[0;34m\u001b[0m\u001b[0;34m\u001b[0m\u001b[0m\n\u001b[1;32m      4\u001b[0m \u001b[0mbox2\u001b[0m \u001b[0;34m=\u001b[0m \u001b[0msns\u001b[0m\u001b[0;34m.\u001b[0m\u001b[0mboxplot\u001b[0m\u001b[0;34m(\u001b[0m\u001b[0mdata\u001b[0m\u001b[0;34m=\u001b[0m\u001b[0mtrain\u001b[0m\u001b[0;34m[\u001b[0m\u001b[0mtrain\u001b[0m\u001b[0;34m[\u001b[0m\u001b[0;34m'vendor_id'\u001b[0m\u001b[0;34m]\u001b[0m\u001b[0;34m==\u001b[0m\u001b[0;36m2\u001b[0m\u001b[0;34m]\u001b[0m\u001b[0;34m.\u001b[0m\u001b[0mreset_index\u001b[0m\u001b[0;34m(\u001b[0m\u001b[0;34m)\u001b[0m\u001b[0;34m,\u001b[0m \u001b[0mx\u001b[0m\u001b[0;34m=\u001b[0m\u001b[0;34m'passenger_count'\u001b[0m\u001b[0;34m,\u001b[0m \u001b[0my\u001b[0m\u001b[0;34m=\u001b[0m\u001b[0;34m'trip_duration'\u001b[0m\u001b[0;34m,\u001b[0m\u001b[0max\u001b[0m\u001b[0;34m=\u001b[0m\u001b[0max\u001b[0m\u001b[0;34m[\u001b[0m\u001b[0;36m1\u001b[0m\u001b[0;34m]\u001b[0m\u001b[0;34m)\u001b[0m\u001b[0;34m\u001b[0m\u001b[0;34m\u001b[0m\u001b[0m\n\u001b[1;32m      5\u001b[0m \u001b[0mbox1\u001b[0m\u001b[0;34m.\u001b[0m\u001b[0mset\u001b[0m\u001b[0;34m(\u001b[0m\u001b[0mtitle\u001b[0m\u001b[0;34m=\u001b[0m\u001b[0;34m'Passenger count of vendor 1 VS trip duration'\u001b[0m\u001b[0;34m)\u001b[0m\u001b[0;34m\u001b[0m\u001b[0;34m\u001b[0m\u001b[0m\n",
      "\u001b[0;31mNameError\u001b[0m: name 'plt' is not defined"
     ]
    }
   ],
   "source": [
    "fig ,ax = plt.subplots(1,2,figsize=(15,7))\n",
    "\n",
    "box1 = sns.boxplot(data=train[train['vendor_id']==1].reset_index(), x='passenger_count', y='trip_duration',ax=ax[0])\n",
    "box2 = sns.boxplot(data=train[train['vendor_id']==2].reset_index(), x='passenger_count', y='trip_duration',ax=ax[1])\n",
    "box1.set(title='Passenger count of vendor 1 VS trip duration')\n",
    "box2.set(title='Passenger count of vendor 2 VS trip duration')\n",
    "fig.tight_layout()\n",
    "fig.show()"
   ]
  },
  {
   "cell_type": "markdown",
   "id": "f70e483f",
   "metadata": {
    "papermill": {
     "duration": 0.033361,
     "end_time": "2023-10-10T06:31:18.760186",
     "exception": false,
     "start_time": "2023-10-10T06:31:18.726825",
     "status": "completed"
    },
    "tags": []
   },
   "source": [
    "1. With passenger = 0, the trip duration was at max minimum 2.5 min. and maximum 20 min.These are outliers and should be removed.\n",
    "2. Some trips has very short duration ~ 0.5 min. with both vendors.\n",
    "3. When passenger count 2 and 5, vendor 2 has some trips around ~ 340hrs.\n",
    "4. Vendor 1 only carried atmost 6 passengers at a time. Very less trips are there when passenger count is 7,8,9 with vendor 2."
   ]
  },
  {
   "cell_type": "code",
   "execution_count": 9,
   "id": "aadc5196",
   "metadata": {
    "execution": {
     "iopub.execute_input": "2023-10-10T06:31:18.828842Z",
     "iopub.status.busy": "2023-10-10T06:31:18.828111Z",
     "iopub.status.idle": "2023-10-10T06:31:19.125773Z",
     "shell.execute_reply": "2023-10-10T06:31:19.124483Z"
    },
    "papermill": {
     "duration": 0.334505,
     "end_time": "2023-10-10T06:31:19.128335",
     "exception": false,
     "start_time": "2023-10-10T06:31:18.793830",
     "status": "completed"
    },
    "tags": []
   },
   "outputs": [
    {
     "ename": "NameError",
     "evalue": "name 'train' is not defined",
     "output_type": "error",
     "traceback": [
      "\u001b[0;31m---------------------------------------------------------------------------\u001b[0m",
      "\u001b[0;31mNameError\u001b[0m                                 Traceback (most recent call last)",
      "\u001b[0;32m/var/folders/cs/wy7g8nw52_bcg4mp53wnz8700000gn/T/ipykernel_52599/3816153124.py\u001b[0m in \u001b[0;36m<module>\u001b[0;34m\u001b[0m\n\u001b[0;32m----> 1\u001b[0;31m \u001b[0mprint\u001b[0m\u001b[0;34m(\u001b[0m\u001b[0;34m'Rows before train:'\u001b[0m\u001b[0;34m,\u001b[0m\u001b[0mtrain\u001b[0m\u001b[0;34m.\u001b[0m\u001b[0mshape\u001b[0m\u001b[0;34m[\u001b[0m\u001b[0;36m0\u001b[0m\u001b[0;34m]\u001b[0m\u001b[0;34m)\u001b[0m\u001b[0;34m\u001b[0m\u001b[0;34m\u001b[0m\u001b[0m\n\u001b[0m\u001b[1;32m      2\u001b[0m \u001b[0mprint\u001b[0m\u001b[0;34m(\u001b[0m\u001b[0;34m'Rows before test:'\u001b[0m\u001b[0;34m,\u001b[0m\u001b[0mtest\u001b[0m\u001b[0;34m.\u001b[0m\u001b[0mshape\u001b[0m\u001b[0;34m[\u001b[0m\u001b[0;36m0\u001b[0m\u001b[0;34m]\u001b[0m\u001b[0;34m)\u001b[0m\u001b[0;34m\u001b[0m\u001b[0;34m\u001b[0m\u001b[0m\n\u001b[1;32m      3\u001b[0m \u001b[0mtrain\u001b[0m \u001b[0;34m=\u001b[0m \u001b[0mtrain\u001b[0m\u001b[0;34m[\u001b[0m\u001b[0;34m~\u001b[0m\u001b[0;34m(\u001b[0m\u001b[0mtrain\u001b[0m\u001b[0;34m[\u001b[0m\u001b[0;34m'passenger_count'\u001b[0m\u001b[0;34m]\u001b[0m \u001b[0;34m==\u001b[0m \u001b[0;36m0\u001b[0m\u001b[0;34m)\u001b[0m\u001b[0;34m]\u001b[0m\u001b[0;34m\u001b[0m\u001b[0;34m\u001b[0m\u001b[0m\n\u001b[1;32m      4\u001b[0m \u001b[0mtest\u001b[0m \u001b[0;34m=\u001b[0m \u001b[0mtest\u001b[0m\u001b[0;34m[\u001b[0m\u001b[0;34m~\u001b[0m\u001b[0;34m(\u001b[0m\u001b[0mtest\u001b[0m\u001b[0;34m[\u001b[0m\u001b[0;34m'passenger_count'\u001b[0m\u001b[0;34m]\u001b[0m \u001b[0;34m==\u001b[0m \u001b[0;36m0\u001b[0m\u001b[0;34m)\u001b[0m\u001b[0;34m]\u001b[0m\u001b[0;34m\u001b[0m\u001b[0;34m\u001b[0m\u001b[0m\n\u001b[1;32m      5\u001b[0m \u001b[0mprint\u001b[0m\u001b[0;34m(\u001b[0m\u001b[0;34m'Rows after train:'\u001b[0m\u001b[0;34m,\u001b[0m\u001b[0mtrain\u001b[0m\u001b[0;34m.\u001b[0m\u001b[0mshape\u001b[0m\u001b[0;34m[\u001b[0m\u001b[0;36m0\u001b[0m\u001b[0;34m]\u001b[0m\u001b[0;34m)\u001b[0m\u001b[0;34m\u001b[0m\u001b[0;34m\u001b[0m\u001b[0m\n",
      "\u001b[0;31mNameError\u001b[0m: name 'train' is not defined"
     ]
    }
   ],
   "source": [
    "print('Rows before train:',train.shape[0])\n",
    "print('Rows before test:',test.shape[0])\n",
    "train = train[~(train['passenger_count'] == 0)]\n",
    "test = test[~(test['passenger_count'] == 0)]\n",
    "print('Rows after train:',train.shape[0])\n",
    "print('Rows after train:',test.shape[0])"
   ]
  },
  {
   "cell_type": "markdown",
   "id": "5a945c2f",
   "metadata": {
    "papermill": {
     "duration": 0.032133,
     "end_time": "2023-10-10T06:31:19.192228",
     "exception": false,
     "start_time": "2023-10-10T06:31:19.160095",
     "status": "completed"
    },
    "tags": []
   },
   "source": [
    "#### vendor_id VS trip_duration"
   ]
  },
  {
   "cell_type": "code",
   "execution_count": 10,
   "id": "073c67d8",
   "metadata": {
    "execution": {
     "iopub.execute_input": "2023-10-10T06:31:19.260295Z",
     "iopub.status.busy": "2023-10-10T06:31:19.259938Z",
     "iopub.status.idle": "2023-10-10T06:31:25.952395Z",
     "shell.execute_reply": "2023-10-10T06:31:25.951272Z"
    },
    "papermill": {
     "duration": 6.729525,
     "end_time": "2023-10-10T06:31:25.954471",
     "exception": false,
     "start_time": "2023-10-10T06:31:19.224946",
     "status": "completed"
    },
    "tags": []
   },
   "outputs": [
    {
     "name": "stdout",
     "output_type": "stream",
     "text": [
      "Trip duration stats for vendor 1: \n"
     ]
    },
    {
     "ename": "NameError",
     "evalue": "name 'train' is not defined",
     "output_type": "error",
     "traceback": [
      "\u001b[0;31m---------------------------------------------------------------------------\u001b[0m",
      "\u001b[0;31mNameError\u001b[0m                                 Traceback (most recent call last)",
      "\u001b[0;32m/var/folders/cs/wy7g8nw52_bcg4mp53wnz8700000gn/T/ipykernel_52599/3431550553.py\u001b[0m in \u001b[0;36m<module>\u001b[0;34m\u001b[0m\n\u001b[1;32m      1\u001b[0m \u001b[0mprint\u001b[0m\u001b[0;34m(\u001b[0m\u001b[0;34m'Trip duration stats for vendor 1: '\u001b[0m\u001b[0;34m)\u001b[0m\u001b[0;34m\u001b[0m\u001b[0;34m\u001b[0m\u001b[0m\n\u001b[0;32m----> 2\u001b[0;31m \u001b[0mvendor1_trip\u001b[0m \u001b[0;34m=\u001b[0m \u001b[0mtrain\u001b[0m\u001b[0;34m[\u001b[0m\u001b[0mtrain\u001b[0m\u001b[0;34m[\u001b[0m\u001b[0;34m'vendor_id'\u001b[0m\u001b[0;34m]\u001b[0m\u001b[0;34m==\u001b[0m\u001b[0;36m1\u001b[0m\u001b[0;34m]\u001b[0m\u001b[0;34m[\u001b[0m\u001b[0;34m'trip_duration'\u001b[0m\u001b[0;34m]\u001b[0m\u001b[0;34m\u001b[0m\u001b[0;34m\u001b[0m\u001b[0m\n\u001b[0m\u001b[1;32m      3\u001b[0m \u001b[0mprint\u001b[0m\u001b[0;34m(\u001b[0m\u001b[0mnp\u001b[0m\u001b[0;34m.\u001b[0m\u001b[0mexp\u001b[0m\u001b[0;34m(\u001b[0m\u001b[0mvendor1_trip\u001b[0m\u001b[0;34m)\u001b[0m\u001b[0;34m.\u001b[0m\u001b[0mdescribe\u001b[0m\u001b[0;34m(\u001b[0m\u001b[0;34m)\u001b[0m\u001b[0;34m[\u001b[0m\u001b[0;34m[\u001b[0m\u001b[0;34m'mean'\u001b[0m\u001b[0;34m,\u001b[0m\u001b[0;34m'50%'\u001b[0m\u001b[0;34m]\u001b[0m\u001b[0;34m]\u001b[0m\u001b[0;34m)\u001b[0m\u001b[0;34m\u001b[0m\u001b[0;34m\u001b[0m\u001b[0m\n\u001b[1;32m      4\u001b[0m \u001b[0mprint\u001b[0m\u001b[0;34m(\u001b[0m\u001b[0;34m)\u001b[0m\u001b[0;34m\u001b[0m\u001b[0;34m\u001b[0m\u001b[0m\n\u001b[1;32m      5\u001b[0m \u001b[0mprint\u001b[0m\u001b[0;34m(\u001b[0m\u001b[0;34m'Trip duration stats for vendor 2: '\u001b[0m\u001b[0;34m)\u001b[0m\u001b[0;34m\u001b[0m\u001b[0;34m\u001b[0m\u001b[0m\n",
      "\u001b[0;31mNameError\u001b[0m: name 'train' is not defined"
     ]
    }
   ],
   "source": [
    "print('Trip duration stats for vendor 1: ')\n",
    "vendor1_trip = train[train['vendor_id']==1]['trip_duration']\n",
    "print(np.exp(vendor1_trip).describe()[['mean','50%']])\n",
    "print()\n",
    "print('Trip duration stats for vendor 2: ')\n",
    "vendor2_trip = train[train['vendor_id']==2]['trip_duration']\n",
    "print(np.exp(vendor2_trip).describe()[['mean','50%']])\n",
    "\n",
    "fig = plt.figure(figsize=(15,7))\n",
    "sns.kdeplot(data=train, x='trip_duration',hue='vendor_id')\n",
    "plt.title('Trip duration distribution of both the vendors')\n",
    "fig.show()"
   ]
  },
  {
   "cell_type": "markdown",
   "id": "27c7427f",
   "metadata": {
    "papermill": {
     "duration": 0.033562,
     "end_time": "2023-10-10T06:31:26.020426",
     "exception": false,
     "start_time": "2023-10-10T06:31:25.986864",
     "status": "completed"
    },
    "tags": []
   },
   "source": [
    "1. Median trip duration by both vendors are very similar whereas there is a difference in mean trip duration because of some larger duration trips done by vendor 2"
   ]
  },
  {
   "cell_type": "markdown",
   "id": "718ab45b",
   "metadata": {
    "papermill": {
     "duration": 0.031846,
     "end_time": "2023-10-10T06:31:26.084531",
     "exception": false,
     "start_time": "2023-10-10T06:31:26.052685",
     "status": "completed"
    },
    "tags": []
   },
   "source": [
    "#### store_and_fwd_flag and passenger_count VS trip_duration"
   ]
  },
  {
   "cell_type": "code",
   "execution_count": 11,
   "id": "3fc7158c",
   "metadata": {
    "execution": {
     "iopub.execute_input": "2023-10-10T06:31:26.151639Z",
     "iopub.status.busy": "2023-10-10T06:31:26.151287Z",
     "iopub.status.idle": "2023-10-10T06:31:28.134895Z",
     "shell.execute_reply": "2023-10-10T06:31:28.133848Z"
    },
    "papermill": {
     "duration": 2.019754,
     "end_time": "2023-10-10T06:31:28.137213",
     "exception": false,
     "start_time": "2023-10-10T06:31:26.117459",
     "status": "completed"
    },
    "tags": []
   },
   "outputs": [
    {
     "ename": "NameError",
     "evalue": "name 'plt' is not defined",
     "output_type": "error",
     "traceback": [
      "\u001b[0;31m---------------------------------------------------------------------------\u001b[0m",
      "\u001b[0;31mNameError\u001b[0m                                 Traceback (most recent call last)",
      "\u001b[0;32m/var/folders/cs/wy7g8nw52_bcg4mp53wnz8700000gn/T/ipykernel_52599/3479654568.py\u001b[0m in \u001b[0;36m<module>\u001b[0;34m\u001b[0m\n\u001b[0;32m----> 1\u001b[0;31m \u001b[0mfig\u001b[0m \u001b[0;34m,\u001b[0m\u001b[0max\u001b[0m \u001b[0;34m=\u001b[0m \u001b[0mplt\u001b[0m\u001b[0;34m.\u001b[0m\u001b[0msubplots\u001b[0m\u001b[0;34m(\u001b[0m\u001b[0;36m1\u001b[0m\u001b[0;34m,\u001b[0m\u001b[0;36m2\u001b[0m\u001b[0;34m,\u001b[0m\u001b[0mfigsize\u001b[0m\u001b[0;34m=\u001b[0m\u001b[0;34m(\u001b[0m\u001b[0;36m15\u001b[0m\u001b[0;34m,\u001b[0m\u001b[0;36m7\u001b[0m\u001b[0;34m)\u001b[0m\u001b[0;34m)\u001b[0m\u001b[0;34m\u001b[0m\u001b[0;34m\u001b[0m\u001b[0m\n\u001b[0m\u001b[1;32m      2\u001b[0m \u001b[0;34m\u001b[0m\u001b[0m\n\u001b[1;32m      3\u001b[0m \u001b[0mbox1\u001b[0m \u001b[0;34m=\u001b[0m \u001b[0msns\u001b[0m\u001b[0;34m.\u001b[0m\u001b[0mboxplot\u001b[0m\u001b[0;34m(\u001b[0m\u001b[0mdata\u001b[0m\u001b[0;34m=\u001b[0m\u001b[0mtrain\u001b[0m\u001b[0;34m[\u001b[0m\u001b[0mtrain\u001b[0m\u001b[0;34m[\u001b[0m\u001b[0;34m'store_and_fwd_flag'\u001b[0m\u001b[0;34m]\u001b[0m\u001b[0;34m==\u001b[0m\u001b[0;34m'N'\u001b[0m\u001b[0;34m]\u001b[0m\u001b[0;34m.\u001b[0m\u001b[0mreset_index\u001b[0m\u001b[0;34m(\u001b[0m\u001b[0;34m)\u001b[0m\u001b[0;34m,\u001b[0m \u001b[0mx\u001b[0m\u001b[0;34m=\u001b[0m\u001b[0;34m'passenger_count'\u001b[0m\u001b[0;34m,\u001b[0m \u001b[0my\u001b[0m\u001b[0;34m=\u001b[0m\u001b[0;34m'trip_duration'\u001b[0m\u001b[0;34m,\u001b[0m\u001b[0max\u001b[0m\u001b[0;34m=\u001b[0m\u001b[0max\u001b[0m\u001b[0;34m[\u001b[0m\u001b[0;36m0\u001b[0m\u001b[0;34m]\u001b[0m\u001b[0;34m)\u001b[0m\u001b[0;34m\u001b[0m\u001b[0;34m\u001b[0m\u001b[0m\n\u001b[1;32m      4\u001b[0m \u001b[0mbox2\u001b[0m \u001b[0;34m=\u001b[0m \u001b[0msns\u001b[0m\u001b[0;34m.\u001b[0m\u001b[0mboxplot\u001b[0m\u001b[0;34m(\u001b[0m\u001b[0mdata\u001b[0m\u001b[0;34m=\u001b[0m\u001b[0mtrain\u001b[0m\u001b[0;34m[\u001b[0m\u001b[0mtrain\u001b[0m\u001b[0;34m[\u001b[0m\u001b[0;34m'store_and_fwd_flag'\u001b[0m\u001b[0;34m]\u001b[0m\u001b[0;34m==\u001b[0m\u001b[0;34m'Y'\u001b[0m\u001b[0;34m]\u001b[0m\u001b[0;34m.\u001b[0m\u001b[0mreset_index\u001b[0m\u001b[0;34m(\u001b[0m\u001b[0;34m)\u001b[0m\u001b[0;34m,\u001b[0m \u001b[0mx\u001b[0m\u001b[0;34m=\u001b[0m\u001b[0;34m'passenger_count'\u001b[0m\u001b[0;34m,\u001b[0m \u001b[0my\u001b[0m\u001b[0;34m=\u001b[0m\u001b[0;34m'trip_duration'\u001b[0m\u001b[0;34m,\u001b[0m\u001b[0max\u001b[0m\u001b[0;34m=\u001b[0m\u001b[0max\u001b[0m\u001b[0;34m[\u001b[0m\u001b[0;36m1\u001b[0m\u001b[0;34m]\u001b[0m\u001b[0;34m)\u001b[0m\u001b[0;34m\u001b[0m\u001b[0;34m\u001b[0m\u001b[0m\n\u001b[1;32m      5\u001b[0m \u001b[0mbox1\u001b[0m\u001b[0;34m.\u001b[0m\u001b[0mset\u001b[0m\u001b[0;34m(\u001b[0m\u001b[0mtitle\u001b[0m\u001b[0;34m=\u001b[0m\u001b[0;34m'Passenger count and store_and_fwd_flag=N VS trip duration'\u001b[0m\u001b[0;34m)\u001b[0m\u001b[0;34m\u001b[0m\u001b[0;34m\u001b[0m\u001b[0m\n",
      "\u001b[0;31mNameError\u001b[0m: name 'plt' is not defined"
     ]
    }
   ],
   "source": [
    "fig ,ax = plt.subplots(1,2,figsize=(15,7))\n",
    "\n",
    "box1 = sns.boxplot(data=train[train['store_and_fwd_flag']=='N'].reset_index(), x='passenger_count', y='trip_duration',ax=ax[0])\n",
    "box2 = sns.boxplot(data=train[train['store_and_fwd_flag']=='Y'].reset_index(), x='passenger_count', y='trip_duration',ax=ax[1])\n",
    "box1.set(title='Passenger count and store_and_fwd_flag=N VS trip duration')\n",
    "box2.set(title='Passenger count and store_and_fwd_flag=Y VS trip duration')\n",
    "fig.tight_layout()\n",
    "fig.show()"
   ]
  },
  {
   "cell_type": "markdown",
   "id": "7f91d734",
   "metadata": {
    "papermill": {
     "duration": 0.034028,
     "end_time": "2023-10-10T06:31:28.204168",
     "exception": false,
     "start_time": "2023-10-10T06:31:28.170140",
     "status": "completed"
    },
    "tags": []
   },
   "source": [
    "Some trips which are stored are longer than the ones which are stored."
   ]
  },
  {
   "cell_type": "code",
   "execution_count": 12,
   "id": "b7e40bf4",
   "metadata": {
    "execution": {
     "iopub.execute_input": "2023-10-10T06:31:28.277232Z",
     "iopub.status.busy": "2023-10-10T06:31:28.276738Z",
     "iopub.status.idle": "2023-10-10T06:32:00.957803Z",
     "shell.execute_reply": "2023-10-10T06:32:00.956731Z"
    },
    "papermill": {
     "duration": 32.770184,
     "end_time": "2023-10-10T06:32:01.009889",
     "exception": false,
     "start_time": "2023-10-10T06:31:28.239705",
     "status": "completed"
    },
    "tags": []
   },
   "outputs": [
    {
     "ename": "NameError",
     "evalue": "name 'train' is not defined",
     "output_type": "error",
     "traceback": [
      "\u001b[0;31m---------------------------------------------------------------------------\u001b[0m",
      "\u001b[0;31mNameError\u001b[0m                                 Traceback (most recent call last)",
      "\u001b[0;32m/var/folders/cs/wy7g8nw52_bcg4mp53wnz8700000gn/T/ipykernel_52599/4099351181.py\u001b[0m in \u001b[0;36m<module>\u001b[0;34m\u001b[0m\n\u001b[0;32m----> 1\u001b[0;31m \u001b[0mkmeans_pickup\u001b[0m \u001b[0;34m=\u001b[0m \u001b[0mMiniBatchKMeans\u001b[0m\u001b[0;34m(\u001b[0m\u001b[0mn_clusters\u001b[0m\u001b[0;34m=\u001b[0m\u001b[0;36m50\u001b[0m\u001b[0;34m,\u001b[0m \u001b[0mrandom_state\u001b[0m\u001b[0;34m=\u001b[0m\u001b[0;36m2\u001b[0m\u001b[0;34m,\u001b[0m \u001b[0mbatch_size\u001b[0m\u001b[0;34m=\u001b[0m\u001b[0;36m10000\u001b[0m \u001b[0;34m,\u001b[0m\u001b[0mn_init\u001b[0m \u001b[0;34m=\u001b[0m \u001b[0;36m10\u001b[0m\u001b[0;34m)\u001b[0m\u001b[0;34m.\u001b[0m\u001b[0mfit\u001b[0m\u001b[0;34m(\u001b[0m\u001b[0mtrain\u001b[0m\u001b[0;34m[\u001b[0m\u001b[0;34m[\u001b[0m\u001b[0;34m'pickup_longitude'\u001b[0m\u001b[0;34m,\u001b[0m\u001b[0;34m'pickup_latitude'\u001b[0m\u001b[0;34m]\u001b[0m\u001b[0;34m]\u001b[0m\u001b[0;34m)\u001b[0m\u001b[0;34m\u001b[0m\u001b[0;34m\u001b[0m\u001b[0m\n\u001b[0m\u001b[1;32m      2\u001b[0m \u001b[0mkmeans_drop\u001b[0m \u001b[0;34m=\u001b[0m \u001b[0mMiniBatchKMeans\u001b[0m\u001b[0;34m(\u001b[0m\u001b[0mn_clusters\u001b[0m\u001b[0;34m=\u001b[0m\u001b[0;36m50\u001b[0m\u001b[0;34m,\u001b[0m \u001b[0mrandom_state\u001b[0m\u001b[0;34m=\u001b[0m\u001b[0;36m2\u001b[0m\u001b[0;34m,\u001b[0m \u001b[0mbatch_size\u001b[0m\u001b[0;34m=\u001b[0m\u001b[0;36m10000\u001b[0m \u001b[0;34m,\u001b[0m\u001b[0mn_init\u001b[0m \u001b[0;34m=\u001b[0m \u001b[0;36m10\u001b[0m\u001b[0;34m)\u001b[0m\u001b[0;34m.\u001b[0m\u001b[0mfit\u001b[0m\u001b[0;34m(\u001b[0m\u001b[0mtrain\u001b[0m\u001b[0;34m[\u001b[0m\u001b[0;34m[\u001b[0m\u001b[0;34m'dropoff_longitude'\u001b[0m\u001b[0;34m,\u001b[0m\u001b[0;34m'dropoff_latitude'\u001b[0m\u001b[0;34m]\u001b[0m\u001b[0;34m]\u001b[0m\u001b[0;34m)\u001b[0m\u001b[0;34m\u001b[0m\u001b[0;34m\u001b[0m\u001b[0m\n\u001b[1;32m      3\u001b[0m \u001b[0;34m\u001b[0m\u001b[0m\n\u001b[1;32m      4\u001b[0m \u001b[0;31m# train\u001b[0m\u001b[0;34m\u001b[0m\u001b[0;34m\u001b[0m\u001b[0m\n\u001b[1;32m      5\u001b[0m \u001b[0mtrain\u001b[0m\u001b[0;34m.\u001b[0m\u001b[0mloc\u001b[0m\u001b[0;34m[\u001b[0m\u001b[0;34m:\u001b[0m\u001b[0;34m,\u001b[0m\u001b[0;34m'pickup_cluster'\u001b[0m\u001b[0;34m]\u001b[0m \u001b[0;34m=\u001b[0m  \u001b[0mkmeans_pickup\u001b[0m\u001b[0;34m.\u001b[0m\u001b[0mpredict\u001b[0m\u001b[0;34m(\u001b[0m\u001b[0mtrain\u001b[0m\u001b[0;34m.\u001b[0m\u001b[0mloc\u001b[0m\u001b[0;34m[\u001b[0m\u001b[0;34m:\u001b[0m\u001b[0;34m,\u001b[0m\u001b[0;34m[\u001b[0m\u001b[0;34m'pickup_longitude'\u001b[0m\u001b[0;34m,\u001b[0m\u001b[0;34m'pickup_latitude'\u001b[0m\u001b[0;34m]\u001b[0m\u001b[0;34m]\u001b[0m\u001b[0;34m)\u001b[0m\u001b[0;34m\u001b[0m\u001b[0;34m\u001b[0m\u001b[0m\n",
      "\u001b[0;31mNameError\u001b[0m: name 'train' is not defined"
     ]
    }
   ],
   "source": [
    "kmeans_pickup = MiniBatchKMeans(n_clusters=50, random_state=2, batch_size=10000 ,n_init = 10).fit(train[['pickup_longitude','pickup_latitude']])\n",
    "kmeans_drop = MiniBatchKMeans(n_clusters=50, random_state=2, batch_size=10000 ,n_init = 10).fit(train[['dropoff_longitude','dropoff_latitude']])\n",
    "\n",
    "# train\n",
    "train.loc[:,'pickup_cluster'] =  kmeans_pickup.predict(train.loc[:,['pickup_longitude','pickup_latitude']])\n",
    "train.loc[:,'dropoff_cluster'] =  kmeans_drop.predict(train.loc[:,['dropoff_longitude','dropoff_latitude']])\n",
    "\n",
    "# test\n",
    "test.loc[:,'pickup_cluster'] =  kmeans_pickup.predict(test.loc[:,['pickup_longitude','pickup_latitude']])\n",
    "test.loc[:,'dropoff_cluster'] =  kmeans_drop.predict(test.loc[:,['dropoff_longitude','dropoff_latitude']])\n",
    "\n",
    "\n",
    "city_long_border = (-74.03, -73.75)\n",
    "city_lat_border = (40.63, 40.85)\n",
    "\n",
    "fig, ax = plt.subplots(ncols=2, nrows=1,figsize=(15,10))\n",
    "ax[0].scatter(train.pickup_longitude.values, \n",
    "           train.pickup_latitude.values, s=10, lw=0,\n",
    "           c=train.pickup_cluster.values, \n",
    "           cmap='tab20', \n",
    "           alpha=0.2)\n",
    "ax[1].scatter(train.dropoff_longitude.values, \n",
    "           train.dropoff_latitude.values, s=10, lw=0,\n",
    "           c=train.dropoff_cluster.values, \n",
    "           cmap='tab20', \n",
    "           alpha=0.2)\n",
    "\n",
    "ax[0].set_xlim(city_long_border)\n",
    "ax[0].set_ylim(city_lat_border)\n",
    "ax[0].set_xlabel('Longitude')\n",
    "ax[0].set_ylabel('Latitude')\n",
    "\n",
    "ax[1].set_xlim(city_long_border)\n",
    "ax[1].set_ylim(city_lat_border)\n",
    "ax[1].set_xlabel('Longitude')\n",
    "ax[1].set_ylabel('Latitude')\n",
    "\n",
    "ax[0].set_title('Pickup Clusters of New York')\n",
    "ax[1].set_title('Dropoff Clusters of New York')\n",
    "plt.show()"
   ]
  },
  {
   "cell_type": "code",
   "execution_count": 13,
   "id": "99d4f13a",
   "metadata": {
    "execution": {
     "iopub.execute_input": "2023-10-10T06:32:01.100484Z",
     "iopub.status.busy": "2023-10-10T06:32:01.100112Z",
     "iopub.status.idle": "2023-10-10T06:32:01.795522Z",
     "shell.execute_reply": "2023-10-10T06:32:01.794478Z"
    },
    "papermill": {
     "duration": 0.743726,
     "end_time": "2023-10-10T06:32:01.797919",
     "exception": false,
     "start_time": "2023-10-10T06:32:01.054193",
     "status": "completed"
    },
    "tags": []
   },
   "outputs": [
    {
     "ename": "NameError",
     "evalue": "name 'kmeans_pickup' is not defined",
     "output_type": "error",
     "traceback": [
      "\u001b[0;31m---------------------------------------------------------------------------\u001b[0m",
      "\u001b[0;31mNameError\u001b[0m                                 Traceback (most recent call last)",
      "\u001b[0;32m/var/folders/cs/wy7g8nw52_bcg4mp53wnz8700000gn/T/ipykernel_52599/729113295.py\u001b[0m in \u001b[0;36m<module>\u001b[0;34m\u001b[0m\n\u001b[0;32m----> 1\u001b[0;31m \u001b[0mcentroid_pickups\u001b[0m \u001b[0;34m=\u001b[0m \u001b[0mpd\u001b[0m\u001b[0;34m.\u001b[0m\u001b[0mDataFrame\u001b[0m\u001b[0;34m(\u001b[0m\u001b[0mkmeans_pickup\u001b[0m\u001b[0;34m.\u001b[0m\u001b[0mcluster_centers_\u001b[0m\u001b[0;34m,\u001b[0m \u001b[0mcolumns\u001b[0m \u001b[0;34m=\u001b[0m \u001b[0;34m[\u001b[0m\u001b[0;34m'centroid_pick_long'\u001b[0m\u001b[0;34m,\u001b[0m \u001b[0;34m'centroid_pick_lat'\u001b[0m\u001b[0;34m]\u001b[0m\u001b[0;34m)\u001b[0m\u001b[0;34m\u001b[0m\u001b[0;34m\u001b[0m\u001b[0m\n\u001b[0m\u001b[1;32m      2\u001b[0m \u001b[0mcentroid_dropoff\u001b[0m \u001b[0;34m=\u001b[0m \u001b[0mpd\u001b[0m\u001b[0;34m.\u001b[0m\u001b[0mDataFrame\u001b[0m\u001b[0;34m(\u001b[0m\u001b[0mkmeans_drop\u001b[0m\u001b[0;34m.\u001b[0m\u001b[0mcluster_centers_\u001b[0m\u001b[0;34m,\u001b[0m \u001b[0mcolumns\u001b[0m \u001b[0;34m=\u001b[0m \u001b[0;34m[\u001b[0m\u001b[0;34m'centroid_drop_long'\u001b[0m\u001b[0;34m,\u001b[0m \u001b[0;34m'centroid_drop_lat'\u001b[0m\u001b[0;34m]\u001b[0m\u001b[0;34m)\u001b[0m\u001b[0;34m\u001b[0m\u001b[0;34m\u001b[0m\u001b[0m\n\u001b[1;32m      3\u001b[0m \u001b[0;34m\u001b[0m\u001b[0m\n\u001b[1;32m      4\u001b[0m \u001b[0;31m# assign names to each cluster like 1,2,3,etc.\u001b[0m\u001b[0;34m\u001b[0m\u001b[0;34m\u001b[0m\u001b[0m\n\u001b[1;32m      5\u001b[0m \u001b[0mcentroid_pickups\u001b[0m\u001b[0;34m[\u001b[0m\u001b[0;34m'pickup_cluster'\u001b[0m\u001b[0;34m]\u001b[0m \u001b[0;34m=\u001b[0m \u001b[0mcentroid_pickups\u001b[0m\u001b[0;34m.\u001b[0m\u001b[0mindex\u001b[0m\u001b[0;34m\u001b[0m\u001b[0;34m\u001b[0m\u001b[0m\n",
      "\u001b[0;31mNameError\u001b[0m: name 'kmeans_pickup' is not defined"
     ]
    }
   ],
   "source": [
    "centroid_pickups = pd.DataFrame(kmeans_pickup.cluster_centers_, columns = ['centroid_pick_long', 'centroid_pick_lat'])\n",
    "centroid_dropoff = pd.DataFrame(kmeans_drop.cluster_centers_, columns = ['centroid_drop_long', 'centroid_drop_lat'])\n",
    "\n",
    "# assign names to each cluster like 1,2,3,etc.\n",
    "centroid_pickups['pickup_cluster'] = centroid_pickups.index\n",
    "centroid_dropoff['dropoff_cluster'] = centroid_dropoff.index\n",
    "\n",
    "# train\n",
    "train = pd.merge(train, centroid_pickups, how='left', on=['pickup_cluster'])\n",
    "train = pd.merge(train, centroid_dropoff, how='left', on=['dropoff_cluster'])\n",
    "\n",
    "# test\n",
    "test = pd.merge(test, centroid_pickups, how='left', on=['pickup_cluster'])\n",
    "test = pd.merge(test, centroid_dropoff, how='left', on=['dropoff_cluster'])"
   ]
  },
  {
   "cell_type": "code",
   "execution_count": 14,
   "id": "805c676f",
   "metadata": {
    "execution": {
     "iopub.execute_input": "2023-10-10T06:32:01.888314Z",
     "iopub.status.busy": "2023-10-10T06:32:01.887701Z",
     "iopub.status.idle": "2023-10-10T06:32:02.000637Z",
     "shell.execute_reply": "2023-10-10T06:32:01.999897Z"
    },
    "papermill": {
     "duration": 0.161742,
     "end_time": "2023-10-10T06:32:02.003219",
     "exception": false,
     "start_time": "2023-10-10T06:32:01.841477",
     "status": "completed"
    },
    "tags": []
   },
   "outputs": [
    {
     "ename": "NameError",
     "evalue": "name 'centroid_pickups' is not defined",
     "output_type": "error",
     "traceback": [
      "\u001b[0;31m---------------------------------------------------------------------------\u001b[0m",
      "\u001b[0;31mNameError\u001b[0m                                 Traceback (most recent call last)",
      "\u001b[0;32m/var/folders/cs/wy7g8nw52_bcg4mp53wnz8700000gn/T/ipykernel_52599/3545807520.py\u001b[0m in \u001b[0;36m<module>\u001b[0;34m\u001b[0m\n\u001b[1;32m     14\u001b[0m     \u001b[0;32mreturn\u001b[0m \u001b[0mm\u001b[0m\u001b[0;34m\u001b[0m\u001b[0;34m\u001b[0m\u001b[0m\n\u001b[1;32m     15\u001b[0m \u001b[0;34m\u001b[0m\u001b[0m\n\u001b[0;32m---> 16\u001b[0;31m \u001b[0mm\u001b[0m \u001b[0;34m=\u001b[0m \u001b[0mcluster_map\u001b[0m\u001b[0;34m(\u001b[0m\u001b[0mcentroid_pickups\u001b[0m\u001b[0;34m)\u001b[0m\u001b[0;34m\u001b[0m\u001b[0;34m\u001b[0m\u001b[0m\n\u001b[0m\u001b[1;32m     17\u001b[0m \u001b[0mm\u001b[0m\u001b[0;34m\u001b[0m\u001b[0;34m\u001b[0m\u001b[0m\n",
      "\u001b[0;31mNameError\u001b[0m: name 'centroid_pickups' is not defined"
     ]
    }
   ],
   "source": [
    "def cluster_map(df):\n",
    "    \n",
    "    m = folium.Map(location=[40.767937, -73.982155], zoom_start=12)\n",
    "    for i in df.index:\n",
    "\n",
    "        pick_long = centroid_pickups.iloc[i]['centroid_pick_long']\n",
    "        pick_lat = centroid_pickups.iloc[i]['centroid_pick_lat']\n",
    "        cluster_no = centroid_pickups.iloc[i]['pickup_cluster']\n",
    "        \n",
    "        pop = 'cluster no = '+str(cluster_no)\n",
    "\n",
    "        folium.CircleMarker(location=[pick_lat,pick_long], radius=20,color='red',fill_color='#3186cc').add_to(m)\n",
    "        folium.Marker(location=[pick_lat,pick_long],tooltip=pop).add_to(m)\n",
    "    return m\n",
    "\n",
    "m = cluster_map(centroid_pickups)\n",
    "m"
   ]
  },
  {
   "cell_type": "code",
   "execution_count": 15,
   "id": "d2e9b70a",
   "metadata": {
    "execution": {
     "iopub.execute_input": "2023-10-10T06:32:02.096329Z",
     "iopub.status.busy": "2023-10-10T06:32:02.095777Z",
     "iopub.status.idle": "2023-10-10T06:32:02.553115Z",
     "shell.execute_reply": "2023-10-10T06:32:02.552347Z"
    },
    "papermill": {
     "duration": 0.506619,
     "end_time": "2023-10-10T06:32:02.555396",
     "exception": false,
     "start_time": "2023-10-10T06:32:02.048777",
     "status": "completed"
    },
    "tags": []
   },
   "outputs": [
    {
     "ename": "NameError",
     "evalue": "name 'train' is not defined",
     "output_type": "error",
     "traceback": [
      "\u001b[0;31m---------------------------------------------------------------------------\u001b[0m",
      "\u001b[0;31mNameError\u001b[0m                                 Traceback (most recent call last)",
      "\u001b[0;32m/var/folders/cs/wy7g8nw52_bcg4mp53wnz8700000gn/T/ipykernel_52599/1412088284.py\u001b[0m in \u001b[0;36m<module>\u001b[0;34m\u001b[0m\n\u001b[1;32m     20\u001b[0m \u001b[0;34m\u001b[0m\u001b[0m\n\u001b[1;32m     21\u001b[0m \u001b[0;31m# train\u001b[0m\u001b[0;34m\u001b[0m\u001b[0;34m\u001b[0m\u001b[0m\n\u001b[0;32m---> 22\u001b[0;31m train.loc[:, 'distance_haversine'] = haversine_(train.loc[:,'pickup_latitude'].values, train.loc[:,'pickup_longitude'].values,\n\u001b[0m\u001b[1;32m     23\u001b[0m                                                 train.loc[:,'dropoff_latitude'].values, train.loc[:,'dropoff_longitude'].values)\n\u001b[1;32m     24\u001b[0m \u001b[0;34m\u001b[0m\u001b[0m\n",
      "\u001b[0;31mNameError\u001b[0m: name 'train' is not defined"
     ]
    }
   ],
   "source": [
    "def haversine_(lat1, lng1, lat2, lng2):\n",
    "    \"\"\"function to calculate haversine distance between two co-ordinates\"\"\"\n",
    "    lat1, lng1, lat2, lng2 = map(np.radians, (lat1, lng1, lat2, lng2))\n",
    "    AVG_EARTH_RADIUS = 6371  # in km\n",
    "    lat = lat2 - lat1\n",
    "    lng = lng2 - lng1\n",
    "    d = np.sin(lat * 0.5) ** 2 + np.cos(lat1) * np.cos(lat2) * np.sin(lng * 0.5) ** 2\n",
    "    h = 2 * AVG_EARTH_RADIUS * np.arcsin(np.sqrt(d))\n",
    "    return(h)\n",
    "\n",
    "\n",
    "def bearing_array(lat1, lng1, lat2, lng2):\n",
    "    \"\"\" Calculates the angle or direction of 2 points with consideration of the roundness of earth.\"\"\"\n",
    "    AVG_EARTH_RADIUS = 6371  # in km\n",
    "    lng_delta_rad = np.radians(lng2 - lng1)\n",
    "    lat1, lng1, lat2, lng2 = map(np.radians, (lat1, lng1, lat2, lng2))\n",
    "    y = np.sin(lng_delta_rad) * np.cos(lat2)\n",
    "    x = np.cos(lat1) * np.sin(lat2) - np.sin(lat1) * np.cos(lat2) * np.cos(lng_delta_rad)\n",
    "    return np.degrees(np.arctan2(y, x))\n",
    "\n",
    "# train\n",
    "train.loc[:, 'distance_haversine'] = haversine_(train.loc[:,'pickup_latitude'].values, train.loc[:,'pickup_longitude'].values,\n",
    "                                                train.loc[:,'dropoff_latitude'].values, train.loc[:,'dropoff_longitude'].values)\n",
    "\n",
    "train.loc[:, 'direction'] = bearing_array(train.loc[:,'pickup_latitude'].values, train.loc[:,'pickup_longitude'].values,\n",
    "                                          train.loc[:,'dropoff_latitude'].values, train.loc[:,'dropoff_longitude'].values)\n",
    "\n",
    "train.loc[:, 'center_latitude'] = (train.loc[:,'pickup_latitude'].values + train.loc[:,'dropoff_latitude'].values) / 2\n",
    "train.loc[:, 'center_longitude'] = (train.loc[:,'pickup_longitude'].values + train.loc[:,'dropoff_longitude'].values) / 2\n",
    "\n",
    "train.loc[:,'avg_speed_hvsn'] = 1000 * train.loc[:,'distance_haversine'] / np.exp(train.loc[:,'trip_duration'])\n",
    "\n",
    "# test\n",
    "test.loc[:, 'distance_haversine'] = haversine_(test.loc[:,'pickup_latitude'].values, test.loc[:,'pickup_longitude'].values,\n",
    "                                                test.loc[:,'dropoff_latitude'].values, test.loc[:,'dropoff_longitude'].values)\n",
    "\n",
    "test.loc[:, 'direction'] = bearing_array(test.loc[:,'pickup_latitude'].values, test.loc[:,'pickup_longitude'].values,\n",
    "                                          test.loc[:,'dropoff_latitude'].values, test.loc[:,'dropoff_longitude'].values)\n",
    "\n",
    "test.loc[:, 'center_latitude'] = (test.loc[:,'pickup_latitude'].values + test.loc[:,'dropoff_latitude'].values) / 2\n",
    "test.loc[:, 'center_longitude'] = (test.loc[:,'pickup_longitude'].values + test.loc[:,'dropoff_longitude'].values) / 2"
   ]
  },
  {
   "cell_type": "markdown",
   "id": "2dc7ee97",
   "metadata": {
    "papermill": {
     "duration": 0.044449,
     "end_time": "2023-10-10T06:32:02.644941",
     "exception": false,
     "start_time": "2023-10-10T06:32:02.600492",
     "status": "completed"
    },
    "tags": []
   },
   "source": [
    "#### havsine distance VS trip_duration"
   ]
  },
  {
   "cell_type": "code",
   "execution_count": 16,
   "id": "0150147a",
   "metadata": {
    "execution": {
     "iopub.execute_input": "2023-10-10T06:32:02.737848Z",
     "iopub.status.busy": "2023-10-10T06:32:02.736864Z",
     "iopub.status.idle": "2023-10-10T06:32:05.977057Z",
     "shell.execute_reply": "2023-10-10T06:32:05.975965Z"
    },
    "papermill": {
     "duration": 3.290245,
     "end_time": "2023-10-10T06:32:05.980293",
     "exception": false,
     "start_time": "2023-10-10T06:32:02.690048",
     "status": "completed"
    },
    "tags": []
   },
   "outputs": [
    {
     "ename": "NameError",
     "evalue": "name 'plt' is not defined",
     "output_type": "error",
     "traceback": [
      "\u001b[0;31m---------------------------------------------------------------------------\u001b[0m",
      "\u001b[0;31mNameError\u001b[0m                                 Traceback (most recent call last)",
      "\u001b[0;32m/var/folders/cs/wy7g8nw52_bcg4mp53wnz8700000gn/T/ipykernel_52599/1970409687.py\u001b[0m in \u001b[0;36m<module>\u001b[0;34m\u001b[0m\n\u001b[0;32m----> 1\u001b[0;31m \u001b[0mplt\u001b[0m\u001b[0;34m.\u001b[0m\u001b[0mfigure\u001b[0m\u001b[0;34m(\u001b[0m\u001b[0mfigsize\u001b[0m\u001b[0;34m=\u001b[0m\u001b[0;34m(\u001b[0m\u001b[0;36m15\u001b[0m\u001b[0;34m,\u001b[0m\u001b[0;36m5\u001b[0m\u001b[0;34m)\u001b[0m\u001b[0;34m)\u001b[0m\u001b[0;34m\u001b[0m\u001b[0;34m\u001b[0m\u001b[0m\n\u001b[0m\u001b[1;32m      2\u001b[0m \u001b[0msns\u001b[0m\u001b[0;34m.\u001b[0m\u001b[0mscatterplot\u001b[0m\u001b[0;34m(\u001b[0m\u001b[0mdata\u001b[0m \u001b[0;34m=\u001b[0m \u001b[0mtrain\u001b[0m\u001b[0;34m,\u001b[0m \u001b[0mx\u001b[0m\u001b[0;34m=\u001b[0m \u001b[0mnp\u001b[0m\u001b[0;34m.\u001b[0m\u001b[0mlog\u001b[0m\u001b[0;34m(\u001b[0m\u001b[0;36m1\u001b[0m\u001b[0;34m+\u001b[0m\u001b[0mtrain\u001b[0m\u001b[0;34m[\u001b[0m\u001b[0;34m'distance_haversine'\u001b[0m\u001b[0;34m]\u001b[0m\u001b[0;34m)\u001b[0m\u001b[0;34m,\u001b[0m\u001b[0my\u001b[0m\u001b[0;34m=\u001b[0m\u001b[0;34m'trip_duration'\u001b[0m\u001b[0;34m)\u001b[0m\u001b[0;34m\u001b[0m\u001b[0;34m\u001b[0m\u001b[0m\n\u001b[1;32m      3\u001b[0m \u001b[0mplt\u001b[0m\u001b[0;34m.\u001b[0m\u001b[0mtitle\u001b[0m\u001b[0;34m(\u001b[0m\u001b[0;34m'Change in trip duration with distance(km)'\u001b[0m\u001b[0;34m)\u001b[0m\u001b[0;34m\u001b[0m\u001b[0;34m\u001b[0m\u001b[0m\n\u001b[1;32m      4\u001b[0m \u001b[0mplt\u001b[0m\u001b[0;34m.\u001b[0m\u001b[0mshow\u001b[0m\u001b[0;34m(\u001b[0m\u001b[0;34m)\u001b[0m\u001b[0;34m\u001b[0m\u001b[0;34m\u001b[0m\u001b[0m\n",
      "\u001b[0;31mNameError\u001b[0m: name 'plt' is not defined"
     ]
    }
   ],
   "source": [
    "plt.figure(figsize=(15,5))\n",
    "sns.scatterplot(data = train, x= np.log(1+train['distance_haversine']),y='trip_duration')\n",
    "plt.title('Change in trip duration with distance(km)')\n",
    "plt.show()"
   ]
  },
  {
   "cell_type": "markdown",
   "id": "b24b0165",
   "metadata": {
    "papermill": {
     "duration": 0.058204,
     "end_time": "2023-10-10T06:32:06.096258",
     "exception": false,
     "start_time": "2023-10-10T06:32:06.038054",
     "status": "completed"
    },
    "tags": []
   },
   "source": [
    "1. We can see that with an increase distance(km) , trip duration is also increasing\n",
    "2. There are some trips with very short distance < 1 km but very high trip duration > 50min. We should remove such extreme and suspecious points"
   ]
  },
  {
   "cell_type": "code",
   "execution_count": 17,
   "id": "3bdcba12",
   "metadata": {
    "execution": {
     "iopub.execute_input": "2023-10-10T06:32:06.198835Z",
     "iopub.status.busy": "2023-10-10T06:32:06.198479Z",
     "iopub.status.idle": "2023-10-10T06:32:06.252271Z",
     "shell.execute_reply": "2023-10-10T06:32:06.251419Z"
    },
    "papermill": {
     "duration": 0.108134,
     "end_time": "2023-10-10T06:32:06.255068",
     "exception": false,
     "start_time": "2023-10-10T06:32:06.146934",
     "status": "completed"
    },
    "tags": []
   },
   "outputs": [
    {
     "ename": "NameError",
     "evalue": "name 'train' is not defined",
     "output_type": "error",
     "traceback": [
      "\u001b[0;31m---------------------------------------------------------------------------\u001b[0m",
      "\u001b[0;31mNameError\u001b[0m                                 Traceback (most recent call last)",
      "\u001b[0;32m/var/folders/cs/wy7g8nw52_bcg4mp53wnz8700000gn/T/ipykernel_52599/1227694134.py\u001b[0m in \u001b[0;36m<module>\u001b[0;34m\u001b[0m\n\u001b[1;32m      1\u001b[0m \u001b[0;31m# train\u001b[0m\u001b[0;34m\u001b[0m\u001b[0;34m\u001b[0m\u001b[0m\n\u001b[0;32m----> 2\u001b[0;31m \u001b[0mtrain\u001b[0m\u001b[0;34m.\u001b[0m\u001b[0mloc\u001b[0m\u001b[0;34m[\u001b[0m\u001b[0;34m:\u001b[0m\u001b[0;34m,\u001b[0m\u001b[0;34m'distance_haversine'\u001b[0m\u001b[0;34m]\u001b[0m \u001b[0;34m=\u001b[0m \u001b[0mnp\u001b[0m\u001b[0;34m.\u001b[0m\u001b[0mlog\u001b[0m\u001b[0;34m(\u001b[0m\u001b[0;36m1\u001b[0m\u001b[0;34m+\u001b[0m\u001b[0mtrain\u001b[0m\u001b[0;34m.\u001b[0m\u001b[0mloc\u001b[0m\u001b[0;34m[\u001b[0m\u001b[0;34m:\u001b[0m\u001b[0;34m,\u001b[0m\u001b[0;34m'distance_haversine'\u001b[0m\u001b[0;34m]\u001b[0m\u001b[0;34m)\u001b[0m\u001b[0;34m\u001b[0m\u001b[0;34m\u001b[0m\u001b[0m\n\u001b[0m\u001b[1;32m      3\u001b[0m \u001b[0mtrain\u001b[0m\u001b[0;34m.\u001b[0m\u001b[0mloc\u001b[0m\u001b[0;34m[\u001b[0m\u001b[0;34m:\u001b[0m\u001b[0;34m,\u001b[0m\u001b[0;34m'avg_speed_hvsn'\u001b[0m\u001b[0;34m]\u001b[0m \u001b[0;34m=\u001b[0m \u001b[0mnp\u001b[0m\u001b[0;34m.\u001b[0m\u001b[0mlog\u001b[0m\u001b[0;34m(\u001b[0m\u001b[0;36m1\u001b[0m\u001b[0;34m+\u001b[0m\u001b[0mtrain\u001b[0m\u001b[0;34m.\u001b[0m\u001b[0mloc\u001b[0m\u001b[0;34m[\u001b[0m\u001b[0;34m:\u001b[0m\u001b[0;34m,\u001b[0m\u001b[0;34m'avg_speed_hvsn'\u001b[0m\u001b[0;34m]\u001b[0m\u001b[0;34m)\u001b[0m\u001b[0;34m\u001b[0m\u001b[0;34m\u001b[0m\u001b[0m\n\u001b[1;32m      4\u001b[0m \u001b[0;34m\u001b[0m\u001b[0m\n\u001b[1;32m      5\u001b[0m \u001b[0;31m# test\u001b[0m\u001b[0;34m\u001b[0m\u001b[0;34m\u001b[0m\u001b[0m\n",
      "\u001b[0;31mNameError\u001b[0m: name 'train' is not defined"
     ]
    }
   ],
   "source": [
    "# train\n",
    "train.loc[:,'distance_haversine'] = np.log(1+train.loc[:,'distance_haversine'])\n",
    "train.loc[:,'avg_speed_hvsn'] = np.log(1+train.loc[:,'avg_speed_hvsn'])\n",
    "\n",
    "# test\n",
    "test.loc[:,'distance_haversine'] = np.log(1+test.loc[:,'distance_haversine'])"
   ]
  },
  {
   "cell_type": "code",
   "execution_count": 18,
   "id": "6cde4446",
   "metadata": {
    "execution": {
     "iopub.execute_input": "2023-10-10T06:32:06.360805Z",
     "iopub.status.busy": "2023-10-10T06:32:06.360121Z",
     "iopub.status.idle": "2023-10-10T06:32:07.423580Z",
     "shell.execute_reply": "2023-10-10T06:32:07.422815Z"
    },
    "papermill": {
     "duration": 1.116509,
     "end_time": "2023-10-10T06:32:07.425585",
     "exception": false,
     "start_time": "2023-10-10T06:32:06.309076",
     "status": "completed"
    },
    "tags": []
   },
   "outputs": [
    {
     "ename": "NameError",
     "evalue": "name 'train' is not defined",
     "output_type": "error",
     "traceback": [
      "\u001b[0;31m---------------------------------------------------------------------------\u001b[0m",
      "\u001b[0;31mNameError\u001b[0m                                 Traceback (most recent call last)",
      "\u001b[0;32m/var/folders/cs/wy7g8nw52_bcg4mp53wnz8700000gn/T/ipykernel_52599/1799534621.py\u001b[0m in \u001b[0;36m<module>\u001b[0;34m\u001b[0m\n\u001b[0;32m----> 1\u001b[0;31m \u001b[0mprint\u001b[0m\u001b[0;34m(\u001b[0m\u001b[0;34m'Total rows before train:'\u001b[0m\u001b[0;34m,\u001b[0m \u001b[0mtrain\u001b[0m\u001b[0;34m.\u001b[0m\u001b[0mshape\u001b[0m\u001b[0;34m[\u001b[0m\u001b[0;36m0\u001b[0m\u001b[0;34m]\u001b[0m\u001b[0;34m)\u001b[0m\u001b[0;34m\u001b[0m\u001b[0;34m\u001b[0m\u001b[0m\n\u001b[0m\u001b[1;32m      2\u001b[0m \u001b[0mprint\u001b[0m\u001b[0;34m(\u001b[0m\u001b[0;34m'Total rows before test:'\u001b[0m\u001b[0;34m,\u001b[0m \u001b[0mtest\u001b[0m\u001b[0;34m.\u001b[0m\u001b[0mshape\u001b[0m\u001b[0;34m[\u001b[0m\u001b[0;36m0\u001b[0m\u001b[0;34m]\u001b[0m\u001b[0;34m)\u001b[0m\u001b[0;34m\u001b[0m\u001b[0;34m\u001b[0m\u001b[0m\n\u001b[1;32m      3\u001b[0m \u001b[0;34m\u001b[0m\u001b[0m\n\u001b[1;32m      4\u001b[0m \u001b[0mtrain\u001b[0m \u001b[0;34m=\u001b[0m \u001b[0mtrain\u001b[0m\u001b[0;34m[\u001b[0m\u001b[0;34m(\u001b[0m\u001b[0mtrain\u001b[0m\u001b[0;34m[\u001b[0m\u001b[0;34m'trip_duration'\u001b[0m\u001b[0;34m]\u001b[0m \u001b[0;34m>\u001b[0m \u001b[0;36m3\u001b[0m\u001b[0;34m)\u001b[0m \u001b[0;34m&\u001b[0m \u001b[0;34m(\u001b[0m\u001b[0mtrain\u001b[0m\u001b[0;34m[\u001b[0m\u001b[0;34m'trip_duration'\u001b[0m\u001b[0;34m]\u001b[0m \u001b[0;34m<\u001b[0m \u001b[0;36m10\u001b[0m\u001b[0;34m)\u001b[0m\u001b[0;34m]\u001b[0m\u001b[0;34m\u001b[0m\u001b[0;34m\u001b[0m\u001b[0m\n\u001b[1;32m      5\u001b[0m \u001b[0mtrain\u001b[0m \u001b[0;34m=\u001b[0m \u001b[0mtrain\u001b[0m\u001b[0;34m[\u001b[0m\u001b[0;34m~\u001b[0m\u001b[0;34m(\u001b[0m\u001b[0mtrain\u001b[0m\u001b[0;34m[\u001b[0m\u001b[0;34m'distance_haversine'\u001b[0m\u001b[0;34m]\u001b[0m \u001b[0;34m>\u001b[0m \u001b[0;36m5\u001b[0m\u001b[0;34m)\u001b[0m\u001b[0;34m]\u001b[0m\u001b[0;34m\u001b[0m\u001b[0;34m\u001b[0m\u001b[0m\n",
      "\u001b[0;31mNameError\u001b[0m: name 'train' is not defined"
     ]
    }
   ],
   "source": [
    "print('Total rows before train:', train.shape[0])\n",
    "print('Total rows before test:', test.shape[0])\n",
    "\n",
    "train = train[(train['trip_duration'] > 3) & (train['trip_duration'] < 10)]\n",
    "train = train[~(train['distance_haversine'] > 5)]\n",
    "train = train[~((train['distance_haversine'] > 6) & (train['trip_duration'] < 6))]\n",
    "\n",
    "test = test[~(test['distance_haversine'] > 5)]\n",
    "\n",
    "print('Total rows after train:', train.shape[0])\n",
    "print('Total rows after test:', test.shape[0])"
   ]
  },
  {
   "cell_type": "code",
   "execution_count": 19,
   "id": "cfe65746",
   "metadata": {
    "execution": {
     "iopub.execute_input": "2023-10-10T06:32:07.523742Z",
     "iopub.status.busy": "2023-10-10T06:32:07.522949Z",
     "iopub.status.idle": "2023-10-10T06:32:10.681470Z",
     "shell.execute_reply": "2023-10-10T06:32:10.680335Z"
    },
    "papermill": {
     "duration": 3.212858,
     "end_time": "2023-10-10T06:32:10.686330",
     "exception": false,
     "start_time": "2023-10-10T06:32:07.473472",
     "status": "completed"
    },
    "tags": []
   },
   "outputs": [
    {
     "ename": "NameError",
     "evalue": "name 'plt' is not defined",
     "output_type": "error",
     "traceback": [
      "\u001b[0;31m---------------------------------------------------------------------------\u001b[0m",
      "\u001b[0;31mNameError\u001b[0m                                 Traceback (most recent call last)",
      "\u001b[0;32m/var/folders/cs/wy7g8nw52_bcg4mp53wnz8700000gn/T/ipykernel_52599/328924334.py\u001b[0m in \u001b[0;36m<module>\u001b[0;34m\u001b[0m\n\u001b[0;32m----> 1\u001b[0;31m \u001b[0mplt\u001b[0m\u001b[0;34m.\u001b[0m\u001b[0mfigure\u001b[0m\u001b[0;34m(\u001b[0m\u001b[0mfigsize\u001b[0m\u001b[0;34m=\u001b[0m\u001b[0;34m(\u001b[0m\u001b[0;36m15\u001b[0m\u001b[0;34m,\u001b[0m\u001b[0;36m5\u001b[0m\u001b[0;34m)\u001b[0m\u001b[0;34m)\u001b[0m\u001b[0;34m\u001b[0m\u001b[0;34m\u001b[0m\u001b[0m\n\u001b[0m\u001b[1;32m      2\u001b[0m \u001b[0msns\u001b[0m\u001b[0;34m.\u001b[0m\u001b[0mscatterplot\u001b[0m\u001b[0;34m(\u001b[0m\u001b[0mdata\u001b[0m \u001b[0;34m=\u001b[0m \u001b[0mtrain\u001b[0m\u001b[0;34m,\u001b[0m \u001b[0mx\u001b[0m\u001b[0;34m=\u001b[0m\u001b[0;34m'distance_haversine'\u001b[0m\u001b[0;34m,\u001b[0m\u001b[0my\u001b[0m\u001b[0;34m=\u001b[0m\u001b[0;34m'trip_duration'\u001b[0m\u001b[0;34m)\u001b[0m\u001b[0;34m\u001b[0m\u001b[0;34m\u001b[0m\u001b[0m\n\u001b[1;32m      3\u001b[0m \u001b[0mplt\u001b[0m\u001b[0;34m.\u001b[0m\u001b[0mtitle\u001b[0m\u001b[0;34m(\u001b[0m\u001b[0;34m'Change in log-trip duration with log-distance(km)'\u001b[0m\u001b[0;34m)\u001b[0m\u001b[0;34m\u001b[0m\u001b[0;34m\u001b[0m\u001b[0m\n\u001b[1;32m      4\u001b[0m \u001b[0mplt\u001b[0m\u001b[0;34m.\u001b[0m\u001b[0mshow\u001b[0m\u001b[0;34m(\u001b[0m\u001b[0;34m)\u001b[0m\u001b[0;34m\u001b[0m\u001b[0;34m\u001b[0m\u001b[0m\n",
      "\u001b[0;31mNameError\u001b[0m: name 'plt' is not defined"
     ]
    }
   ],
   "source": [
    "plt.figure(figsize=(15,5))\n",
    "sns.scatterplot(data = train, x='distance_haversine',y='trip_duration')\n",
    "plt.title('Change in log-trip duration with log-distance(km)')\n",
    "plt.show()"
   ]
  },
  {
   "cell_type": "code",
   "execution_count": 20,
   "id": "0d394274",
   "metadata": {
    "execution": {
     "iopub.execute_input": "2023-10-10T06:32:10.803055Z",
     "iopub.status.busy": "2023-10-10T06:32:10.802413Z",
     "iopub.status.idle": "2023-10-10T06:32:12.775822Z",
     "shell.execute_reply": "2023-10-10T06:32:12.774746Z"
    },
    "papermill": {
     "duration": 2.034024,
     "end_time": "2023-10-10T06:32:12.777842",
     "exception": false,
     "start_time": "2023-10-10T06:32:10.743818",
     "status": "completed"
    },
    "tags": []
   },
   "outputs": [
    {
     "ename": "NameError",
     "evalue": "name 'plt' is not defined",
     "output_type": "error",
     "traceback": [
      "\u001b[0;31m---------------------------------------------------------------------------\u001b[0m",
      "\u001b[0;31mNameError\u001b[0m                                 Traceback (most recent call last)",
      "\u001b[0;32m/var/folders/cs/wy7g8nw52_bcg4mp53wnz8700000gn/T/ipykernel_52599/3626839025.py\u001b[0m in \u001b[0;36m<module>\u001b[0;34m\u001b[0m\n\u001b[0;32m----> 1\u001b[0;31m \u001b[0mfig\u001b[0m \u001b[0;34m=\u001b[0m \u001b[0mplt\u001b[0m\u001b[0;34m.\u001b[0m\u001b[0mfigure\u001b[0m\u001b[0;34m(\u001b[0m\u001b[0mfigsize\u001b[0m\u001b[0;34m=\u001b[0m\u001b[0;34m(\u001b[0m\u001b[0;36m15\u001b[0m\u001b[0;34m,\u001b[0m\u001b[0;36m5\u001b[0m\u001b[0;34m)\u001b[0m\u001b[0;34m)\u001b[0m\u001b[0;34m\u001b[0m\u001b[0;34m\u001b[0m\u001b[0m\n\u001b[0m\u001b[1;32m      2\u001b[0m \u001b[0msns\u001b[0m\u001b[0;34m.\u001b[0m\u001b[0mhistplot\u001b[0m\u001b[0;34m(\u001b[0m\u001b[0mdata\u001b[0m\u001b[0;34m=\u001b[0m\u001b[0mtrain\u001b[0m\u001b[0;34m,\u001b[0m \u001b[0mx\u001b[0m\u001b[0;34m=\u001b[0m\u001b[0;34m'avg_speed_hvsn'\u001b[0m\u001b[0;34m)\u001b[0m\u001b[0;34m\u001b[0m\u001b[0;34m\u001b[0m\u001b[0m\n\u001b[1;32m      3\u001b[0m \u001b[0mplt\u001b[0m\u001b[0;34m.\u001b[0m\u001b[0mtitle\u001b[0m\u001b[0;34m(\u001b[0m\u001b[0;34m'Average log-speed distribution'\u001b[0m\u001b[0;34m)\u001b[0m\u001b[0;34m\u001b[0m\u001b[0;34m\u001b[0m\u001b[0m\n",
      "\u001b[0;31mNameError\u001b[0m: name 'plt' is not defined"
     ]
    }
   ],
   "source": [
    "fig = plt.figure(figsize=(15,5))\n",
    "sns.histplot(data=train, x='avg_speed_hvsn')\n",
    "plt.title('Average log-speed distribution')"
   ]
  },
  {
   "cell_type": "code",
   "execution_count": 21,
   "id": "79ab7422",
   "metadata": {
    "execution": {
     "iopub.execute_input": "2023-10-10T06:32:12.895196Z",
     "iopub.status.busy": "2023-10-10T06:32:12.894586Z",
     "iopub.status.idle": "2023-10-10T06:32:13.855693Z",
     "shell.execute_reply": "2023-10-10T06:32:13.854609Z"
    },
    "papermill": {
     "duration": 1.022678,
     "end_time": "2023-10-10T06:32:13.858183",
     "exception": false,
     "start_time": "2023-10-10T06:32:12.835505",
     "status": "completed"
    },
    "tags": []
   },
   "outputs": [
    {
     "ename": "NameError",
     "evalue": "name 'plt' is not defined",
     "output_type": "error",
     "traceback": [
      "\u001b[0;31m---------------------------------------------------------------------------\u001b[0m",
      "\u001b[0;31mNameError\u001b[0m                                 Traceback (most recent call last)",
      "\u001b[0;32m/var/folders/cs/wy7g8nw52_bcg4mp53wnz8700000gn/T/ipykernel_52599/664693725.py\u001b[0m in \u001b[0;36m<module>\u001b[0;34m\u001b[0m\n\u001b[0;32m----> 1\u001b[0;31m \u001b[0mfig\u001b[0m\u001b[0;34m,\u001b[0m\u001b[0max\u001b[0m \u001b[0;34m=\u001b[0m \u001b[0mplt\u001b[0m\u001b[0;34m.\u001b[0m\u001b[0msubplots\u001b[0m\u001b[0;34m(\u001b[0m\u001b[0;36m1\u001b[0m\u001b[0;34m,\u001b[0m\u001b[0;36m2\u001b[0m\u001b[0;34m,\u001b[0m\u001b[0mfigsize\u001b[0m\u001b[0;34m=\u001b[0m\u001b[0;34m(\u001b[0m\u001b[0;36m15\u001b[0m\u001b[0;34m,\u001b[0m\u001b[0;36m5\u001b[0m\u001b[0;34m)\u001b[0m\u001b[0;34m)\u001b[0m\u001b[0;34m\u001b[0m\u001b[0;34m\u001b[0m\u001b[0m\n\u001b[0m\u001b[1;32m      2\u001b[0m \u001b[0mavg_speed_every_hour\u001b[0m \u001b[0;34m=\u001b[0m \u001b[0mtrain\u001b[0m\u001b[0;34m.\u001b[0m\u001b[0mgroupby\u001b[0m\u001b[0;34m(\u001b[0m\u001b[0;34m[\u001b[0m\u001b[0;34m'pickup_hour'\u001b[0m\u001b[0;34m,\u001b[0m\u001b[0;34m'vendor_id'\u001b[0m\u001b[0;34m]\u001b[0m\u001b[0;34m)\u001b[0m\u001b[0;34m[\u001b[0m\u001b[0;34m'avg_speed_hvsn'\u001b[0m\u001b[0;34m]\u001b[0m\u001b[0;34m.\u001b[0m\u001b[0mmedian\u001b[0m\u001b[0;34m(\u001b[0m\u001b[0;34m)\u001b[0m\u001b[0;34m.\u001b[0m\u001b[0mreset_index\u001b[0m\u001b[0;34m(\u001b[0m\u001b[0;34m)\u001b[0m\u001b[0;34m\u001b[0m\u001b[0;34m\u001b[0m\u001b[0m\n\u001b[1;32m      3\u001b[0m \u001b[0mavg_speed_every_day\u001b[0m \u001b[0;34m=\u001b[0m \u001b[0mtrain\u001b[0m\u001b[0;34m.\u001b[0m\u001b[0mgroupby\u001b[0m\u001b[0;34m(\u001b[0m\u001b[0;34m[\u001b[0m\u001b[0;34m'weekday'\u001b[0m\u001b[0;34m,\u001b[0m\u001b[0;34m'vendor_id'\u001b[0m\u001b[0;34m]\u001b[0m\u001b[0;34m)\u001b[0m\u001b[0;34m[\u001b[0m\u001b[0;34m'avg_speed_hvsn'\u001b[0m\u001b[0;34m]\u001b[0m\u001b[0;34m.\u001b[0m\u001b[0mmedian\u001b[0m\u001b[0;34m(\u001b[0m\u001b[0;34m)\u001b[0m\u001b[0;34m.\u001b[0m\u001b[0mreset_index\u001b[0m\u001b[0;34m(\u001b[0m\u001b[0;34m)\u001b[0m\u001b[0;34m\u001b[0m\u001b[0;34m\u001b[0m\u001b[0m\n\u001b[1;32m      4\u001b[0m \u001b[0msns\u001b[0m\u001b[0;34m.\u001b[0m\u001b[0mlineplot\u001b[0m\u001b[0;34m(\u001b[0m\u001b[0mdata\u001b[0m \u001b[0;34m=\u001b[0m \u001b[0mavg_speed_every_hour\u001b[0m \u001b[0;34m,\u001b[0m\u001b[0mx\u001b[0m \u001b[0;34m=\u001b[0m \u001b[0;34m'pickup_hour'\u001b[0m \u001b[0;34m,\u001b[0m \u001b[0my\u001b[0m\u001b[0;34m=\u001b[0m\u001b[0;34m'avg_speed_hvsn'\u001b[0m\u001b[0;34m,\u001b[0m\u001b[0mhue\u001b[0m\u001b[0;34m=\u001b[0m\u001b[0;34m'vendor_id'\u001b[0m\u001b[0;34m,\u001b[0m\u001b[0max\u001b[0m\u001b[0;34m=\u001b[0m\u001b[0max\u001b[0m\u001b[0;34m[\u001b[0m\u001b[0;36m0\u001b[0m\u001b[0;34m]\u001b[0m\u001b[0;34m)\u001b[0m\u001b[0;34m\u001b[0m\u001b[0;34m\u001b[0m\u001b[0m\n\u001b[1;32m      5\u001b[0m \u001b[0msns\u001b[0m\u001b[0;34m.\u001b[0m\u001b[0mlineplot\u001b[0m\u001b[0;34m(\u001b[0m\u001b[0mdata\u001b[0m \u001b[0;34m=\u001b[0m \u001b[0mavg_speed_every_day\u001b[0m \u001b[0;34m,\u001b[0m\u001b[0mx\u001b[0m \u001b[0;34m=\u001b[0m \u001b[0;34m'weekday'\u001b[0m \u001b[0;34m,\u001b[0m \u001b[0my\u001b[0m\u001b[0;34m=\u001b[0m\u001b[0;34m'avg_speed_hvsn'\u001b[0m\u001b[0;34m,\u001b[0m\u001b[0mhue\u001b[0m\u001b[0;34m=\u001b[0m\u001b[0;34m'vendor_id'\u001b[0m\u001b[0;34m,\u001b[0m\u001b[0max\u001b[0m\u001b[0;34m=\u001b[0m\u001b[0max\u001b[0m\u001b[0;34m[\u001b[0m\u001b[0;36m1\u001b[0m\u001b[0;34m]\u001b[0m\u001b[0;34m)\u001b[0m\u001b[0;34m\u001b[0m\u001b[0;34m\u001b[0m\u001b[0m\n",
      "\u001b[0;31mNameError\u001b[0m: name 'plt' is not defined"
     ]
    }
   ],
   "source": [
    "fig,ax = plt.subplots(1,2,figsize=(15,5))\n",
    "avg_speed_every_hour = train.groupby(['pickup_hour','vendor_id'])['avg_speed_hvsn'].median().reset_index()\n",
    "avg_speed_every_day = train.groupby(['weekday','vendor_id'])['avg_speed_hvsn'].median().reset_index()\n",
    "sns.lineplot(data = avg_speed_every_hour ,x = 'pickup_hour' , y='avg_speed_hvsn',hue='vendor_id',ax=ax[0])\n",
    "sns.lineplot(data = avg_speed_every_day ,x = 'weekday' , y='avg_speed_hvsn',hue='vendor_id',ax=ax[1])\n",
    "ax[0].set_title('Log-Average speed on each hour')\n",
    "ax[1].set_title('Log-Average speed on each day')"
   ]
  },
  {
   "cell_type": "markdown",
   "id": "e020ba72",
   "metadata": {
    "papermill": {
     "duration": 0.059581,
     "end_time": "2023-10-10T06:32:13.977524",
     "exception": false,
     "start_time": "2023-10-10T06:32:13.917943",
     "status": "completed"
    },
    "tags": []
   },
   "source": [
    "1. Taxi travelling faster on weekends than any other day\n",
    "2. During the work hours the speed is slow\n",
    "3. We should make a new feature 'work' which denotes 8-6 pm on Mon to Friday"
   ]
  },
  {
   "cell_type": "code",
   "execution_count": 22,
   "id": "1c08fc31",
   "metadata": {
    "execution": {
     "iopub.execute_input": "2023-10-10T06:32:14.099022Z",
     "iopub.status.busy": "2023-10-10T06:32:14.098355Z",
     "iopub.status.idle": "2023-10-10T06:32:14.120262Z",
     "shell.execute_reply": "2023-10-10T06:32:14.119174Z"
    },
    "papermill": {
     "duration": 0.085412,
     "end_time": "2023-10-10T06:32:14.122411",
     "exception": false,
     "start_time": "2023-10-10T06:32:14.036999",
     "status": "completed"
    },
    "tags": []
   },
   "outputs": [
    {
     "ename": "FileNotFoundError",
     "evalue": "[Errno 2] No such file or directory: '/kaggle/input/weather-data-in-new-york-city-2016/weather_data_nyc_centralpark_2016(1).csv'",
     "output_type": "error",
     "traceback": [
      "\u001b[0;31m---------------------------------------------------------------------------\u001b[0m",
      "\u001b[0;31mFileNotFoundError\u001b[0m                         Traceback (most recent call last)",
      "\u001b[0;32m/var/folders/cs/wy7g8nw52_bcg4mp53wnz8700000gn/T/ipykernel_52599/3020221433.py\u001b[0m in \u001b[0;36m<module>\u001b[0;34m\u001b[0m\n\u001b[0;32m----> 1\u001b[0;31m \u001b[0mweather\u001b[0m \u001b[0;34m=\u001b[0m \u001b[0mpd\u001b[0m\u001b[0;34m.\u001b[0m\u001b[0mread_csv\u001b[0m\u001b[0;34m(\u001b[0m\u001b[0;34m'/kaggle/input/weather-data-in-new-york-city-2016/weather_data_nyc_centralpark_2016(1).csv'\u001b[0m\u001b[0;34m)\u001b[0m\u001b[0;34m\u001b[0m\u001b[0;34m\u001b[0m\u001b[0m\n\u001b[0m\u001b[1;32m      2\u001b[0m \u001b[0mweather\u001b[0m\u001b[0;34m[\u001b[0m\u001b[0;34m'date'\u001b[0m\u001b[0;34m]\u001b[0m \u001b[0;34m=\u001b[0m \u001b[0mpd\u001b[0m\u001b[0;34m.\u001b[0m\u001b[0mto_datetime\u001b[0m\u001b[0;34m(\u001b[0m\u001b[0mweather\u001b[0m\u001b[0;34m[\u001b[0m\u001b[0;34m'date'\u001b[0m\u001b[0;34m]\u001b[0m\u001b[0;34m,\u001b[0m\u001b[0mdayfirst\u001b[0m\u001b[0;34m=\u001b[0m\u001b[0;32mFalse\u001b[0m\u001b[0;34m,\u001b[0m\u001b[0mformat\u001b[0m\u001b[0;34m=\u001b[0m\u001b[0;34m'mixed'\u001b[0m\u001b[0;34m)\u001b[0m\u001b[0;34m\u001b[0m\u001b[0;34m\u001b[0m\u001b[0m\n\u001b[1;32m      3\u001b[0m \u001b[0mweather\u001b[0m\u001b[0;34m.\u001b[0m\u001b[0mhead\u001b[0m\u001b[0;34m(\u001b[0m\u001b[0;34m)\u001b[0m\u001b[0;34m\u001b[0m\u001b[0;34m\u001b[0m\u001b[0m\n",
      "\u001b[0;32m~/opt/anaconda3/lib/python3.9/site-packages/pandas/util/_decorators.py\u001b[0m in \u001b[0;36mwrapper\u001b[0;34m(*args, **kwargs)\u001b[0m\n\u001b[1;32m    309\u001b[0m                     \u001b[0mstacklevel\u001b[0m\u001b[0;34m=\u001b[0m\u001b[0mstacklevel\u001b[0m\u001b[0;34m,\u001b[0m\u001b[0;34m\u001b[0m\u001b[0;34m\u001b[0m\u001b[0m\n\u001b[1;32m    310\u001b[0m                 )\n\u001b[0;32m--> 311\u001b[0;31m             \u001b[0;32mreturn\u001b[0m \u001b[0mfunc\u001b[0m\u001b[0;34m(\u001b[0m\u001b[0;34m*\u001b[0m\u001b[0margs\u001b[0m\u001b[0;34m,\u001b[0m \u001b[0;34m**\u001b[0m\u001b[0mkwargs\u001b[0m\u001b[0;34m)\u001b[0m\u001b[0;34m\u001b[0m\u001b[0;34m\u001b[0m\u001b[0m\n\u001b[0m\u001b[1;32m    312\u001b[0m \u001b[0;34m\u001b[0m\u001b[0m\n\u001b[1;32m    313\u001b[0m         \u001b[0;32mreturn\u001b[0m \u001b[0mwrapper\u001b[0m\u001b[0;34m\u001b[0m\u001b[0;34m\u001b[0m\u001b[0m\n",
      "\u001b[0;32m~/opt/anaconda3/lib/python3.9/site-packages/pandas/io/parsers/readers.py\u001b[0m in \u001b[0;36mread_csv\u001b[0;34m(filepath_or_buffer, sep, delimiter, header, names, index_col, usecols, squeeze, prefix, mangle_dupe_cols, dtype, engine, converters, true_values, false_values, skipinitialspace, skiprows, skipfooter, nrows, na_values, keep_default_na, na_filter, verbose, skip_blank_lines, parse_dates, infer_datetime_format, keep_date_col, date_parser, dayfirst, cache_dates, iterator, chunksize, compression, thousands, decimal, lineterminator, quotechar, quoting, doublequote, escapechar, comment, encoding, encoding_errors, dialect, error_bad_lines, warn_bad_lines, on_bad_lines, delim_whitespace, low_memory, memory_map, float_precision, storage_options)\u001b[0m\n\u001b[1;32m    676\u001b[0m     \u001b[0mkwds\u001b[0m\u001b[0;34m.\u001b[0m\u001b[0mupdate\u001b[0m\u001b[0;34m(\u001b[0m\u001b[0mkwds_defaults\u001b[0m\u001b[0;34m)\u001b[0m\u001b[0;34m\u001b[0m\u001b[0;34m\u001b[0m\u001b[0m\n\u001b[1;32m    677\u001b[0m \u001b[0;34m\u001b[0m\u001b[0m\n\u001b[0;32m--> 678\u001b[0;31m     \u001b[0;32mreturn\u001b[0m \u001b[0m_read\u001b[0m\u001b[0;34m(\u001b[0m\u001b[0mfilepath_or_buffer\u001b[0m\u001b[0;34m,\u001b[0m \u001b[0mkwds\u001b[0m\u001b[0;34m)\u001b[0m\u001b[0;34m\u001b[0m\u001b[0;34m\u001b[0m\u001b[0m\n\u001b[0m\u001b[1;32m    679\u001b[0m \u001b[0;34m\u001b[0m\u001b[0m\n\u001b[1;32m    680\u001b[0m \u001b[0;34m\u001b[0m\u001b[0m\n",
      "\u001b[0;32m~/opt/anaconda3/lib/python3.9/site-packages/pandas/io/parsers/readers.py\u001b[0m in \u001b[0;36m_read\u001b[0;34m(filepath_or_buffer, kwds)\u001b[0m\n\u001b[1;32m    573\u001b[0m \u001b[0;34m\u001b[0m\u001b[0m\n\u001b[1;32m    574\u001b[0m     \u001b[0;31m# Create the parser.\u001b[0m\u001b[0;34m\u001b[0m\u001b[0;34m\u001b[0m\u001b[0m\n\u001b[0;32m--> 575\u001b[0;31m     \u001b[0mparser\u001b[0m \u001b[0;34m=\u001b[0m \u001b[0mTextFileReader\u001b[0m\u001b[0;34m(\u001b[0m\u001b[0mfilepath_or_buffer\u001b[0m\u001b[0;34m,\u001b[0m \u001b[0;34m**\u001b[0m\u001b[0mkwds\u001b[0m\u001b[0;34m)\u001b[0m\u001b[0;34m\u001b[0m\u001b[0;34m\u001b[0m\u001b[0m\n\u001b[0m\u001b[1;32m    576\u001b[0m \u001b[0;34m\u001b[0m\u001b[0m\n\u001b[1;32m    577\u001b[0m     \u001b[0;32mif\u001b[0m \u001b[0mchunksize\u001b[0m \u001b[0;32mor\u001b[0m \u001b[0miterator\u001b[0m\u001b[0;34m:\u001b[0m\u001b[0;34m\u001b[0m\u001b[0;34m\u001b[0m\u001b[0m\n",
      "\u001b[0;32m~/opt/anaconda3/lib/python3.9/site-packages/pandas/io/parsers/readers.py\u001b[0m in \u001b[0;36m__init__\u001b[0;34m(self, f, engine, **kwds)\u001b[0m\n\u001b[1;32m    930\u001b[0m \u001b[0;34m\u001b[0m\u001b[0m\n\u001b[1;32m    931\u001b[0m         \u001b[0mself\u001b[0m\u001b[0;34m.\u001b[0m\u001b[0mhandles\u001b[0m\u001b[0;34m:\u001b[0m \u001b[0mIOHandles\u001b[0m \u001b[0;34m|\u001b[0m \u001b[0;32mNone\u001b[0m \u001b[0;34m=\u001b[0m \u001b[0;32mNone\u001b[0m\u001b[0;34m\u001b[0m\u001b[0;34m\u001b[0m\u001b[0m\n\u001b[0;32m--> 932\u001b[0;31m         \u001b[0mself\u001b[0m\u001b[0;34m.\u001b[0m\u001b[0m_engine\u001b[0m \u001b[0;34m=\u001b[0m \u001b[0mself\u001b[0m\u001b[0;34m.\u001b[0m\u001b[0m_make_engine\u001b[0m\u001b[0;34m(\u001b[0m\u001b[0mf\u001b[0m\u001b[0;34m,\u001b[0m \u001b[0mself\u001b[0m\u001b[0;34m.\u001b[0m\u001b[0mengine\u001b[0m\u001b[0;34m)\u001b[0m\u001b[0;34m\u001b[0m\u001b[0;34m\u001b[0m\u001b[0m\n\u001b[0m\u001b[1;32m    933\u001b[0m \u001b[0;34m\u001b[0m\u001b[0m\n\u001b[1;32m    934\u001b[0m     \u001b[0;32mdef\u001b[0m \u001b[0mclose\u001b[0m\u001b[0;34m(\u001b[0m\u001b[0mself\u001b[0m\u001b[0;34m)\u001b[0m\u001b[0;34m:\u001b[0m\u001b[0;34m\u001b[0m\u001b[0;34m\u001b[0m\u001b[0m\n",
      "\u001b[0;32m~/opt/anaconda3/lib/python3.9/site-packages/pandas/io/parsers/readers.py\u001b[0m in \u001b[0;36m_make_engine\u001b[0;34m(self, f, engine)\u001b[0m\n\u001b[1;32m   1214\u001b[0m             \u001b[0;31m# \"Union[str, PathLike[str], ReadCsvBuffer[bytes], ReadCsvBuffer[str]]\"\u001b[0m\u001b[0;34m\u001b[0m\u001b[0;34m\u001b[0m\u001b[0m\n\u001b[1;32m   1215\u001b[0m             \u001b[0;31m# , \"str\", \"bool\", \"Any\", \"Any\", \"Any\", \"Any\", \"Any\"\u001b[0m\u001b[0;34m\u001b[0m\u001b[0;34m\u001b[0m\u001b[0m\n\u001b[0;32m-> 1216\u001b[0;31m             self.handles = get_handle(  # type: ignore[call-overload]\n\u001b[0m\u001b[1;32m   1217\u001b[0m                 \u001b[0mf\u001b[0m\u001b[0;34m,\u001b[0m\u001b[0;34m\u001b[0m\u001b[0;34m\u001b[0m\u001b[0m\n\u001b[1;32m   1218\u001b[0m                 \u001b[0mmode\u001b[0m\u001b[0;34m,\u001b[0m\u001b[0;34m\u001b[0m\u001b[0;34m\u001b[0m\u001b[0m\n",
      "\u001b[0;32m~/opt/anaconda3/lib/python3.9/site-packages/pandas/io/common.py\u001b[0m in \u001b[0;36mget_handle\u001b[0;34m(path_or_buf, mode, encoding, compression, memory_map, is_text, errors, storage_options)\u001b[0m\n\u001b[1;32m    784\u001b[0m         \u001b[0;32mif\u001b[0m \u001b[0mioargs\u001b[0m\u001b[0;34m.\u001b[0m\u001b[0mencoding\u001b[0m \u001b[0;32mand\u001b[0m \u001b[0;34m\"b\"\u001b[0m \u001b[0;32mnot\u001b[0m \u001b[0;32min\u001b[0m \u001b[0mioargs\u001b[0m\u001b[0;34m.\u001b[0m\u001b[0mmode\u001b[0m\u001b[0;34m:\u001b[0m\u001b[0;34m\u001b[0m\u001b[0;34m\u001b[0m\u001b[0m\n\u001b[1;32m    785\u001b[0m             \u001b[0;31m# Encoding\u001b[0m\u001b[0;34m\u001b[0m\u001b[0;34m\u001b[0m\u001b[0m\n\u001b[0;32m--> 786\u001b[0;31m             handle = open(\n\u001b[0m\u001b[1;32m    787\u001b[0m                 \u001b[0mhandle\u001b[0m\u001b[0;34m,\u001b[0m\u001b[0;34m\u001b[0m\u001b[0;34m\u001b[0m\u001b[0m\n\u001b[1;32m    788\u001b[0m                 \u001b[0mioargs\u001b[0m\u001b[0;34m.\u001b[0m\u001b[0mmode\u001b[0m\u001b[0;34m,\u001b[0m\u001b[0;34m\u001b[0m\u001b[0;34m\u001b[0m\u001b[0m\n",
      "\u001b[0;31mFileNotFoundError\u001b[0m: [Errno 2] No such file or directory: '/kaggle/input/weather-data-in-new-york-city-2016/weather_data_nyc_centralpark_2016(1).csv'"
     ]
    }
   ],
   "source": [
    "weather = pd.read_csv('/kaggle/input/weather-data-in-new-york-city-2016/weather_data_nyc_centralpark_2016(1).csv')\n",
    "weather['date'] = pd.to_datetime(weather['date'],dayfirst=False,format='mixed')\n",
    "weather.head()"
   ]
  },
  {
   "cell_type": "code",
   "execution_count": 23,
   "id": "b52d9377",
   "metadata": {
    "execution": {
     "iopub.execute_input": "2023-10-10T06:32:14.243805Z",
     "iopub.status.busy": "2023-10-10T06:32:14.242996Z",
     "iopub.status.idle": "2023-10-10T06:32:14.251262Z",
     "shell.execute_reply": "2023-10-10T06:32:14.250497Z"
    },
    "papermill": {
     "duration": 0.071506,
     "end_time": "2023-10-10T06:32:14.253377",
     "exception": false,
     "start_time": "2023-10-10T06:32:14.181871",
     "status": "completed"
    },
    "tags": []
   },
   "outputs": [
    {
     "ename": "NameError",
     "evalue": "name 'weather' is not defined",
     "output_type": "error",
     "traceback": [
      "\u001b[0;31m---------------------------------------------------------------------------\u001b[0m",
      "\u001b[0;31mNameError\u001b[0m                                 Traceback (most recent call last)",
      "\u001b[0;32m/var/folders/cs/wy7g8nw52_bcg4mp53wnz8700000gn/T/ipykernel_52599/2550098464.py\u001b[0m in \u001b[0;36m<module>\u001b[0;34m\u001b[0m\n\u001b[0;32m----> 1\u001b[0;31m \u001b[0mweather\u001b[0m\u001b[0;34m[\u001b[0m\u001b[0;34m'precipitation'\u001b[0m\u001b[0;34m]\u001b[0m \u001b[0;34m=\u001b[0m \u001b[0mweather\u001b[0m\u001b[0;34m[\u001b[0m\u001b[0;34m'precipitation'\u001b[0m\u001b[0;34m]\u001b[0m\u001b[0;34m.\u001b[0m\u001b[0mstr\u001b[0m\u001b[0;34m.\u001b[0m\u001b[0mreplace\u001b[0m\u001b[0;34m(\u001b[0m\u001b[0;34m'T'\u001b[0m\u001b[0;34m,\u001b[0m\u001b[0;34m'0.01'\u001b[0m\u001b[0;34m)\u001b[0m\u001b[0;34m.\u001b[0m\u001b[0mastype\u001b[0m\u001b[0;34m(\u001b[0m\u001b[0mfloat\u001b[0m\u001b[0;34m)\u001b[0m\u001b[0;34m\u001b[0m\u001b[0;34m\u001b[0m\u001b[0m\n\u001b[0m\u001b[1;32m      2\u001b[0m \u001b[0mweather\u001b[0m\u001b[0;34m[\u001b[0m\u001b[0;34m'snow fall'\u001b[0m\u001b[0;34m]\u001b[0m \u001b[0;34m=\u001b[0m \u001b[0mweather\u001b[0m\u001b[0;34m[\u001b[0m\u001b[0;34m'snow fall'\u001b[0m\u001b[0;34m]\u001b[0m\u001b[0;34m.\u001b[0m\u001b[0mstr\u001b[0m\u001b[0;34m.\u001b[0m\u001b[0mreplace\u001b[0m\u001b[0;34m(\u001b[0m\u001b[0;34m'T'\u001b[0m\u001b[0;34m,\u001b[0m\u001b[0;34m'0.01'\u001b[0m\u001b[0;34m)\u001b[0m\u001b[0;34m.\u001b[0m\u001b[0mastype\u001b[0m\u001b[0;34m(\u001b[0m\u001b[0mfloat\u001b[0m\u001b[0;34m)\u001b[0m\u001b[0;34m\u001b[0m\u001b[0;34m\u001b[0m\u001b[0m\n\u001b[1;32m      3\u001b[0m \u001b[0mweather\u001b[0m\u001b[0;34m[\u001b[0m\u001b[0;34m'snow depth'\u001b[0m\u001b[0;34m]\u001b[0m \u001b[0;34m=\u001b[0m \u001b[0mweather\u001b[0m\u001b[0;34m[\u001b[0m\u001b[0;34m'snow depth'\u001b[0m\u001b[0;34m]\u001b[0m\u001b[0;34m.\u001b[0m\u001b[0mstr\u001b[0m\u001b[0;34m.\u001b[0m\u001b[0mreplace\u001b[0m\u001b[0;34m(\u001b[0m\u001b[0;34m'T'\u001b[0m\u001b[0;34m,\u001b[0m\u001b[0;34m'0.01'\u001b[0m\u001b[0;34m)\u001b[0m\u001b[0;34m.\u001b[0m\u001b[0mastype\u001b[0m\u001b[0;34m(\u001b[0m\u001b[0mfloat\u001b[0m\u001b[0;34m)\u001b[0m\u001b[0;34m\u001b[0m\u001b[0;34m\u001b[0m\u001b[0m\n",
      "\u001b[0;31mNameError\u001b[0m: name 'weather' is not defined"
     ]
    }
   ],
   "source": [
    "weather['precipitation'] = weather['precipitation'].str.replace('T','0.01').astype(float)\n",
    "weather['snow fall'] = weather['snow fall'].str.replace('T','0.01').astype(float)\n",
    "weather['snow depth'] = weather['snow depth'].str.replace('T','0.01').astype(float)"
   ]
  },
  {
   "cell_type": "code",
   "execution_count": 24,
   "id": "f8c088a0",
   "metadata": {
    "execution": {
     "iopub.execute_input": "2023-10-10T06:32:14.373933Z",
     "iopub.status.busy": "2023-10-10T06:32:14.373248Z",
     "iopub.status.idle": "2023-10-10T06:32:15.426247Z",
     "shell.execute_reply": "2023-10-10T06:32:15.425137Z"
    },
    "papermill": {
     "duration": 1.115559,
     "end_time": "2023-10-10T06:32:15.428292",
     "exception": false,
     "start_time": "2023-10-10T06:32:14.312733",
     "status": "completed"
    },
    "tags": []
   },
   "outputs": [
    {
     "ename": "NameError",
     "evalue": "name 'train' is not defined",
     "output_type": "error",
     "traceback": [
      "\u001b[0;31m---------------------------------------------------------------------------\u001b[0m",
      "\u001b[0;31mNameError\u001b[0m                                 Traceback (most recent call last)",
      "\u001b[0;32m/var/folders/cs/wy7g8nw52_bcg4mp53wnz8700000gn/T/ipykernel_52599/1409077300.py\u001b[0m in \u001b[0;36m<module>\u001b[0;34m\u001b[0m\n\u001b[0;32m----> 1\u001b[0;31m \u001b[0mtrain\u001b[0m \u001b[0;34m=\u001b[0m \u001b[0mpd\u001b[0m\u001b[0;34m.\u001b[0m\u001b[0mmerge\u001b[0m\u001b[0;34m(\u001b[0m\u001b[0mtrain\u001b[0m\u001b[0;34m,\u001b[0m\u001b[0mweather\u001b[0m\u001b[0;34m,\u001b[0m\u001b[0mon\u001b[0m\u001b[0;34m=\u001b[0m\u001b[0;34m'date'\u001b[0m\u001b[0;34m)\u001b[0m\u001b[0;34m\u001b[0m\u001b[0;34m\u001b[0m\u001b[0m\n\u001b[0m\u001b[1;32m      2\u001b[0m \u001b[0mtest\u001b[0m \u001b[0;34m=\u001b[0m \u001b[0mpd\u001b[0m\u001b[0;34m.\u001b[0m\u001b[0mmerge\u001b[0m\u001b[0;34m(\u001b[0m\u001b[0mtest\u001b[0m\u001b[0;34m,\u001b[0m\u001b[0mweather\u001b[0m\u001b[0;34m,\u001b[0m\u001b[0mon\u001b[0m\u001b[0;34m=\u001b[0m\u001b[0;34m'date'\u001b[0m\u001b[0;34m)\u001b[0m\u001b[0;34m\u001b[0m\u001b[0;34m\u001b[0m\u001b[0m\n\u001b[1;32m      3\u001b[0m \u001b[0mprint\u001b[0m\u001b[0;34m(\u001b[0m\u001b[0;34m'Train shape:'\u001b[0m\u001b[0;34m,\u001b[0m\u001b[0mtrain\u001b[0m\u001b[0;34m.\u001b[0m\u001b[0mshape\u001b[0m\u001b[0;34m)\u001b[0m\u001b[0;34m\u001b[0m\u001b[0;34m\u001b[0m\u001b[0m\n\u001b[1;32m      4\u001b[0m \u001b[0mprint\u001b[0m\u001b[0;34m(\u001b[0m\u001b[0;34m'Test shape:'\u001b[0m\u001b[0;34m,\u001b[0m\u001b[0mtest\u001b[0m\u001b[0;34m.\u001b[0m\u001b[0mshape\u001b[0m\u001b[0;34m)\u001b[0m\u001b[0;34m\u001b[0m\u001b[0;34m\u001b[0m\u001b[0m\n",
      "\u001b[0;31mNameError\u001b[0m: name 'train' is not defined"
     ]
    }
   ],
   "source": [
    "train = pd.merge(train,weather,on='date')\n",
    "test = pd.merge(test,weather,on='date')\n",
    "print('Train shape:',train.shape)\n",
    "print('Test shape:',test.shape)"
   ]
  },
  {
   "cell_type": "code",
   "execution_count": 25,
   "id": "1560e273",
   "metadata": {
    "execution": {
     "iopub.execute_input": "2023-10-10T06:32:15.549042Z",
     "iopub.status.busy": "2023-10-10T06:32:15.548414Z",
     "iopub.status.idle": "2023-10-10T06:33:12.800994Z",
     "shell.execute_reply": "2023-10-10T06:33:12.799740Z"
    },
    "papermill": {
     "duration": 57.377324,
     "end_time": "2023-10-10T06:33:12.864808",
     "exception": false,
     "start_time": "2023-10-10T06:32:15.487484",
     "status": "completed"
    },
    "tags": []
   },
   "outputs": [
    {
     "ename": "NameError",
     "evalue": "name 'plt' is not defined",
     "output_type": "error",
     "traceback": [
      "\u001b[0;31m---------------------------------------------------------------------------\u001b[0m",
      "\u001b[0;31mNameError\u001b[0m                                 Traceback (most recent call last)",
      "\u001b[0;32m/var/folders/cs/wy7g8nw52_bcg4mp53wnz8700000gn/T/ipykernel_52599/2228427256.py\u001b[0m in \u001b[0;36m<module>\u001b[0;34m\u001b[0m\n\u001b[0;32m----> 1\u001b[0;31m \u001b[0mfig\u001b[0m \u001b[0;34m,\u001b[0m \u001b[0max\u001b[0m \u001b[0;34m=\u001b[0m \u001b[0mplt\u001b[0m\u001b[0;34m.\u001b[0m\u001b[0msubplots\u001b[0m\u001b[0;34m(\u001b[0m\u001b[0;36m4\u001b[0m\u001b[0;34m,\u001b[0m\u001b[0;36m1\u001b[0m\u001b[0;34m,\u001b[0m\u001b[0mfigsize\u001b[0m\u001b[0;34m=\u001b[0m\u001b[0;34m(\u001b[0m\u001b[0;36m15\u001b[0m\u001b[0;34m,\u001b[0m\u001b[0;36m7\u001b[0m\u001b[0;34m)\u001b[0m\u001b[0;34m,\u001b[0m\u001b[0msharex\u001b[0m\u001b[0;34m=\u001b[0m\u001b[0;32mTrue\u001b[0m\u001b[0;34m)\u001b[0m\u001b[0;34m\u001b[0m\u001b[0;34m\u001b[0m\u001b[0m\n\u001b[0m\u001b[1;32m      2\u001b[0m \u001b[0;31m# avg_speed_dates = total2.groupby(['date'])['avg_speed_hvsn'].median().reset_index()\u001b[0m\u001b[0;34m\u001b[0m\u001b[0;34m\u001b[0m\u001b[0m\n\u001b[1;32m      3\u001b[0m \u001b[0mtrips_per_day\u001b[0m \u001b[0;34m=\u001b[0m \u001b[0mpd\u001b[0m\u001b[0;34m.\u001b[0m\u001b[0mDataFrame\u001b[0m\u001b[0;34m(\u001b[0m\u001b[0mtrain\u001b[0m\u001b[0;34m.\u001b[0m\u001b[0mgroupby\u001b[0m\u001b[0;34m(\u001b[0m\u001b[0;34m[\u001b[0m\u001b[0;34m'date'\u001b[0m\u001b[0;34m]\u001b[0m\u001b[0;34m)\u001b[0m\u001b[0;34m[\u001b[0m\u001b[0;34m'date'\u001b[0m\u001b[0;34m]\u001b[0m\u001b[0;34m.\u001b[0m\u001b[0mcount\u001b[0m\u001b[0;34m(\u001b[0m\u001b[0;34m)\u001b[0m\u001b[0;34m)\u001b[0m\u001b[0;34m.\u001b[0m\u001b[0mrename\u001b[0m\u001b[0;34m(\u001b[0m\u001b[0mcolumns\u001b[0m\u001b[0;34m=\u001b[0m\u001b[0;34m{\u001b[0m\u001b[0;34m'date'\u001b[0m\u001b[0;34m:\u001b[0m\u001b[0;34m'trip_count'\u001b[0m\u001b[0;34m}\u001b[0m\u001b[0;34m)\u001b[0m\u001b[0;34m.\u001b[0m\u001b[0mreset_index\u001b[0m\u001b[0;34m(\u001b[0m\u001b[0;34m)\u001b[0m\u001b[0;34m\u001b[0m\u001b[0;34m\u001b[0m\u001b[0m\n\u001b[1;32m      4\u001b[0m \u001b[0msns\u001b[0m\u001b[0;34m.\u001b[0m\u001b[0mlineplot\u001b[0m\u001b[0;34m(\u001b[0m\u001b[0mdata\u001b[0m\u001b[0;34m=\u001b[0m\u001b[0mtrain\u001b[0m\u001b[0;34m,\u001b[0m \u001b[0mx\u001b[0m\u001b[0;34m=\u001b[0m\u001b[0;34m'date'\u001b[0m\u001b[0;34m,\u001b[0m\u001b[0my\u001b[0m\u001b[0;34m=\u001b[0m\u001b[0;34m'precipitation'\u001b[0m\u001b[0;34m,\u001b[0m\u001b[0max\u001b[0m\u001b[0;34m=\u001b[0m\u001b[0max\u001b[0m\u001b[0;34m[\u001b[0m\u001b[0;36m0\u001b[0m\u001b[0;34m]\u001b[0m\u001b[0;34m,\u001b[0m\u001b[0mcolor\u001b[0m\u001b[0;34m=\u001b[0m\u001b[0;34m'orange'\u001b[0m\u001b[0;34m)\u001b[0m\u001b[0;34m\u001b[0m\u001b[0;34m\u001b[0m\u001b[0m\n\u001b[1;32m      5\u001b[0m \u001b[0msns\u001b[0m\u001b[0;34m.\u001b[0m\u001b[0mlineplot\u001b[0m\u001b[0;34m(\u001b[0m\u001b[0mdata\u001b[0m\u001b[0;34m=\u001b[0m\u001b[0mtrain\u001b[0m\u001b[0;34m,\u001b[0m \u001b[0mx\u001b[0m\u001b[0;34m=\u001b[0m\u001b[0;34m'date'\u001b[0m\u001b[0;34m,\u001b[0m\u001b[0my\u001b[0m\u001b[0;34m=\u001b[0m\u001b[0;34m'snow fall'\u001b[0m\u001b[0;34m,\u001b[0m\u001b[0max\u001b[0m\u001b[0;34m=\u001b[0m\u001b[0max\u001b[0m\u001b[0;34m[\u001b[0m\u001b[0;36m1\u001b[0m\u001b[0;34m]\u001b[0m\u001b[0;34m,\u001b[0m\u001b[0mcolor\u001b[0m\u001b[0;34m=\u001b[0m\u001b[0;34m'red'\u001b[0m\u001b[0;34m)\u001b[0m\u001b[0;34m\u001b[0m\u001b[0;34m\u001b[0m\u001b[0m\n",
      "\u001b[0;31mNameError\u001b[0m: name 'plt' is not defined"
     ]
    }
   ],
   "source": [
    "fig , ax = plt.subplots(4,1,figsize=(15,7),sharex=True)\n",
    "# avg_speed_dates = total2.groupby(['date'])['avg_speed_hvsn'].median().reset_index()\n",
    "trips_per_day = pd.DataFrame(train.groupby(['date'])['date'].count()).rename(columns={'date':'trip_count'}).reset_index()\n",
    "sns.lineplot(data=train, x='date',y='precipitation',ax=ax[0],color='orange')\n",
    "sns.lineplot(data=train, x='date',y='snow fall',ax=ax[1],color='red')\n",
    "sns.lineplot(data=train, x='date',y='snow depth',ax=ax[2],color='purple')\n",
    "sns.lineplot(data=trips_per_day, x='date',y='trip_count',ax=ax[3],color='green')\n",
    "\n",
    "fig.tight_layout()"
   ]
  },
  {
   "cell_type": "markdown",
   "id": "43253890",
   "metadata": {
    "papermill": {
     "duration": 0.060707,
     "end_time": "2023-10-10T06:33:12.986460",
     "exception": false,
     "start_time": "2023-10-10T06:33:12.925753",
     "status": "completed"
    },
    "tags": []
   },
   "source": [
    "We can see a spike between the month of January and Feburary of 2016 for high snowfall and precipitation and strong dip in passenger count at the same time which is indeed true.More can be read from [here](https://www.weather.gov/okx/Blizzard_Jan2016) "
   ]
  },
  {
   "cell_type": "code",
   "execution_count": 26,
   "id": "d01cd6ac",
   "metadata": {
    "execution": {
     "iopub.execute_input": "2023-10-10T06:33:13.111912Z",
     "iopub.status.busy": "2023-10-10T06:33:13.111517Z",
     "iopub.status.idle": "2023-10-10T06:33:13.269693Z",
     "shell.execute_reply": "2023-10-10T06:33:13.268823Z"
    },
    "papermill": {
     "duration": 0.22304,
     "end_time": "2023-10-10T06:33:13.272079",
     "exception": false,
     "start_time": "2023-10-10T06:33:13.049039",
     "status": "completed"
    },
    "tags": []
   },
   "outputs": [
    {
     "ename": "NameError",
     "evalue": "name 'train' is not defined",
     "output_type": "error",
     "traceback": [
      "\u001b[0;31m---------------------------------------------------------------------------\u001b[0m",
      "\u001b[0;31mNameError\u001b[0m                                 Traceback (most recent call last)",
      "\u001b[0;32m/var/folders/cs/wy7g8nw52_bcg4mp53wnz8700000gn/T/ipykernel_52599/3603079163.py\u001b[0m in \u001b[0;36m<module>\u001b[0;34m\u001b[0m\n\u001b[1;32m      1\u001b[0m \u001b[0;31m# convert to numerical\u001b[0m\u001b[0;34m\u001b[0m\u001b[0;34m\u001b[0m\u001b[0m\n\u001b[0;32m----> 2\u001b[0;31m \u001b[0mtrain\u001b[0m\u001b[0;34m.\u001b[0m\u001b[0mstore_and_fwd_flag\u001b[0m \u001b[0;34m=\u001b[0m \u001b[0;34m(\u001b[0m\u001b[0mtrain\u001b[0m\u001b[0;34m.\u001b[0m\u001b[0mstore_and_fwd_flag\u001b[0m\u001b[0;34m==\u001b[0m\u001b[0;34m'Y'\u001b[0m\u001b[0;34m)\u001b[0m\u001b[0;34m.\u001b[0m\u001b[0mastype\u001b[0m\u001b[0;34m(\u001b[0m\u001b[0mint\u001b[0m\u001b[0;34m)\u001b[0m\u001b[0;34m\u001b[0m\u001b[0;34m\u001b[0m\u001b[0m\n\u001b[0m\u001b[1;32m      3\u001b[0m \u001b[0mtest\u001b[0m\u001b[0;34m.\u001b[0m\u001b[0mstore_and_fwd_flag\u001b[0m \u001b[0;34m=\u001b[0m \u001b[0;34m(\u001b[0m\u001b[0mtest\u001b[0m\u001b[0;34m.\u001b[0m\u001b[0mstore_and_fwd_flag\u001b[0m\u001b[0;34m==\u001b[0m\u001b[0;34m'Y'\u001b[0m\u001b[0;34m)\u001b[0m\u001b[0;34m.\u001b[0m\u001b[0mastype\u001b[0m\u001b[0;34m(\u001b[0m\u001b[0mint\u001b[0m\u001b[0;34m)\u001b[0m\u001b[0;34m\u001b[0m\u001b[0;34m\u001b[0m\u001b[0m\n",
      "\u001b[0;31mNameError\u001b[0m: name 'train' is not defined"
     ]
    }
   ],
   "source": [
    "# convert to numerical\n",
    "train.store_and_fwd_flag = (train.store_and_fwd_flag=='Y').astype(int)\n",
    "test.store_and_fwd_flag = (test.store_and_fwd_flag=='Y').astype(int)"
   ]
  },
  {
   "cell_type": "code",
   "execution_count": 27,
   "id": "5fbd12e6",
   "metadata": {
    "execution": {
     "iopub.execute_input": "2023-10-10T06:33:13.396243Z",
     "iopub.status.busy": "2023-10-10T06:33:13.395486Z",
     "iopub.status.idle": "2023-10-10T06:33:20.693346Z",
     "shell.execute_reply": "2023-10-10T06:33:20.692190Z"
    },
    "papermill": {
     "duration": 7.363421,
     "end_time": "2023-10-10T06:33:20.696581",
     "exception": false,
     "start_time": "2023-10-10T06:33:13.333160",
     "status": "completed"
    },
    "tags": []
   },
   "outputs": [
    {
     "ename": "NameError",
     "evalue": "name 'sns' is not defined",
     "output_type": "error",
     "traceback": [
      "\u001b[0;31m---------------------------------------------------------------------------\u001b[0m",
      "\u001b[0;31mNameError\u001b[0m                                 Traceback (most recent call last)",
      "\u001b[0;32m/var/folders/cs/wy7g8nw52_bcg4mp53wnz8700000gn/T/ipykernel_52599/2523441426.py\u001b[0m in \u001b[0;36m<module>\u001b[0;34m\u001b[0m\n\u001b[0;32m----> 1\u001b[0;31m \u001b[0msns\u001b[0m\u001b[0;34m.\u001b[0m\u001b[0mset\u001b[0m\u001b[0;34m(\u001b[0m\u001b[0mstyle\u001b[0m\u001b[0;34m=\u001b[0m\u001b[0;34m\"white\"\u001b[0m\u001b[0;34m)\u001b[0m\u001b[0;34m\u001b[0m\u001b[0;34m\u001b[0m\u001b[0m\n\u001b[0m\u001b[1;32m      2\u001b[0m \u001b[0;34m\u001b[0m\u001b[0m\n\u001b[1;32m      3\u001b[0m \u001b[0;31m# Generate a large random dataset\u001b[0m\u001b[0;34m\u001b[0m\u001b[0;34m\u001b[0m\u001b[0m\n\u001b[1;32m      4\u001b[0m \u001b[0mtemp3\u001b[0m \u001b[0;34m=\u001b[0m \u001b[0mtrain\u001b[0m\u001b[0;34m.\u001b[0m\u001b[0mcopy\u001b[0m\u001b[0;34m(\u001b[0m\u001b[0;34m)\u001b[0m\u001b[0;34m\u001b[0m\u001b[0;34m\u001b[0m\u001b[0m\n\u001b[1;32m      5\u001b[0m \u001b[0mtemp3\u001b[0m\u001b[0;34m.\u001b[0m\u001b[0mdrop\u001b[0m\u001b[0;34m(\u001b[0m\u001b[0;34m[\u001b[0m\u001b[0;34m'id'\u001b[0m\u001b[0;34m]\u001b[0m\u001b[0;34m,\u001b[0m\u001b[0maxis\u001b[0m\u001b[0;34m=\u001b[0m\u001b[0;36m1\u001b[0m\u001b[0;34m,\u001b[0m\u001b[0minplace\u001b[0m\u001b[0;34m=\u001b[0m\u001b[0;32mTrue\u001b[0m\u001b[0;34m)\u001b[0m\u001b[0;34m\u001b[0m\u001b[0;34m\u001b[0m\u001b[0m\n",
      "\u001b[0;31mNameError\u001b[0m: name 'sns' is not defined"
     ]
    }
   ],
   "source": [
    "sns.set(style=\"white\")\n",
    "\n",
    "# Generate a large random dataset\n",
    "temp3 = train.copy()\n",
    "temp3.drop(['id'],axis=1,inplace=True)\n",
    "\n",
    "# Compute the correlation matrix\n",
    "corr = temp3.corr()\n",
    "\n",
    "# Generate a mask for the upper triangle\n",
    "mask = np.zeros_like(corr, dtype=np.bool)\n",
    "mask[np.triu_indices_from(mask)] = True\n",
    "\n",
    "# Set up the matplotlib figure\n",
    "f, ax = plt.subplots(figsize=(15, 13))\n",
    "\n",
    "# Generate a custom diverging colormap\n",
    "cmap = sns.diverging_palette(220, 10, as_cmap=True)\n",
    "\n",
    "# Draw the heatmap with the mask and correct aspect ratio\n",
    "sns.heatmap(corr, mask=mask, cmap=cmap, vmax=.3, center=0,\n",
    "            square=True, linewidths=.5, cbar_kws={\"shrink\": .5})"
   ]
  },
  {
   "cell_type": "code",
   "execution_count": 28,
   "id": "54a463d5",
   "metadata": {
    "execution": {
     "iopub.execute_input": "2023-10-10T06:33:20.828285Z",
     "iopub.status.busy": "2023-10-10T06:33:20.827728Z",
     "iopub.status.idle": "2023-10-10T06:33:20.961486Z",
     "shell.execute_reply": "2023-10-10T06:33:20.960739Z"
    },
    "papermill": {
     "duration": 0.202495,
     "end_time": "2023-10-10T06:33:20.963357",
     "exception": false,
     "start_time": "2023-10-10T06:33:20.760862",
     "status": "completed"
    },
    "tags": []
   },
   "outputs": [
    {
     "ename": "NameError",
     "evalue": "name 'train' is not defined",
     "output_type": "error",
     "traceback": [
      "\u001b[0;31m---------------------------------------------------------------------------\u001b[0m",
      "\u001b[0;31mNameError\u001b[0m                                 Traceback (most recent call last)",
      "\u001b[0;32m/var/folders/cs/wy7g8nw52_bcg4mp53wnz8700000gn/T/ipykernel_52599/2376689943.py\u001b[0m in \u001b[0;36m<module>\u001b[0;34m\u001b[0m\n\u001b[0;32m----> 1\u001b[0;31m \u001b[0my\u001b[0m \u001b[0;34m=\u001b[0m \u001b[0mtrain\u001b[0m\u001b[0;34m[\u001b[0m\u001b[0;34m'trip_duration'\u001b[0m\u001b[0;34m]\u001b[0m\u001b[0;34m\u001b[0m\u001b[0;34m\u001b[0m\u001b[0m\n\u001b[0m\u001b[1;32m      2\u001b[0m \u001b[0mtrain_id\u001b[0m \u001b[0;34m=\u001b[0m \u001b[0mtrain\u001b[0m\u001b[0;34m[\u001b[0m\u001b[0;34m'id'\u001b[0m\u001b[0;34m]\u001b[0m\u001b[0;34m\u001b[0m\u001b[0;34m\u001b[0m\u001b[0m\n\u001b[1;32m      3\u001b[0m \u001b[0mtest_id\u001b[0m \u001b[0;34m=\u001b[0m \u001b[0mtest\u001b[0m\u001b[0;34m[\u001b[0m\u001b[0;34m'id'\u001b[0m\u001b[0;34m]\u001b[0m\u001b[0;34m\u001b[0m\u001b[0;34m\u001b[0m\u001b[0m\n\u001b[1;32m      4\u001b[0m \u001b[0mtrain\u001b[0m \u001b[0;34m=\u001b[0m \u001b[0mtrain\u001b[0m\u001b[0;34m.\u001b[0m\u001b[0mdrop\u001b[0m\u001b[0;34m(\u001b[0m\u001b[0;34m[\u001b[0m\u001b[0;34m'id'\u001b[0m\u001b[0;34m,\u001b[0m \u001b[0;34m'pickup_datetime'\u001b[0m\u001b[0;34m,\u001b[0m\u001b[0;34m'dropoff_datetime'\u001b[0m\u001b[0;34m,\u001b[0m\u001b[0;34m'trip_duration'\u001b[0m\u001b[0;34m,\u001b[0m \u001b[0;34m'pickup_date'\u001b[0m\u001b[0;34m,\u001b[0m\u001b[0;34m'dropoff_date'\u001b[0m\u001b[0;34m,\u001b[0m\u001b[0;34m'date'\u001b[0m\u001b[0;34m,\u001b[0m\u001b[0;34m'avg_speed_hvsn'\u001b[0m\u001b[0;34m]\u001b[0m\u001b[0;34m,\u001b[0m\u001b[0maxis\u001b[0m\u001b[0;34m=\u001b[0m\u001b[0;36m1\u001b[0m\u001b[0;34m)\u001b[0m\u001b[0;34m\u001b[0m\u001b[0;34m\u001b[0m\u001b[0m\n\u001b[1;32m      5\u001b[0m \u001b[0mtest\u001b[0m \u001b[0;34m=\u001b[0m \u001b[0mtest\u001b[0m\u001b[0;34m.\u001b[0m\u001b[0mdrop\u001b[0m\u001b[0;34m(\u001b[0m\u001b[0;34m[\u001b[0m\u001b[0;34m'id'\u001b[0m\u001b[0;34m,\u001b[0m \u001b[0;34m'pickup_datetime'\u001b[0m\u001b[0;34m,\u001b[0m \u001b[0;34m'pickup_date'\u001b[0m\u001b[0;34m,\u001b[0m\u001b[0;34m'date'\u001b[0m\u001b[0;34m,\u001b[0m\u001b[0;34m]\u001b[0m\u001b[0;34m,\u001b[0m\u001b[0maxis\u001b[0m\u001b[0;34m=\u001b[0m\u001b[0;36m1\u001b[0m\u001b[0;34m)\u001b[0m\u001b[0;34m\u001b[0m\u001b[0;34m\u001b[0m\u001b[0m\n",
      "\u001b[0;31mNameError\u001b[0m: name 'train' is not defined"
     ]
    }
   ],
   "source": [
    "y = train['trip_duration']\n",
    "train_id = train['id']\n",
    "test_id = test['id']\n",
    "train = train.drop(['id', 'pickup_datetime','dropoff_datetime','trip_duration', 'pickup_date','dropoff_date','date','avg_speed_hvsn'],axis=1)\n",
    "test = test.drop(['id', 'pickup_datetime', 'pickup_date','date',],axis=1)\n",
    "print(train.shape,test.shape)"
   ]
  },
  {
   "cell_type": "code",
   "execution_count": 29,
   "id": "fdd8aa28",
   "metadata": {
    "execution": {
     "iopub.execute_input": "2023-10-10T06:33:21.094525Z",
     "iopub.status.busy": "2023-10-10T06:33:21.093965Z",
     "iopub.status.idle": "2023-10-10T06:33:22.057203Z",
     "shell.execute_reply": "2023-10-10T06:33:22.056050Z"
    },
    "papermill": {
     "duration": 1.031704,
     "end_time": "2023-10-10T06:33:22.059503",
     "exception": false,
     "start_time": "2023-10-10T06:33:21.027799",
     "status": "completed"
    },
    "tags": []
   },
   "outputs": [
    {
     "ename": "NameError",
     "evalue": "name 'train' is not defined",
     "output_type": "error",
     "traceback": [
      "\u001b[0;31m---------------------------------------------------------------------------\u001b[0m",
      "\u001b[0;31mNameError\u001b[0m                                 Traceback (most recent call last)",
      "\u001b[0;32m/var/folders/cs/wy7g8nw52_bcg4mp53wnz8700000gn/T/ipykernel_52599/1817136444.py\u001b[0m in \u001b[0;36m<module>\u001b[0;34m\u001b[0m\n\u001b[0;32m----> 1\u001b[0;31m \u001b[0mtrain\u001b[0m \u001b[0;34m=\u001b[0m \u001b[0mtrain\u001b[0m\u001b[0;34m.\u001b[0m\u001b[0mreset_index\u001b[0m\u001b[0;34m(\u001b[0m\u001b[0mdrop\u001b[0m\u001b[0;34m=\u001b[0m\u001b[0;32mTrue\u001b[0m\u001b[0;34m)\u001b[0m\u001b[0;34m\u001b[0m\u001b[0;34m\u001b[0m\u001b[0m\n\u001b[0m\u001b[1;32m      2\u001b[0m \u001b[0mtest\u001b[0m \u001b[0;34m=\u001b[0m \u001b[0mtest\u001b[0m\u001b[0;34m.\u001b[0m\u001b[0mreset_index\u001b[0m\u001b[0;34m(\u001b[0m\u001b[0mdrop\u001b[0m\u001b[0;34m=\u001b[0m\u001b[0;32mTrue\u001b[0m\u001b[0;34m)\u001b[0m\u001b[0;34m\u001b[0m\u001b[0;34m\u001b[0m\u001b[0m\n\u001b[1;32m      3\u001b[0m \u001b[0my\u001b[0m \u001b[0;34m=\u001b[0m \u001b[0my\u001b[0m\u001b[0;34m.\u001b[0m\u001b[0mreset_index\u001b[0m\u001b[0;34m(\u001b[0m\u001b[0mdrop\u001b[0m\u001b[0;34m=\u001b[0m\u001b[0;32mTrue\u001b[0m\u001b[0;34m)\u001b[0m\u001b[0;34m\u001b[0m\u001b[0;34m\u001b[0m\u001b[0m\n\u001b[1;32m      4\u001b[0m \u001b[0;31m# train-test split\u001b[0m\u001b[0;34m\u001b[0m\u001b[0;34m\u001b[0m\u001b[0m\n\u001b[1;32m      5\u001b[0m \u001b[0mX_train\u001b[0m\u001b[0;34m,\u001b[0m \u001b[0mX_val\u001b[0m\u001b[0;34m,\u001b[0m \u001b[0my_train\u001b[0m\u001b[0;34m,\u001b[0m \u001b[0my_val\u001b[0m \u001b[0;34m=\u001b[0m \u001b[0mtrain_test_split\u001b[0m\u001b[0;34m(\u001b[0m\u001b[0mtrain\u001b[0m\u001b[0;34m,\u001b[0m\u001b[0my\u001b[0m\u001b[0;34m,\u001b[0m\u001b[0mtest_size\u001b[0m\u001b[0;34m=\u001b[0m\u001b[0;36m0.2\u001b[0m\u001b[0;34m,\u001b[0m\u001b[0mrandom_state\u001b[0m\u001b[0;34m=\u001b[0m\u001b[0;36m2\u001b[0m\u001b[0;34m)\u001b[0m\u001b[0;34m\u001b[0m\u001b[0;34m\u001b[0m\u001b[0m\n",
      "\u001b[0;31mNameError\u001b[0m: name 'train' is not defined"
     ]
    }
   ],
   "source": [
    "train = train.reset_index(drop=True)\n",
    "test = test.reset_index(drop=True)\n",
    "y = y.reset_index(drop=True)\n",
    "# train-test split\n",
    "X_train, X_val, y_train, y_val = train_test_split(train,y,test_size=0.2,random_state=2)\n",
    "print(X_train.shape,y_train.shape)\n",
    "print(X_val.shape,y_val.shape)"
   ]
  },
  {
   "cell_type": "code",
   "execution_count": 30,
   "id": "8cbde72e",
   "metadata": {
    "execution": {
     "iopub.execute_input": "2023-10-10T06:33:22.190542Z",
     "iopub.status.busy": "2023-10-10T06:33:22.189856Z",
     "iopub.status.idle": "2023-10-10T06:40:49.972838Z",
     "shell.execute_reply": "2023-10-10T06:40:49.972073Z"
    },
    "papermill": {
     "duration": 447.916495,
     "end_time": "2023-10-10T06:40:50.040305",
     "exception": false,
     "start_time": "2023-10-10T06:33:22.123810",
     "status": "completed"
    },
    "tags": []
   },
   "outputs": [
    {
     "ename": "NameError",
     "evalue": "name 'LGBMRegressor' is not defined",
     "output_type": "error",
     "traceback": [
      "\u001b[0;31m---------------------------------------------------------------------------\u001b[0m",
      "\u001b[0;31mNameError\u001b[0m                                 Traceback (most recent call last)",
      "\u001b[0;32m/var/folders/cs/wy7g8nw52_bcg4mp53wnz8700000gn/T/ipykernel_52599/581610173.py\u001b[0m in \u001b[0;36m<module>\u001b[0;34m\u001b[0m\n\u001b[1;32m      1\u001b[0m regressors = {\n\u001b[0;32m----> 2\u001b[0;31m     \u001b[0;34m\"LGBM1\"\u001b[0m \u001b[0;34m:\u001b[0m \u001b[0mLGBMRegressor\u001b[0m\u001b[0;34m(\u001b[0m\u001b[0mrandom_state\u001b[0m\u001b[0;34m=\u001b[0m\u001b[0;36m2\u001b[0m\u001b[0;34m)\u001b[0m\u001b[0;34m,\u001b[0m\u001b[0;34m\u001b[0m\u001b[0;34m\u001b[0m\u001b[0m\n\u001b[0m\u001b[1;32m      3\u001b[0m     \u001b[0;34m\"LGBM2\"\u001b[0m \u001b[0;34m:\u001b[0m \u001b[0mLGBMRegressor\u001b[0m\u001b[0;34m(\u001b[0m\u001b[0mrandom_state\u001b[0m\u001b[0;34m=\u001b[0m\u001b[0;36m2\u001b[0m\u001b[0;34m)\u001b[0m\u001b[0;34m\u001b[0m\u001b[0;34m\u001b[0m\u001b[0m\n\u001b[1;32m      4\u001b[0m }\n\u001b[1;32m      5\u001b[0m \u001b[0;34m\u001b[0m\u001b[0m\n",
      "\u001b[0;31mNameError\u001b[0m: name 'LGBMRegressor' is not defined"
     ]
    }
   ],
   "source": [
    "regressors = {\n",
    "    \"LGBM1\" : LGBMRegressor(random_state=2),\n",
    "    \"LGBM2\" : LGBMRegressor(random_state=2)\n",
    "}\n",
    "\n",
    "## Grids for randomized search\n",
    "lgbm_grid1 = {\n",
    "        'n_estimators': np.arange(100, 1000, 100),\n",
    "        'learning_rate': np.arange(0.01, 0.3, 0.01),\n",
    "        'max_depth': np.arange(3, 11),\n",
    "        'subsample': np.arange(0.6, 1.0, 0.05),\n",
    "        'colsample_bytree': np.arange(0.6, 1.0, 0.05),\n",
    "        'reg_alpha': np.arange(0.0, 1.0, 0.1),\n",
    "        'reg_lambda': np.arange(0.0, 1.0, 0.1),\n",
    "        }\n",
    "\n",
    "lgbm_grid2 = {\n",
    "        'n_estimators': np.arange(100, 1000, 200),\n",
    "        'learning_rate': np.arange(0.01, 0.3, 0.05),\n",
    "        'max_depth': np.arange(3, 11),\n",
    "        'subsample': np.arange(0.6, 1.0, 0.1),\n",
    "        'colsample_bytree': np.arange(0.6, 1.0, 0.1),\n",
    "        'reg_alpha': np.arange(0.0, 1.0, 0.2),\n",
    "        'reg_lambda': np.arange(0.0, 1.0, 0.2),\n",
    "}\n",
    "\n",
    "\n",
    "# # Dictionary of all grids\n",
    "grid = {\n",
    "    \"LGBM1\" : lgbm_grid1,\n",
    "    \"LGBM2\" : lgbm_grid2,\n",
    "}\n",
    "\n",
    "\n",
    "reg_best_params=regressors.copy() #store best parameters\n",
    "valid_scores=pd.DataFrame({'Regressors':regressors.keys(),\n",
    "                           'Validation accuracy': np.zeros(len(regressors)),\n",
    "                           'Training time': np.zeros(len(regressors))})\n",
    "\n",
    "for i , (key, regressor) in enumerate(regressors.items()):\n",
    "    start = time.time()\n",
    "    reg = RandomizedSearchCV(estimator=regressor, param_distributions=grid[key], n_jobs=-1, cv=2,verbose=1,n_iter=3)\n",
    "\n",
    "    # Train and save the scores\n",
    "    reg.fit(X_train, y_train)\n",
    "    valid_scores.iloc[i,1]=reg.score(X_val, y_val)\n",
    "\n",
    "    # Save best parameters of trained model\n",
    "    reg_best_params[key]=reg.best_params_\n",
    "    \n",
    "    # Print iteration and training time\n",
    "    stop = time.time()\n",
    "    valid_scores.iloc[i,2]=np.round((stop - start)/60, 2)\n",
    "    \n",
    "    print('Model:', key)\n",
    "    print('Training time (mins):', valid_scores.iloc[i,2])\n",
    "    print('')"
   ]
  },
  {
   "cell_type": "code",
   "execution_count": 31,
   "id": "86abdb70",
   "metadata": {
    "execution": {
     "iopub.execute_input": "2023-10-10T06:40:50.172617Z",
     "iopub.status.busy": "2023-10-10T06:40:50.172256Z",
     "iopub.status.idle": "2023-10-10T06:40:50.183031Z",
     "shell.execute_reply": "2023-10-10T06:40:50.181988Z"
    },
    "papermill": {
     "duration": 0.079596,
     "end_time": "2023-10-10T06:40:50.185451",
     "exception": false,
     "start_time": "2023-10-10T06:40:50.105855",
     "status": "completed"
    },
    "tags": []
   },
   "outputs": [
    {
     "ename": "NameError",
     "evalue": "name 'valid_scores' is not defined",
     "output_type": "error",
     "traceback": [
      "\u001b[0;31m---------------------------------------------------------------------------\u001b[0m",
      "\u001b[0;31mNameError\u001b[0m                                 Traceback (most recent call last)",
      "\u001b[0;32m/var/folders/cs/wy7g8nw52_bcg4mp53wnz8700000gn/T/ipykernel_52599/1963568360.py\u001b[0m in \u001b[0;36m<module>\u001b[0;34m\u001b[0m\n\u001b[0;32m----> 1\u001b[0;31m \u001b[0mvalid_scores\u001b[0m\u001b[0;34m\u001b[0m\u001b[0;34m\u001b[0m\u001b[0m\n\u001b[0m",
      "\u001b[0;31mNameError\u001b[0m: name 'valid_scores' is not defined"
     ]
    }
   ],
   "source": [
    "valid_scores"
   ]
  },
  {
   "cell_type": "code",
   "execution_count": 32,
   "id": "fd80d0d9",
   "metadata": {
    "execution": {
     "iopub.execute_input": "2023-10-10T06:40:50.319415Z",
     "iopub.status.busy": "2023-10-10T06:40:50.318695Z",
     "iopub.status.idle": "2023-10-10T06:40:50.323514Z",
     "shell.execute_reply": "2023-10-10T06:40:50.322878Z"
    },
    "papermill": {
     "duration": 0.073738,
     "end_time": "2023-10-10T06:40:50.325569",
     "exception": false,
     "start_time": "2023-10-10T06:40:50.251831",
     "status": "completed"
    },
    "tags": []
   },
   "outputs": [
    {
     "ename": "NameError",
     "evalue": "name 'LGBMRegressor' is not defined",
     "output_type": "error",
     "traceback": [
      "\u001b[0;31m---------------------------------------------------------------------------\u001b[0m",
      "\u001b[0;31mNameError\u001b[0m                                 Traceback (most recent call last)",
      "\u001b[0;32m/var/folders/cs/wy7g8nw52_bcg4mp53wnz8700000gn/T/ipykernel_52599/2791154324.py\u001b[0m in \u001b[0;36m<module>\u001b[0;34m\u001b[0m\n\u001b[1;32m      1\u001b[0m \u001b[0;31m#  regressors\u001b[0m\u001b[0;34m\u001b[0m\u001b[0;34m\u001b[0m\u001b[0m\n\u001b[1;32m      2\u001b[0m regressors = {\n\u001b[0;32m----> 3\u001b[0;31m     \u001b[0;34m\"LGBM1\"\u001b[0m \u001b[0;34m:\u001b[0m \u001b[0mLGBMRegressor\u001b[0m\u001b[0;34m(\u001b[0m\u001b[0;34m**\u001b[0m\u001b[0mreg_best_params\u001b[0m\u001b[0;34m[\u001b[0m\u001b[0;34m\"LGBM1\"\u001b[0m\u001b[0;34m]\u001b[0m\u001b[0;34m,\u001b[0m \u001b[0mrandom_state\u001b[0m\u001b[0;34m=\u001b[0m\u001b[0;36m2\u001b[0m\u001b[0;34m)\u001b[0m\u001b[0;34m,\u001b[0m\u001b[0;34m\u001b[0m\u001b[0;34m\u001b[0m\u001b[0m\n\u001b[0m\u001b[1;32m      4\u001b[0m     \u001b[0;34m\"LGBM2\"\u001b[0m \u001b[0;34m:\u001b[0m \u001b[0mLGBMRegressor\u001b[0m\u001b[0;34m(\u001b[0m\u001b[0;34m**\u001b[0m\u001b[0mreg_best_params\u001b[0m\u001b[0;34m[\u001b[0m\u001b[0;34m\"LGBM2\"\u001b[0m\u001b[0;34m]\u001b[0m\u001b[0;34m,\u001b[0m \u001b[0mrandom_state\u001b[0m\u001b[0;34m=\u001b[0m\u001b[0;36m2\u001b[0m\u001b[0;34m)\u001b[0m\u001b[0;34m\u001b[0m\u001b[0;34m\u001b[0m\u001b[0m\n\u001b[1;32m      5\u001b[0m }\n",
      "\u001b[0;31mNameError\u001b[0m: name 'LGBMRegressor' is not defined"
     ]
    }
   ],
   "source": [
    "#  regressors\n",
    "regressors = {\n",
    "    \"LGBM1\" : LGBMRegressor(**reg_best_params[\"LGBM1\"], random_state=2),\n",
    "    \"LGBM2\" : LGBMRegressor(**reg_best_params[\"LGBM2\"], random_state=2)\n",
    "}"
   ]
  },
  {
   "cell_type": "code",
   "execution_count": 33,
   "id": "f8c93188",
   "metadata": {
    "execution": {
     "iopub.execute_input": "2023-10-10T06:40:50.459323Z",
     "iopub.status.busy": "2023-10-10T06:40:50.458572Z",
     "iopub.status.idle": "2023-10-10T06:45:50.486525Z",
     "shell.execute_reply": "2023-10-10T06:45:50.485361Z"
    },
    "papermill": {
     "duration": 300.159687,
     "end_time": "2023-10-10T06:45:50.550114",
     "exception": false,
     "start_time": "2023-10-10T06:40:50.390427",
     "status": "completed"
    },
    "tags": []
   },
   "outputs": [
    {
     "ename": "NameError",
     "evalue": "name 'regressors' is not defined",
     "output_type": "error",
     "traceback": [
      "\u001b[0;31m---------------------------------------------------------------------------\u001b[0m",
      "\u001b[0;31mNameError\u001b[0m                                 Traceback (most recent call last)",
      "\u001b[0;32m/var/folders/cs/wy7g8nw52_bcg4mp53wnz8700000gn/T/ipykernel_52599/1592641808.py\u001b[0m in \u001b[0;36m<module>\u001b[0;34m\u001b[0m\n\u001b[1;32m      1\u001b[0m \u001b[0;31m# Stacking ensemble technique - a method for combining estimators to reduce their biases.More precisely, the predictions of each individual estimator are stacked together and used as input to a final estimator to compute the prediction. This final estimator is trained through cross-validation.\u001b[0m\u001b[0;34m\u001b[0m\u001b[0;34m\u001b[0m\u001b[0m\n\u001b[0;32m----> 2\u001b[0;31m \u001b[0mestimators\u001b[0m \u001b[0;34m=\u001b[0m \u001b[0;34m[\u001b[0m\u001b[0;34m(\u001b[0m\u001b[0;34m'lgbm1'\u001b[0m\u001b[0;34m,\u001b[0m \u001b[0mregressors\u001b[0m\u001b[0;34m[\u001b[0m\u001b[0;34m'LGBM1'\u001b[0m\u001b[0;34m]\u001b[0m\u001b[0;34m)\u001b[0m\u001b[0;34m]\u001b[0m\u001b[0;34m\u001b[0m\u001b[0;34m\u001b[0m\u001b[0m\n\u001b[0m\u001b[1;32m      3\u001b[0m \u001b[0mfinal_estimator\u001b[0m \u001b[0;34m=\u001b[0m \u001b[0mregressors\u001b[0m\u001b[0;34m[\u001b[0m\u001b[0;34m'LGBM2'\u001b[0m\u001b[0;34m]\u001b[0m\u001b[0;34m\u001b[0m\u001b[0;34m\u001b[0m\u001b[0m\n\u001b[1;32m      4\u001b[0m model = StackingRegressor(\n\u001b[1;32m      5\u001b[0m     \u001b[0mestimators\u001b[0m\u001b[0;34m=\u001b[0m\u001b[0mestimators\u001b[0m\u001b[0;34m,\u001b[0m\u001b[0;34m\u001b[0m\u001b[0;34m\u001b[0m\u001b[0m\n",
      "\u001b[0;31mNameError\u001b[0m: name 'regressors' is not defined"
     ]
    }
   ],
   "source": [
    "# Stacking ensemble technique - a method for combining estimators to reduce their biases.More precisely, the predictions of each individual estimator are stacked together and used as input to a final estimator to compute the prediction. This final estimator is trained through cross-validation.\n",
    "estimators = [('lgbm1', regressors['LGBM1'])]\n",
    "final_estimator = regressors['LGBM2']\n",
    "model = StackingRegressor(\n",
    "    estimators=estimators,\n",
    "    final_estimator=final_estimator,verbose=1,n_jobs=-1,cv=5)\n",
    "\n",
    "# train model\n",
    "model.fit(X_train,y_train)"
   ]
  },
  {
   "cell_type": "code",
   "execution_count": 34,
   "id": "333848c3",
   "metadata": {
    "execution": {
     "iopub.execute_input": "2023-10-10T06:45:50.692192Z",
     "iopub.status.busy": "2023-10-10T06:45:50.691802Z",
     "iopub.status.idle": "2023-10-10T06:46:12.100760Z",
     "shell.execute_reply": "2023-10-10T06:46:12.099934Z"
    },
    "papermill": {
     "duration": 21.48104,
     "end_time": "2023-10-10T06:46:12.103063",
     "exception": false,
     "start_time": "2023-10-10T06:45:50.622023",
     "status": "completed"
    },
    "tags": []
   },
   "outputs": [
    {
     "ename": "NameError",
     "evalue": "name 'model' is not defined",
     "output_type": "error",
     "traceback": [
      "\u001b[0;31m---------------------------------------------------------------------------\u001b[0m",
      "\u001b[0;31mNameError\u001b[0m                                 Traceback (most recent call last)",
      "\u001b[0;32m/var/folders/cs/wy7g8nw52_bcg4mp53wnz8700000gn/T/ipykernel_52599/228362220.py\u001b[0m in \u001b[0;36m<module>\u001b[0;34m\u001b[0m\n\u001b[0;32m----> 1\u001b[0;31m \u001b[0mprint\u001b[0m\u001b[0;34m(\u001b[0m\u001b[0;34m'Accuracy of model on Validation samples: '\u001b[0m\u001b[0;34m,\u001b[0m\u001b[0mmodel\u001b[0m\u001b[0;34m.\u001b[0m\u001b[0mscore\u001b[0m\u001b[0;34m(\u001b[0m\u001b[0mX_val\u001b[0m\u001b[0;34m,\u001b[0m\u001b[0my_val\u001b[0m\u001b[0;34m)\u001b[0m\u001b[0;34m)\u001b[0m\u001b[0;34m\u001b[0m\u001b[0;34m\u001b[0m\u001b[0m\n\u001b[0m\u001b[1;32m      2\u001b[0m \u001b[0mfinal_pred\u001b[0m \u001b[0;34m=\u001b[0m \u001b[0mmodel\u001b[0m\u001b[0;34m.\u001b[0m\u001b[0mpredict\u001b[0m\u001b[0;34m(\u001b[0m\u001b[0mtest\u001b[0m\u001b[0;34m)\u001b[0m\u001b[0;34m\u001b[0m\u001b[0;34m\u001b[0m\u001b[0m\n\u001b[1;32m      3\u001b[0m \u001b[0mpred\u001b[0m \u001b[0;34m=\u001b[0m \u001b[0mnp\u001b[0m\u001b[0;34m.\u001b[0m\u001b[0mexp\u001b[0m\u001b[0;34m(\u001b[0m\u001b[0mfinal_pred\u001b[0m\u001b[0;34m)\u001b[0m\u001b[0;34m\u001b[0m\u001b[0;34m\u001b[0m\u001b[0m\n",
      "\u001b[0;31mNameError\u001b[0m: name 'model' is not defined"
     ]
    }
   ],
   "source": [
    "print('Accuracy of model on Validation samples: ',model.score(X_val,y_val))\n",
    "final_pred = model.predict(test)\n",
    "pred = np.exp(final_pred)"
   ]
  },
  {
   "cell_type": "code",
   "execution_count": 35,
   "id": "50d5bc9f",
   "metadata": {
    "execution": {
     "iopub.execute_input": "2023-10-10T06:46:12.243954Z",
     "iopub.status.busy": "2023-10-10T06:46:12.243154Z",
     "iopub.status.idle": "2023-10-10T06:46:14.036159Z",
     "shell.execute_reply": "2023-10-10T06:46:14.035206Z"
    },
    "papermill": {
     "duration": 1.868185,
     "end_time": "2023-10-10T06:46:14.038698",
     "exception": false,
     "start_time": "2023-10-10T06:46:12.170513",
     "status": "completed"
    },
    "tags": []
   },
   "outputs": [
    {
     "ename": "NameError",
     "evalue": "name 'test_id' is not defined",
     "output_type": "error",
     "traceback": [
      "\u001b[0;31m---------------------------------------------------------------------------\u001b[0m",
      "\u001b[0;31mNameError\u001b[0m                                 Traceback (most recent call last)",
      "\u001b[0;32m/var/folders/cs/wy7g8nw52_bcg4mp53wnz8700000gn/T/ipykernel_52599/2689522569.py\u001b[0m in \u001b[0;36m<module>\u001b[0;34m\u001b[0m\n\u001b[1;32m      1\u001b[0m \u001b[0;31m# submission\u001b[0m\u001b[0;34m\u001b[0m\u001b[0;34m\u001b[0m\u001b[0m\n\u001b[1;32m      2\u001b[0m submission = pd.DataFrame({\n\u001b[0;32m----> 3\u001b[0;31m     \u001b[0;34m'id'\u001b[0m\u001b[0;34m:\u001b[0m \u001b[0mtest_id\u001b[0m\u001b[0;34m.\u001b[0m\u001b[0mvalues\u001b[0m\u001b[0;34m,\u001b[0m\u001b[0;34m\u001b[0m\u001b[0;34m\u001b[0m\u001b[0m\n\u001b[0m\u001b[1;32m      4\u001b[0m     'trip_duration': pred})\n\u001b[1;32m      5\u001b[0m \u001b[0;34m\u001b[0m\u001b[0m\n",
      "\u001b[0;31mNameError\u001b[0m: name 'test_id' is not defined"
     ]
    }
   ],
   "source": [
    "# submission\n",
    "submission = pd.DataFrame({\n",
    "    'id': test_id.values,\n",
    "    'trip_duration': pred})\n",
    "\n",
    "submission.to_csv('submission.csv')"
   ]
  },
  {
   "cell_type": "code",
   "execution_count": null,
   "id": "2a80f873",
   "metadata": {
    "papermill": {
     "duration": 0.069176,
     "end_time": "2023-10-10T06:46:14.175244",
     "exception": false,
     "start_time": "2023-10-10T06:46:14.106068",
     "status": "completed"
    },
    "tags": []
   },
   "outputs": [],
   "source": []
  },
  {
   "cell_type": "code",
   "execution_count": null,
   "id": "d0479ce0",
   "metadata": {
    "papermill": {
     "duration": 0.068621,
     "end_time": "2023-10-10T06:46:14.312815",
     "exception": false,
     "start_time": "2023-10-10T06:46:14.244194",
     "status": "completed"
    },
    "tags": []
   },
   "outputs": [],
   "source": []
  },
  {
   "cell_type": "code",
   "execution_count": null,
   "id": "481627f1",
   "metadata": {
    "papermill": {
     "duration": 0.06802,
     "end_time": "2023-10-10T06:46:14.447893",
     "exception": false,
     "start_time": "2023-10-10T06:46:14.379873",
     "status": "completed"
    },
    "tags": []
   },
   "outputs": [],
   "source": []
  },
  {
   "cell_type": "code",
   "execution_count": null,
   "id": "4b331bef",
   "metadata": {},
   "outputs": [],
   "source": []
  },
  {
   "cell_type": "code",
   "execution_count": null,
   "id": "f57b4b30",
   "metadata": {},
   "outputs": [],
   "source": []
  }
 ],
 "metadata": {
  "kernelspec": {
   "display_name": "Python 3 (ipykernel)",
   "language": "python",
   "name": "python3"
  },
  "language_info": {
   "codemirror_mode": {
    "name": "ipython",
    "version": 3
   },
   "file_extension": ".py",
   "mimetype": "text/x-python",
   "name": "python",
   "nbconvert_exporter": "python",
   "pygments_lexer": "ipython3",
   "version": "3.9.13"
  },
  "papermill": {
   "default_parameters": {},
   "duration": 1054.641693,
   "end_time": "2023-10-10T06:46:15.942988",
   "environment_variables": {},
   "exception": null,
   "input_path": "__notebook__.ipynb",
   "output_path": "__notebook__.ipynb",
   "parameters": {},
   "start_time": "2023-10-10T06:28:41.301295",
   "version": "2.4.0"
  },
  "vscode": {
   "interpreter": {
    "hash": "05ea5520501cf98c325fa6458f6bd05830e69712710c68f1e83fe1241751ce69"
   }
  }
 },
 "nbformat": 4,
 "nbformat_minor": 5
}
